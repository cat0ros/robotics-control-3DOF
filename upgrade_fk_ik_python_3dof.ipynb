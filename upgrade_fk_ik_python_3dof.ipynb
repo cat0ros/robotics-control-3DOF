{
  "nbformat": 4,
  "nbformat_minor": 0,
  "metadata": {
    "colab": {
      "provenance": [],
      "authorship_tag": "ABX9TyPv/nSD9BuvHxNQz/IHq02y",
      "include_colab_link": true
    },
    "kernelspec": {
      "name": "python3",
      "display_name": "Python 3"
    },
    "language_info": {
      "name": "python"
    }
  },
  "cells": [
    {
      "cell_type": "markdown",
      "metadata": {
        "id": "view-in-github",
        "colab_type": "text"
      },
      "source": [
        "<a href=\"https://colab.research.google.com/github/cat0ros/robotics-control-3DOF/blob/master/upgrade_fk_ik_python_3dof.ipynb\" target=\"_parent\"><img src=\"https://colab.research.google.com/assets/colab-badge.svg\" alt=\"Open In Colab\"/></a>"
      ]
    },
    {
      "cell_type": "markdown",
      "source": [
        "# Домашнее задание по управлению роботами №1\n",
        "Выполнил: Романов Ростислав, группа: АДБ-20-09\n",
        "\n",
        "<img src= \"https://drive.google.com/uc?export=view&id=1PpzfCIzka8X_ljyS4piV1AKeBfmu2AZ3\" alt=\"inverse\" width=\"400\" />\n",
        "\n",
        "***Рисунок 1: Пространственное представление схемы манипулятора***\n",
        "\n",
        "<img src= \"https://drive.google.com/uc?export=view&id=1zDL-aUGP3qxmC3ibMRZ7z9wZ6hDe7knu\" alt=\"inverse\" width=\"400\" />\n",
        "\n",
        "***Рисунок 2: Кинематическая схема манипулятора***"
      ],
      "metadata": {
        "id": "6SwnfPVIErN4"
      }
    },
    {
      "cell_type": "markdown",
      "source": [
        "## Параметры и описание робота\n",
        "Длины звеньев робота:"
      ],
      "metadata": {
        "id": "hB1gYlU9JzvL"
      }
    },
    {
      "cell_type": "code",
      "source": [
        "links_length = [1.5, 1.3, 2.2]"
      ],
      "metadata": {
        "id": "ra1yJikgM7sE"
      },
      "execution_count": null,
      "outputs": []
    },
    {
      "cell_type": "markdown",
      "source": [
        "## Библиотеки для работы"
      ],
      "metadata": {
        "id": "94P6phCPHZgH"
      }
    },
    {
      "cell_type": "code",
      "execution_count": null,
      "metadata": {
        "id": "CUjvmxeX5r7S"
      },
      "outputs": [],
      "source": [
        "from matplotlib import pyplot as plt\n",
        "from matplotlib import animation\n",
        "import numpy as np\n",
        "from numpy.linalg import inv\n",
        "import math\n",
        "import sympy as sp\n",
        "from IPython.display import HTML, Math, Latex\n",
        "%matplotlib notebook"
      ]
    },
    {
      "cell_type": "markdown",
      "source": [
        "## Решение прямой задачи кинематики\n",
        "**Составление DH-матриц**\n",
        "\n",
        "Матрица Денавита-Хартенберга:\n",
        "\n",
        "<img src= \"https://wikimedia.org/api/rest_v1/media/math/render/svg/6963d0c47a3a894ff0719c8df348d188b996074e\" alt=\"inverse\" width=\"400\" />"
      ],
      "metadata": {
        "id": "_iv-I3MTEcW6"
      }
    },
    {
      "cell_type": "markdown",
      "source": [
        "Функции вычисления матриц преобразований:"
      ],
      "metadata": {
        "id": "SNRTrbwQ78DZ"
      }
    },
    {
      "cell_type": "code",
      "source": [
        "def rz(a):\n",
        "    return sp.Matrix([\n",
        "        [sp.cos(a), -sp.sin(a), 0, 0],\n",
        "        [sp.sin(a), sp.cos(a), 0, 0],\n",
        "        [0, 0, 1, 0],\n",
        "        [0, 0, 0, 1]\n",
        "    ])\n",
        "\n",
        "def ry(a):\n",
        "    return sp.Matrix([\n",
        "        [sp.cos(a), 0, sp.sin(a), 0],\n",
        "        [0, 1, 0, 0],\n",
        "        [-sp.sin(a), 0, sp.cos(a), 0],\n",
        "        [0, 0, 0, 1]\n",
        "    ])\n",
        "\n",
        "def rx(a):\n",
        "    return sp.Matrix([\n",
        "        [1, 0, 0, 0],\n",
        "        [0, sp.cos(a), -sp.sin(a), 0],\n",
        "        [0, sp.sin(a), sp.cos(a), 0],\n",
        "        [0, 0, 0, 1]\n",
        "    ])\n",
        "\n",
        "def trs(x, y, z):\n",
        "    return sp.Matrix([\n",
        "        [1, 0, 0, x],\n",
        "        [0, 1, 0, y],\n",
        "        [0, 0, 1, z],\n",
        "        [0, 0, 0, 1]\n",
        "    ])\n",
        "\n",
        "def vec(x, y, z):\n",
        "    return sp.Matrix([\n",
        "        [x],\n",
        "        [y],\n",
        "        [z],\n",
        "        [1]\n",
        "    ])\n",
        "\n",
        "def dh(theta, d, alpha, a):\n",
        "    return rz(theta) * trs(0, 0, d) * rx(alpha) * trs(a, 0, 0)"
      ],
      "metadata": {
        "id": "fpHxuiKe7_vS"
      },
      "execution_count": null,
      "outputs": []
    },
    {
      "cell_type": "markdown",
      "source": [
        "\n",
        "Реализуем функцию, которая будет возвращать матрицу под соответствующие DH-параметры:"
      ],
      "metadata": {
        "id": "kQSiwrt05vpO"
      }
    },
    {
      "cell_type": "markdown",
      "source": [
        "Расставим системы координат и составим таблицу, а по ней итоговую матрицу преобразований:\n",
        "\n",
        "<img src= \"https://drive.google.com/uc?export=view&id=18EiOZVcCKHVvgkmfPqdece4xYVxcEvYH\" alt=\"inverse\" width=\"600\" />\n",
        "\n",
        "Заметим, что нулевое положение робота будет слева, тогда для изображения справа повернем вокруг оси Z концевую точку на 90 градусов в положительном направлении."
      ],
      "metadata": {
        "id": "NIs_uLa_yw1E"
      }
    },
    {
      "cell_type": "code",
      "source": [
        "def forward_kinematics(generilized, lengths, ret_all_dh=False):\n",
        "  theta1, d2, theta3 = generilized\n",
        "  len1, len2, len3 = lengths[0], lengths[1], lengths[2]\n",
        "  dh1 = dh(theta1 - sp.pi / 2, len1, -sp.pi / 2, 0)\n",
        "  dh2 = dh(sp.pi / 2, d2 + len2, sp.pi / 2, 0)\n",
        "  dh3 = dh(theta3 + sp.pi / 2, 0, 0, len3)\n",
        "\n",
        "  dh_op = dh1 * dh2 * dh3\n",
        "  if ret_all_dh:\n",
        "    return dh_op, dh1, dh2, dh3\n",
        "  else:\n",
        "    return dh_op"
      ],
      "metadata": {
        "id": "HLbD_euL4kOj"
      },
      "execution_count": null,
      "outputs": []
    },
    {
      "cell_type": "markdown",
      "source": [
        "Результирующая матрица для данной кинематической схемы:"
      ],
      "metadata": {
        "id": "ImzCpu0V8XZU"
      }
    },
    {
      "cell_type": "code",
      "source": [
        "my_generilizeds = (sp.symbols(\"theta_1\"), sp.symbols(\"d_2\"), sp.symbols(\"theta_3\"))\n",
        "lengths_sym = [sp.symbols(\"l_1\"), sp.symbols(\"l_2\"), sp.symbols(\"l_3\")]\n",
        "fk_syms_sol, fk_sym_dh1, fk_sym_dh2, fk_sym_dh3 = forward_kinematics(my_generilizeds, lengths_sym, True)\n",
        "\n",
        "fk_syms_sol"
      ],
      "metadata": {
        "colab": {
          "base_uri": "https://localhost:8080/",
          "height": 99
        },
        "id": "F4wRra9s8XFx",
        "outputId": "f3560696-f126-494d-9d5c-b2fd99964e94"
      },
      "execution_count": null,
      "outputs": [
        {
          "output_type": "execute_result",
          "data": {
            "text/plain": [
              "Matrix([\n",
              "[cos(theta_1)*cos(theta_3), -sin(theta_3)*cos(theta_1),  sin(theta_1), l_3*cos(theta_1)*cos(theta_3) + (d_2 + l_2)*cos(theta_1)],\n",
              "[sin(theta_1)*cos(theta_3), -sin(theta_1)*sin(theta_3), -cos(theta_1), l_3*sin(theta_1)*cos(theta_3) + (d_2 + l_2)*sin(theta_1)],\n",
              "[             sin(theta_3),               cos(theta_3),             0,                                   l_1 + l_3*sin(theta_3)],\n",
              "[                        0,                          0,             0,                                                        1]])"
            ],
            "text/latex": "$\\displaystyle \\left[\\begin{matrix}\\cos{\\left(\\theta_{1} \\right)} \\cos{\\left(\\theta_{3} \\right)} & - \\sin{\\left(\\theta_{3} \\right)} \\cos{\\left(\\theta_{1} \\right)} & \\sin{\\left(\\theta_{1} \\right)} & l_{3} \\cos{\\left(\\theta_{1} \\right)} \\cos{\\left(\\theta_{3} \\right)} + \\left(d_{2} + l_{2}\\right) \\cos{\\left(\\theta_{1} \\right)}\\\\\\sin{\\left(\\theta_{1} \\right)} \\cos{\\left(\\theta_{3} \\right)} & - \\sin{\\left(\\theta_{1} \\right)} \\sin{\\left(\\theta_{3} \\right)} & - \\cos{\\left(\\theta_{1} \\right)} & l_{3} \\sin{\\left(\\theta_{1} \\right)} \\cos{\\left(\\theta_{3} \\right)} + \\left(d_{2} + l_{2}\\right) \\sin{\\left(\\theta_{1} \\right)}\\\\\\sin{\\left(\\theta_{3} \\right)} & \\cos{\\left(\\theta_{3} \\right)} & 0 & l_{1} + l_{3} \\sin{\\left(\\theta_{3} \\right)}\\\\0 & 0 & 0 & 1\\end{matrix}\\right]$"
          },
          "metadata": {},
          "execution_count": 31
        }
      ]
    },
    {
      "cell_type": "markdown",
      "source": [
        "Первая матрица преобразований:"
      ],
      "metadata": {
        "id": "ZDY9oPuK85SO"
      }
    },
    {
      "cell_type": "code",
      "source": [
        "sp.simplify(fk_sym_dh1)"
      ],
      "metadata": {
        "colab": {
          "base_uri": "https://localhost:8080/",
          "height": 99
        },
        "id": "Vw24fB_o8yEP",
        "outputId": "0647f5d7-e1a0-4e69-d07c-facd002abef9"
      },
      "execution_count": null,
      "outputs": [
        {
          "output_type": "execute_result",
          "data": {
            "text/plain": [
              "Matrix([\n",
              "[ sin(theta_1),  0, cos(theta_1),   0],\n",
              "[-cos(theta_1),  0, sin(theta_1),   0],\n",
              "[            0, -1,            0, l_1],\n",
              "[            0,  0,            0,   1]])"
            ],
            "text/latex": "$\\displaystyle \\left[\\begin{matrix}\\sin{\\left(\\theta_{1} \\right)} & 0 & \\cos{\\left(\\theta_{1} \\right)} & 0\\\\- \\cos{\\left(\\theta_{1} \\right)} & 0 & \\sin{\\left(\\theta_{1} \\right)} & 0\\\\0 & -1 & 0 & l_{1}\\\\0 & 0 & 0 & 1\\end{matrix}\\right]$"
          },
          "metadata": {},
          "execution_count": 32
        }
      ]
    },
    {
      "cell_type": "markdown",
      "source": [
        "Вторая матрица преобразований:"
      ],
      "metadata": {
        "id": "Go5NS8ng881X"
      }
    },
    {
      "cell_type": "code",
      "source": [
        "sp.simplify(fk_sym_dh2)"
      ],
      "metadata": {
        "colab": {
          "base_uri": "https://localhost:8080/",
          "height": 99
        },
        "id": "8AmrUsvB80sS",
        "outputId": "e136b832-6180-46c5-c523-9c245b73d569"
      },
      "execution_count": null,
      "outputs": [
        {
          "output_type": "execute_result",
          "data": {
            "text/plain": [
              "Matrix([\n",
              "[0, 0, 1,         0],\n",
              "[1, 0, 0,         0],\n",
              "[0, 1, 0, d_2 + l_2],\n",
              "[0, 0, 0,         1]])"
            ],
            "text/latex": "$\\displaystyle \\left[\\begin{matrix}0 & 0 & 1 & 0\\\\1 & 0 & 0 & 0\\\\0 & 1 & 0 & d_{2} + l_{2}\\\\0 & 0 & 0 & 1\\end{matrix}\\right]$"
          },
          "metadata": {},
          "execution_count": 33
        }
      ]
    },
    {
      "cell_type": "markdown",
      "source": [
        "Третья матрица преобразований:"
      ],
      "metadata": {
        "id": "Vxb5wgPJ9AMj"
      }
    },
    {
      "cell_type": "code",
      "source": [
        "sp.simplify(fk_sym_dh3)"
      ],
      "metadata": {
        "colab": {
          "base_uri": "https://localhost:8080/",
          "height": 99
        },
        "id": "nKfY51GR82Xp",
        "outputId": "0bcd8309-5403-4bf2-f7b8-b61e4eccccc4"
      },
      "execution_count": null,
      "outputs": [
        {
          "output_type": "execute_result",
          "data": {
            "text/plain": [
              "Matrix([\n",
              "[-sin(theta_3), -cos(theta_3), 0, -l_3*sin(theta_3)],\n",
              "[ cos(theta_3), -sin(theta_3), 0,  l_3*cos(theta_3)],\n",
              "[            0,             0, 1,                 0],\n",
              "[            0,             0, 0,                 1]])"
            ],
            "text/latex": "$\\displaystyle \\left[\\begin{matrix}- \\sin{\\left(\\theta_{3} \\right)} & - \\cos{\\left(\\theta_{3} \\right)} & 0 & - l_{3} \\sin{\\left(\\theta_{3} \\right)}\\\\\\cos{\\left(\\theta_{3} \\right)} & - \\sin{\\left(\\theta_{3} \\right)} & 0 & l_{3} \\cos{\\left(\\theta_{3} \\right)}\\\\0 & 0 & 1 & 0\\\\0 & 0 & 0 & 1\\end{matrix}\\right]$"
          },
          "metadata": {},
          "execution_count": 34
        }
      ]
    },
    {
      "cell_type": "markdown",
      "source": [
        "Решим ПЗК для вектора обобщенных координат q = [30, 2.2, 90]"
      ],
      "metadata": {
        "id": "kOd-cxvs1xI7"
      }
    },
    {
      "cell_type": "code",
      "source": [
        "gens_test = (np.deg2rad(30), 2.2, np.deg2rad(90))\n",
        "fk_test_sol = forward_kinematics(gens_test, links_length)\n",
        "fk_test_sol"
      ],
      "metadata": {
        "colab": {
          "base_uri": "https://localhost:8080/",
          "height": 99
        },
        "id": "xhThNj449TdF",
        "outputId": "a85cbdd1-1169-487b-b37b-4b1b5e39a6ba"
      },
      "execution_count": null,
      "outputs": [
        {
          "output_type": "execute_result",
          "data": {
            "text/plain": [
              "Matrix([\n",
              "[5.30287619362453e-17,   -0.866025403784439,                0.5, 3.03108891324554],\n",
              "[3.06161699786838e-17,                 -0.5, -0.866025403784439,             1.75],\n",
              "[                 1.0, 6.12323399573677e-17,                  0,              3.7],\n",
              "[                   0,                    0,                  0,                1]])"
            ],
            "text/latex": "$\\displaystyle \\left[\\begin{matrix}5.30287619362453 \\cdot 10^{-17} & -0.866025403784439 & 0.5 & 3.03108891324554\\\\3.06161699786838 \\cdot 10^{-17} & -0.5 & -0.866025403784439 & 1.75\\\\1.0 & 6.12323399573677 \\cdot 10^{-17} & 0 & 3.7\\\\0 & 0 & 0 & 1\\end{matrix}\\right]$"
          },
          "metadata": {},
          "execution_count": 35
        }
      ]
    },
    {
      "cell_type": "markdown",
      "source": [
        "# Решение обратной задачи кинематики\n",
        "\n",
        "Рассмотрид вид сверху исходной кинематической схемы:\n",
        "\n",
        "<img src= \"https://drive.google.com/uc?export=view&id=16u0Gn5cK_Mwyt6NhC_CyctTbbU0kwyRr\" alt=\"inverse\" width=\"200\" />\n",
        "\n",
        "Заметим следующую зависимость:\n",
        "\n",
        "$$\\Theta_{1} = \\text{arctan2}(y_0, x_0)$$"
      ],
      "metadata": {
        "id": "lzXd-cYW0MlJ"
      }
    },
    {
      "cell_type": "markdown",
      "source": [
        "Не является возможным найти сразу решение для второй обобщенной координаты, так как нам неизвестна проекция длины третьего звена.\n",
        "\n",
        "Найдем ее по виду сбоку нашего манипулятора и найдем высоту обозначенную как b:\n",
        "\n",
        "<img src= \"https://drive.google.com/uc?export=view&id=1oQSe0p5Er6_KpYB8kVftatvfdA_2yEO7\" alt=\"inverse\" width=\"400\" />\n",
        "\n",
        "$$b = z - l_{1}$$"
      ],
      "metadata": {
        "id": "CinbB6ACBT3e"
      }
    },
    {
      "cell_type": "markdown",
      "source": [
        "Тогда становится известна проекция длины третьего звена на плоскость X0Y0:\n",
        "\n",
        "$$l_{3_{x_{0}y_{0}}} = l_{3}*cos(\\Theta_{3})$$"
      ],
      "metadata": {
        "id": "JWq2KgDTE-UZ"
      }
    },
    {
      "cell_type": "markdown",
      "source": [
        "Найдем этот угол:\n",
        "\n",
        "$$\\Theta_{3} = arcsin(\\frac{z - l1}{l3})$$\n",
        "\n",
        "$$\\Theta_{3} = \\pi - arcsin(\\frac{z - l1}{l3})$$"
      ],
      "metadata": {
        "id": "aUVsw8L9FzHY"
      }
    },
    {
      "cell_type": "markdown",
      "source": [
        "В результате мы получили два решения.\n",
        "\n",
        "Так как от найденного угла зависит проекция третьего звена на плоскость X0Y0, вычислим вторую обобщенную координату:\n",
        "\n",
        "$$d2 = \\sqrt{x_{0}^{2} + y_{0}^{2}} - l_{2} - l_{3} * cos(\\Theta_{3})$$"
      ],
      "metadata": {
        "id": "XnN9R3nSGPVv"
      }
    },
    {
      "cell_type": "markdown",
      "source": [
        "Аналитические выражения для решения ОЗК получены."
      ],
      "metadata": {
        "id": "R5lxHx4QJckL"
      }
    },
    {
      "cell_type": "code",
      "source": [
        "def IK(coordinates, lengths):\n",
        "  x, y, z = coordinates\n",
        "  l1, l2, l3 = lengths[0], lengths[1], lengths[2]\n",
        "  theta1 = sp.atan2(y, x)\n",
        "  theta3_1 = sp.asin((z - l1) / l3)\n",
        "  theta3_2 = sp.pi - sp.asin((z - l1) / l3)\n",
        "  theta3_sol = [theta3_1, theta3_2]\n",
        "  sqrt_xy = (x**2 + y**2)**(1/2)\n",
        "  l3_x0y0_1 = l3 * sp.cos(theta3_1)\n",
        "  l3_x0y0_2 = l3 * sp.cos(theta3_2)\n",
        "  d2_1 = sqrt_xy - l3_x0y0_1 - l2\n",
        "  d2_2 = sqrt_xy - l3_x0y0_2 - l2\n",
        "  d2_sol = [d2_1, d2_2]\n",
        "\n",
        "  for i in range(len(theta3_sol)):\n",
        "    q = [theta1, d2_sol[i], theta3_sol[i]]\n",
        "    yield q"
      ],
      "metadata": {
        "id": "FhxVSJ-nYaCE"
      },
      "execution_count": null,
      "outputs": []
    },
    {
      "cell_type": "markdown",
      "source": [
        "Решим прямую задачу кинематики для обобщенных координат: [30, 2.2, 90]"
      ],
      "metadata": {
        "id": "qDFR9MpvKDSg"
      }
    },
    {
      "cell_type": "code",
      "source": [
        "coords_test = (np.deg2rad(30), 2.2, np.deg2rad(90))\n",
        "fk_sol = forward_kinematics(coords_test, links_length)\n",
        "fk_sol"
      ],
      "metadata": {
        "colab": {
          "base_uri": "https://localhost:8080/",
          "height": 99
        },
        "id": "w6zdpupVCXyf",
        "outputId": "d34668a3-9680-48fc-ae18-3f653d59329e"
      },
      "execution_count": null,
      "outputs": [
        {
          "output_type": "execute_result",
          "data": {
            "text/plain": [
              "Matrix([\n",
              "[5.30287619362453e-17,   -0.866025403784439,                0.5, 3.03108891324554],\n",
              "[3.06161699786838e-17,                 -0.5, -0.866025403784439,             1.75],\n",
              "[                 1.0, 6.12323399573677e-17,                  0,              3.7],\n",
              "[                   0,                    0,                  0,                1]])"
            ],
            "text/latex": "$\\displaystyle \\left[\\begin{matrix}5.30287619362453 \\cdot 10^{-17} & -0.866025403784439 & 0.5 & 3.03108891324554\\\\3.06161699786838 \\cdot 10^{-17} & -0.5 & -0.866025403784439 & 1.75\\\\1.0 & 6.12323399573677 \\cdot 10^{-17} & 0 & 3.7\\\\0 & 0 & 0 & 1\\end{matrix}\\right]$"
          },
          "metadata": {},
          "execution_count": 70
        }
      ]
    },
    {
      "cell_type": "markdown",
      "source": [
        "Вычислим позицию концевой точки, домножив на вектор-столбец: [0,0,0,1]"
      ],
      "metadata": {
        "id": "bE8SsNS3LLGo"
      }
    },
    {
      "cell_type": "code",
      "source": [
        "tcp_pos = fk_sol * vec(0, 0, 0)\n",
        "tcp_pos"
      ],
      "metadata": {
        "id": "RXOcwppSII1r",
        "colab": {
          "base_uri": "https://localhost:8080/",
          "height": 99
        },
        "outputId": "e50e66e8-9f1c-4add-ba89-8103f8b75957"
      },
      "execution_count": null,
      "outputs": [
        {
          "output_type": "execute_result",
          "data": {
            "text/plain": [
              "Matrix([\n",
              "[3.03108891324554],\n",
              "[            1.75],\n",
              "[             3.7],\n",
              "[               1]])"
            ],
            "text/latex": "$\\displaystyle \\left[\\begin{matrix}3.03108891324554\\\\1.75\\\\3.7\\\\1\\end{matrix}\\right]$"
          },
          "metadata": {},
          "execution_count": 71
        }
      ]
    },
    {
      "cell_type": "code",
      "source": [
        "x_f, y_f, z_f = tcp_pos[0, 0], tcp_pos[1, 0], tcp_pos[2, 0]"
      ],
      "metadata": {
        "id": "QO9vhyveSEes"
      },
      "execution_count": null,
      "outputs": []
    },
    {
      "cell_type": "markdown",
      "source": [
        "Переберем все решения ОЗК для данной точки и запишем их. Решения ОЗК должны совпать с тем, что мы задавали вначале в функции ПЗК в качестве обобщенных координат. Задавали вектор: [30, 2.2, 90]"
      ],
      "metadata": {
        "id": "kZzLLsf1LTz4"
      }
    },
    {
      "cell_type": "code",
      "source": [
        "coords = (x_f, y_f, z_f)\n",
        "list_sols = [i for i in IK(coords, links_length)]\n",
        "for i in list_sols:\n",
        "  q1, q3 = sp.deg(i[0]), sp.deg(i[2])\n",
        "  print(q1.evalf(), i[1], q3.evalf())"
      ],
      "metadata": {
        "colab": {
          "base_uri": "https://localhost:8080/"
        },
        "id": "_2MxgLlDS2wU",
        "outputId": "bc422cc7-10ee-41e6-c5d6-2d58a404a7de"
      },
      "execution_count": null,
      "outputs": [
        {
          "output_type": "stream",
          "name": "stdout",
          "text": [
            "30.0000000000000 2.20000000000000 90.0000000000000\n",
            "30.0000000000000 2.20000000000000 90.0000000000000\n"
          ]
        }
      ]
    },
    {
      "cell_type": "markdown",
      "source": [
        "Пометка: для угла 90 градусов решение ОЗК в данном случае однозначно."
      ],
      "metadata": {
        "id": "k7QFy3hNYGkz"
      }
    },
    {
      "cell_type": "markdown",
      "source": [
        "Проверка выполнена.\n",
        "\n",
        "Подставим позицию конкретной точки и вычислим для нее ОЗК (в соответствии с вариантом): [0.4,0.3, 0.1]"
      ],
      "metadata": {
        "id": "GfnMwhitMFde"
      }
    },
    {
      "cell_type": "code",
      "source": [
        "hw_coords = (0.4, 0.3, 0.1)\n",
        "\n",
        "IK_variants = [i for i in IK(hw_coords, links_length)]\n",
        "for i in IK_variants:\n",
        "  q1, q3 = sp.deg(i[0]), sp.deg(i[2])\n",
        "  print(q1.evalf(), i[1], q3.evalf())"
      ],
      "metadata": {
        "colab": {
          "base_uri": "https://localhost:8080/"
        },
        "id": "BhDPnFflMQzd",
        "outputId": "94b96d4d-d2f6-4889-a525-0a5f76a92499"
      },
      "execution_count": null,
      "outputs": [
        {
          "output_type": "stream",
          "name": "stdout",
          "text": [
            "36.8698976458440 -2.49705627484771 -39.5211963586422\n",
            "36.8698976458440 0.897056274847714 219.521196358642\n"
          ]
        }
      ]
    },
    {
      "cell_type": "markdown",
      "source": [
        "# Прямая задача по скорости"
      ],
      "metadata": {
        "id": "jG0F4XLOqsoh"
      }
    },
    {
      "cell_type": "markdown",
      "source": [
        "Вычислим линейные составляющие скорости. Найдем частные производные и составим матрицу."
      ],
      "metadata": {
        "id": "CNoK9WrZjrKZ"
      }
    },
    {
      "cell_type": "code",
      "source": [
        "def Jv_calc(fk_solved, gens):\n",
        "  gripper_pose = fk_solved * vec(0, 0, 0)\n",
        "  x, y, z = gripper_pose[0], gripper_pose[1], gripper_pose[2]\n",
        "  coords = (x, y, z)\n",
        "  jacobi_matrix = sp.Matrix([[0,0,0],[0,0,0],[0,0,0]])\n",
        "  for i in range(len(coords)):\n",
        "    for j in range(len(gens)):\n",
        "      jacobi_matrix[i, j] = sp.diff(coords[i], gens[j])\n",
        "\n",
        "  return jacobi_matrix"
      ],
      "metadata": {
        "id": "G1c1aMIry2Wn"
      },
      "execution_count": null,
      "outputs": []
    },
    {
      "cell_type": "code",
      "source": [
        "Jv_ = Jv_calc(fk_syms_sol, my_generilizeds)"
      ],
      "metadata": {
        "id": "ErWC0MpH1txW"
      },
      "execution_count": null,
      "outputs": []
    },
    {
      "cell_type": "markdown",
      "source": [
        "Для вычисления угловой составляющей известно, что компонента для второго сочленения будет представлена вектор-столбцом состоящим из нулей.\n"
      ],
      "metadata": {
        "id": "bKboOgk1DDSr"
      }
    },
    {
      "cell_type": "code",
      "source": [
        "dw2 = sp.Matrix([[0], [0], [0]])"
      ],
      "metadata": {
        "id": "lAgqLoy958sD"
      },
      "execution_count": null,
      "outputs": []
    },
    {
      "cell_type": "markdown",
      "source": [
        "Компонента первой степени подвижности будет равна:\n",
        "\n"
      ],
      "metadata": {
        "id": "-UBrU9eMFBrY"
      }
    },
    {
      "cell_type": "code",
      "source": [
        "dw1 = sp.eye(3, 3) * sp.Matrix([[0], [0], [1]])"
      ],
      "metadata": {
        "id": "UHCeNG6JFJd0"
      },
      "execution_count": null,
      "outputs": []
    },
    {
      "cell_type": "code",
      "source": [
        "dw1"
      ],
      "metadata": {
        "colab": {
          "base_uri": "https://localhost:8080/",
          "height": 78
        },
        "id": "4zn6WGimFX-a",
        "outputId": "7101581d-2a25-41ef-85c5-6d4607f759bf"
      },
      "execution_count": null,
      "outputs": [
        {
          "output_type": "execute_result",
          "data": {
            "text/plain": [
              "Matrix([\n",
              "[0],\n",
              "[0],\n",
              "[1]])"
            ],
            "text/latex": "$\\displaystyle \\left[\\begin{matrix}0\\\\0\\\\1\\end{matrix}\\right]$"
          },
          "metadata": {},
          "execution_count": 112
        }
      ]
    },
    {
      "cell_type": "markdown",
      "source": [
        "Компонента третей степени подвижности:\n",
        "\n",
        "Найдем матрицу поворота второй системы координат (третей степени подвижности) относительно нулевой (известна на этапе решения ПЗК)"
      ],
      "metadata": {
        "id": "9svw5KU9Fvfl"
      }
    },
    {
      "cell_type": "code",
      "source": [
        "rm2 = fk_sym_dh1 * fk_sym_dh2\n",
        "rotate_m2 = rm2[0:3, 0:3]\n",
        "rotate_m2"
      ],
      "metadata": {
        "id": "O9AiayHMFZku",
        "colab": {
          "base_uri": "https://localhost:8080/",
          "height": 78
        },
        "outputId": "e9399ea0-9ea1-4b08-b78d-ae65d1b49bd2"
      },
      "execution_count": null,
      "outputs": [
        {
          "output_type": "execute_result",
          "data": {
            "text/plain": [
              "Matrix([\n",
              "[ 0, cos(theta_1),  sin(theta_1)],\n",
              "[ 0, sin(theta_1), -cos(theta_1)],\n",
              "[-1,            0,             0]])"
            ],
            "text/latex": "$\\displaystyle \\left[\\begin{matrix}0 & \\cos{\\left(\\theta_{1} \\right)} & \\sin{\\left(\\theta_{1} \\right)}\\\\0 & \\sin{\\left(\\theta_{1} \\right)} & - \\cos{\\left(\\theta_{1} \\right)}\\\\-1 & 0 & 0\\end{matrix}\\right]$"
          },
          "metadata": {},
          "execution_count": 113
        }
      ]
    },
    {
      "cell_type": "markdown",
      "source": [
        "Составим итоговую матрицу Якоби:"
      ],
      "metadata": {
        "id": "Y35nF4VMNQez"
      }
    },
    {
      "cell_type": "code",
      "source": [
        "Jtotal = sp.Matrix([\n",
        "    [Jv_],\n",
        "    [dw1, dw2, rotate_m2 * sp.Matrix([[0],[0],[1]])]\n",
        "])"
      ],
      "metadata": {
        "id": "8pk1pbgINK6J"
      },
      "execution_count": null,
      "outputs": []
    },
    {
      "cell_type": "code",
      "source": [
        "Jtotal"
      ],
      "metadata": {
        "colab": {
          "base_uri": "https://localhost:8080/",
          "height": 139
        },
        "id": "-7DwWF0KNbEc",
        "outputId": "6b15519b-2cff-4253-b587-9809ed9cebad"
      },
      "execution_count": null,
      "outputs": [
        {
          "output_type": "execute_result",
          "data": {
            "text/plain": [
              "Matrix([\n",
              "[-l_3*sin(theta_1)*cos(theta_3) - (d_2 + l_2)*sin(theta_1), cos(theta_1), -l_3*sin(theta_3)*cos(theta_1)],\n",
              "[ l_3*cos(theta_1)*cos(theta_3) + (d_2 + l_2)*cos(theta_1), sin(theta_1), -l_3*sin(theta_1)*sin(theta_3)],\n",
              "[                                                        0,            0,               l_3*cos(theta_3)],\n",
              "[                                                        0,            0,                   sin(theta_1)],\n",
              "[                                                        0,            0,                  -cos(theta_1)],\n",
              "[                                                        1,            0,                              0]])"
            ],
            "text/latex": "$\\displaystyle \\left[\\begin{matrix}- l_{3} \\sin{\\left(\\theta_{1} \\right)} \\cos{\\left(\\theta_{3} \\right)} - \\left(d_{2} + l_{2}\\right) \\sin{\\left(\\theta_{1} \\right)} & \\cos{\\left(\\theta_{1} \\right)} & - l_{3} \\sin{\\left(\\theta_{3} \\right)} \\cos{\\left(\\theta_{1} \\right)}\\\\l_{3} \\cos{\\left(\\theta_{1} \\right)} \\cos{\\left(\\theta_{3} \\right)} + \\left(d_{2} + l_{2}\\right) \\cos{\\left(\\theta_{1} \\right)} & \\sin{\\left(\\theta_{1} \\right)} & - l_{3} \\sin{\\left(\\theta_{1} \\right)} \\sin{\\left(\\theta_{3} \\right)}\\\\0 & 0 & l_{3} \\cos{\\left(\\theta_{3} \\right)}\\\\0 & 0 & \\sin{\\left(\\theta_{1} \\right)}\\\\0 & 0 & - \\cos{\\left(\\theta_{1} \\right)}\\\\1 & 0 & 0\\end{matrix}\\right]$"
          },
          "metadata": {},
          "execution_count": 115
        }
      ]
    },
    {
      "cell_type": "markdown",
      "source": [
        "## Обратная задача кинематики в скоростях"
      ],
      "metadata": {
        "id": "A9tOMp7wSSkc"
      }
    },
    {
      "cell_type": "markdown",
      "source": [
        "Найдем матрицу обратную матрице Якоби линейных скоростей:"
      ],
      "metadata": {
        "id": "EPtfY8qeUEQM"
      }
    },
    {
      "cell_type": "code",
      "source": [
        "Jv_inv = sp.simplify(Jv_.inv())\n",
        "Jv_inv"
      ],
      "metadata": {
        "colab": {
          "base_uri": "https://localhost:8080/",
          "height": 89
        },
        "id": "cfFPBwiSSWJ5",
        "outputId": "59dd3b06-f161-4f85-be75-ad4d7bc312c4"
      },
      "execution_count": null,
      "outputs": [
        {
          "output_type": "execute_result",
          "data": {
            "text/plain": [
              "Matrix([\n",
              "[-sin(theta_1)/(d_2 + l_2 + l_3*cos(theta_3)), cos(theta_1)/(d_2 + l_2 + l_3*cos(theta_3)),                    0],\n",
              "[                                cos(theta_1),                                sin(theta_1),         tan(theta_3)],\n",
              "[                                           0,                                           0, 1/(l_3*cos(theta_3))]])"
            ],
            "text/latex": "$\\displaystyle \\left[\\begin{matrix}- \\frac{\\sin{\\left(\\theta_{1} \\right)}}{d_{2} + l_{2} + l_{3} \\cos{\\left(\\theta_{3} \\right)}} & \\frac{\\cos{\\left(\\theta_{1} \\right)}}{d_{2} + l_{2} + l_{3} \\cos{\\left(\\theta_{3} \\right)}} & 0\\\\\\cos{\\left(\\theta_{1} \\right)} & \\sin{\\left(\\theta_{1} \\right)} & \\tan{\\left(\\theta_{3} \\right)}\\\\0 & 0 & \\frac{1}{l_{3} \\cos{\\left(\\theta_{3} \\right)}}\\end{matrix}\\right]$"
          },
          "metadata": {},
          "execution_count": 103
        }
      ]
    },
    {
      "cell_type": "code",
      "source": [
        "Vels = sp.Matrix([\n",
        "    [sp.symbols('V_x')],\n",
        "    [sp.symbols('V_y')],\n",
        "    [sp.symbols('V_z')]\n",
        "])"
      ],
      "metadata": {
        "id": "WH8AxUOrZ8Ge"
      },
      "execution_count": null,
      "outputs": []
    },
    {
      "cell_type": "markdown",
      "source": [
        "Общее решение ОЗК по скорости:"
      ],
      "metadata": {
        "id": "SiaCLmWccQVV"
      }
    },
    {
      "cell_type": "code",
      "source": [
        "ik_vels = sp.simplify(Jv_inv * Vels)\n",
        "ik_vels"
      ],
      "metadata": {
        "colab": {
          "base_uri": "https://localhost:8080/",
          "height": 89
        },
        "id": "wCOFWpUacM7k",
        "outputId": "54a93919-254f-4842-c9a3-d3727f4810a4"
      },
      "execution_count": null,
      "outputs": [
        {
          "output_type": "execute_result",
          "data": {
            "text/plain": [
              "Matrix([\n",
              "[(-V_x*sin(theta_1) + V_y*cos(theta_1))/(d_2 + l_2 + l_3*cos(theta_3))],\n",
              "[               V_x*cos(theta_1) + V_y*sin(theta_1) + V_z*tan(theta_3)],\n",
              "[                                               V_z/(l_3*cos(theta_3))]])"
            ],
            "text/latex": "$\\displaystyle \\left[\\begin{matrix}\\frac{- V_{x} \\sin{\\left(\\theta_{1} \\right)} + V_{y} \\cos{\\left(\\theta_{1} \\right)}}{d_{2} + l_{2} + l_{3} \\cos{\\left(\\theta_{3} \\right)}}\\\\V_{x} \\cos{\\left(\\theta_{1} \\right)} + V_{y} \\sin{\\left(\\theta_{1} \\right)} + V_{z} \\tan{\\left(\\theta_{3} \\right)}\\\\\\frac{V_{z}}{l_{3} \\cos{\\left(\\theta_{3} \\right)}}\\end{matrix}\\right]$"
          },
          "metadata": {},
          "execution_count": 116
        }
      ]
    },
    {
      "cell_type": "markdown",
      "source": [
        "Подставим решение ОЗК по варианту и скорости по варианту:"
      ],
      "metadata": {
        "id": "KWVCIzrJc3LS"
      }
    },
    {
      "cell_type": "code",
      "source": [
        "jv_sols = []\n",
        "for i in IK_variants:\n",
        "  Jv_inv__ = sp.Matrix(\n",
        "      [\n",
        "          [(sp.sin(sp.rad(i[0])) / (i[1] + links_length[1] + links_length[2] * sp.cos(sp.rad(i[2])))),\n",
        "          sp.cos(sp.rad(i[0])) / (i[1] + links_length[1] +links_length[2] * sp.cos(sp.rad(i[2]))),\n",
        "          0],\n",
        "          [\n",
        "            sp.cos(sp.rad(i[0])),  sp.sin(sp.rad(i[0])), sp.sin(sp.rad(i[2])) / sp.cos(sp.rad(i[0]))\n",
        "          ],\n",
        "          [0, 0, 1 / (links_length[2] * sp.cos(sp.rad(i[2])))]\n",
        "      ]\n",
        "  )\n",
        "  jv_sols.append(Jv_inv__)"
      ],
      "metadata": {
        "id": "I7s-mN74cS_R"
      },
      "execution_count": null,
      "outputs": []
    },
    {
      "cell_type": "code",
      "source": [
        "jv_sols[1].evalf()"
      ],
      "metadata": {
        "colab": {
          "base_uri": "https://localhost:8080/",
          "height": 78
        },
        "id": "zrf0Ji-hcykK",
        "outputId": "bd4580be-4d73-401f-9b4c-57d6c216b546"
      },
      "execution_count": null,
      "outputs": [
        {
          "output_type": "execute_result",
          "data": {
            "text/plain": [
              "Matrix([\n",
              "[0.00255706298634515,    0.2276651194445,                  0],\n",
              "[  0.999936930589248, 0.0112309769723537, 0.0668243702343456],\n",
              "[                  0,                  0,  0.455563622903216]])"
            ],
            "text/latex": "$\\displaystyle \\left[\\begin{matrix}0.00255706298634515 & 0.2276651194445 & 0\\\\0.999936930589248 & 0.0112309769723537 & 0.0668243702343456\\\\0 & 0 & 0.455563622903216\\end{matrix}\\right]$"
          },
          "metadata": {},
          "execution_count": 136
        }
      ]
    },
    {
      "cell_type": "code",
      "source": [
        "Vel_var = sp.Matrix([\n",
        "    [-0.1],\n",
        "    [0.5],\n",
        "    [0]\n",
        "])"
      ],
      "metadata": {
        "id": "F8gweYK3ekFl"
      },
      "execution_count": null,
      "outputs": []
    },
    {
      "cell_type": "markdown",
      "source": [
        "Ответ на ОЗК по скорости:"
      ],
      "metadata": {
        "id": "gKiqkH3ohMhJ"
      }
    },
    {
      "cell_type": "code",
      "source": [
        "(jv_sols[1] * Vel_var).evalf()"
      ],
      "metadata": {
        "colab": {
          "base_uri": "https://localhost:8080/",
          "height": 78
        },
        "id": "mP1O3Brng9wm",
        "outputId": "111b9f98-3748-49df-d0c5-f5b9862ad59b"
      },
      "execution_count": null,
      "outputs": [
        {
          "output_type": "execute_result",
          "data": {
            "text/plain": [
              "Matrix([\n",
              "[  0.113576853423616],\n",
              "[-0.0943782045727479],\n",
              "[                  0]])"
            ],
            "text/latex": "$\\displaystyle \\left[\\begin{matrix}0.113576853423616\\\\-0.0943782045727479\\\\0\\end{matrix}\\right]$"
          },
          "metadata": {},
          "execution_count": 138
        }
      ]
    },
    {
      "cell_type": "code",
      "source": [
        "(jv_sols[0] * Vel_var).evalf()"
      ],
      "metadata": {
        "colab": {
          "base_uri": "https://localhost:8080/",
          "height": 78
        },
        "id": "fin-maBAMz0f",
        "outputId": "b4fa7b64-72c4-496f-b308-97551e62e176"
      },
      "execution_count": null,
      "outputs": [
        {
          "output_type": "execute_result",
          "data": {
            "text/plain": [
              "Matrix([\n",
              "[  0.497460288957802],\n",
              "[-0.0943782045727479],\n",
              "[                  0]])"
            ],
            "text/latex": "$\\displaystyle \\left[\\begin{matrix}0.497460288957802\\\\-0.0943782045727479\\\\0\\end{matrix}\\right]$"
          },
          "metadata": {},
          "execution_count": 139
        }
      ]
    },
    {
      "cell_type": "code",
      "source": [],
      "metadata": {
        "id": "fzPNCkfzM4g1"
      },
      "execution_count": null,
      "outputs": []
    }
  ]
}