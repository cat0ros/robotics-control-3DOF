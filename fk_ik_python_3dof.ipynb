{
  "nbformat": 4,
  "nbformat_minor": 0,
  "metadata": {
    "colab": {
      "provenance": [],
      "authorship_tag": "ABX9TyN+zXDygH2RKx9utvgf3JZv",
      "include_colab_link": true
    },
    "kernelspec": {
      "name": "python3",
      "display_name": "Python 3"
    },
    "language_info": {
      "name": "python"
    }
  },
  "cells": [
    {
      "cell_type": "markdown",
      "metadata": {
        "id": "view-in-github",
        "colab_type": "text"
      },
      "source": [
        "<a href=\"https://colab.research.google.com/github/cat0ros/robotics-control-3DOF/blob/master/fk_ik_python_3dof.ipynb\" target=\"_parent\"><img src=\"https://colab.research.google.com/assets/colab-badge.svg\" alt=\"Open In Colab\"/></a>"
      ]
    },
    {
      "cell_type": "markdown",
      "source": [
        "# Домашнее задание по управлению роботами №1\n",
        "Выполнил: Романов Ростислав, группа: АДБ-20-09\n",
        "\n",
        "<img src= \"https://drive.google.com/uc?export=view&id=1PpzfCIzka8X_ljyS4piV1AKeBfmu2AZ3\" alt=\"inverse\" width=\"400\" />\n",
        "\n",
        "***Рисунок 1: Пространственное представление схемы манипулятора***\n",
        "\n",
        "<img src= \"https://drive.google.com/uc?export=view&id=1zDL-aUGP3qxmC3ibMRZ7z9wZ6hDe7knu\" alt=\"inverse\" width=\"400\" />\n",
        "\n",
        "***Рисунок 2: Кинематическая схема манипулятора***"
      ],
      "metadata": {
        "id": "6SwnfPVIErN4"
      }
    },
    {
      "cell_type": "markdown",
      "source": [
        "## Параметры и описание робота\n",
        "Длины звеньев робота:"
      ],
      "metadata": {
        "id": "hB1gYlU9JzvL"
      }
    },
    {
      "cell_type": "code",
      "source": [
        "links_length = [0.5, 0.5, 0.2]"
      ],
      "metadata": {
        "id": "ra1yJikgM7sE"
      },
      "execution_count": null,
      "outputs": []
    },
    {
      "cell_type": "markdown",
      "source": [
        "## Библиотеки для работы"
      ],
      "metadata": {
        "id": "94P6phCPHZgH"
      }
    },
    {
      "cell_type": "code",
      "execution_count": null,
      "metadata": {
        "id": "CUjvmxeX5r7S"
      },
      "outputs": [],
      "source": [
        "from matplotlib import pyplot as plt\n",
        "from matplotlib import animation\n",
        "import numpy as np\n",
        "from numpy.linalg import inv\n",
        "import math\n",
        "from IPython.display import HTML\n",
        "%matplotlib notebook"
      ]
    },
    {
      "cell_type": "markdown",
      "source": [
        "## Решение прямой задачи кинематики\n",
        "**Составление DH-матриц**\n",
        "\n",
        "Матрицы Денавита-Хартенберга:"
      ],
      "metadata": {
        "id": "_iv-I3MTEcW6"
      }
    },
    {
      "cell_type": "code",
      "source": [
        "def get_dh_matrix(theta, alpha, r, d):\n",
        "  alpha = (np.pi/180) * alpha\n",
        "  theta = (np.pi/180) * theta\n",
        "\n",
        "  ct = np.cos(theta)\n",
        "  st = np.sin(theta)\n",
        "  sa = np.sin(alpha)\n",
        "  ca = np.cos(alpha)\n",
        "\n",
        "  dh_matrix = np.array([\n",
        "      [ct,  -st * ca, st * sa, r * ct],\n",
        "      [st, ct *  ca, -ct * sa, r * st],\n",
        "      [0, sa, ca, d],\n",
        "      [0, 0, 0, 1]\n",
        "  ])\n",
        "\n",
        "  return dh_matrix"
      ],
      "metadata": {
        "id": "o9IdUnvi571v"
      },
      "execution_count": null,
      "outputs": []
    },
    {
      "cell_type": "code",
      "source": [
        "def forward_kinematics(generilized):\n",
        "  r = [0, 0, -links_length[2]]\n",
        "  d = [links_length[0], links_length[1] + generilized[1], 0]\n",
        "  theta = [generilized[0] - 90, -90, generilized[2] + 90]\n",
        "  alpha = [-90, -90, 0]\n",
        "\n",
        "  #links_length[2]\n",
        "\n",
        "  matrix = np.eye(4)\n",
        "  for i in range(len(theta)):\n",
        "    matrix = matrix @ get_dh_matrix(theta[i], alpha[i], r[i], d[i])\n",
        "    print(matrix)\n",
        "\n",
        "  return matrix"
      ],
      "metadata": {
        "id": "HLbD_euL4kOj"
      },
      "execution_count": null,
      "outputs": []
    },
    {
      "cell_type": "code",
      "source": [
        "forward_kinematics([-30, 0.5, 90])"
      ],
      "metadata": {
        "colab": {
          "base_uri": "https://localhost:8080/"
        },
        "id": "xhThNj449TdF",
        "outputId": "cfec8ec2-e1dd-4304-ea0a-156ed3f1ea72"
      },
      "execution_count": null,
      "outputs": [
        {
          "output_type": "stream",
          "name": "stdout",
          "text": [
            "[[-5.00000000e-01  5.30287619e-17  8.66025404e-01  0.00000000e+00]\n",
            " [-8.66025404e-01 -3.06161700e-17 -5.00000000e-01  0.00000000e+00]\n",
            " [ 0.00000000e+00 -1.00000000e+00  6.12323400e-17  5.00000000e-01]\n",
            " [ 0.00000000e+00  0.00000000e+00  0.00000000e+00  1.00000000e+00]]\n",
            "[[-8.36449319e-17 -8.66025404e-01 -5.00000000e-01  8.66025404e-01]\n",
            " [-2.24125920e-17  5.00000000e-01 -8.66025404e-01 -5.00000000e-01]\n",
            " [ 1.00000000e+00 -6.12323400e-17 -6.12323400e-17  5.00000000e-01]\n",
            " [ 0.00000000e+00  0.00000000e+00  0.00000000e+00  1.00000000e+00]]\n",
            "[[-2.24125920e-17  8.66025404e-01 -5.00000000e-01  8.66025404e-01]\n",
            " [ 8.36449319e-17 -5.00000000e-01 -8.66025404e-01 -5.00000000e-01]\n",
            " [-1.00000000e+00 -6.12323400e-17 -6.12323400e-17  7.00000000e-01]\n",
            " [ 0.00000000e+00  0.00000000e+00  0.00000000e+00  1.00000000e+00]]\n"
          ]
        },
        {
          "output_type": "execute_result",
          "data": {
            "text/plain": [
              "array([[-2.24125920e-17,  8.66025404e-01, -5.00000000e-01,\n",
              "         8.66025404e-01],\n",
              "       [ 8.36449319e-17, -5.00000000e-01, -8.66025404e-01,\n",
              "        -5.00000000e-01],\n",
              "       [-1.00000000e+00, -6.12323400e-17, -6.12323400e-17,\n",
              "         7.00000000e-01],\n",
              "       [ 0.00000000e+00,  0.00000000e+00,  0.00000000e+00,\n",
              "         1.00000000e+00]])"
            ]
          },
          "metadata": {},
          "execution_count": 66
        }
      ]
    },
    {
      "cell_type": "markdown",
      "source": [
        "# Решение обратной задачи кинематики"
      ],
      "metadata": {
        "id": "lzXd-cYW0MlJ"
      }
    },
    {
      "cell_type": "code",
      "source": [
        "def IK(x, y, z, l1, l2, l3):\n",
        "  theta1 = np.arctan2(y, x)\n",
        "  theta3_1 = np.arcsin((z - l1) / l3)\n",
        "  theta3_2 = np.pi - np.arcsin((z - l1) / l3)\n",
        "  theta3_sol = [theta3_1, theta3_2]\n",
        "\n",
        "  sqrt_xy = np.float64((x**2 + y**2)**(1/2))\n",
        "  l3_x0y0_1 = np.float64(l3) * np.cos(theta3_1)\n",
        "  l3_x0y0_2 = np.float64(l3) * np.cos(theta3_2)\n",
        "\n",
        "  d2_1 = sqrt_xy - l3_x0y0_1 - l2\n",
        "  d2_2 = sqrt_xy - l3_x0y0_2 - l2\n",
        "  d2_sol = [d2_1, d2_2]\n",
        "\n",
        "  for i in range(len(theta3_sol)):\n",
        "    q = [np.round(np.rad2deg(theta1), 2), np.round(d2_sol[i], 5), np.round(np.rad2deg(theta3_sol[i]), 2)]\n",
        "    yield q"
      ],
      "metadata": {
        "id": "FhxVSJ-nYaCE"
      },
      "execution_count": null,
      "outputs": []
    },
    {
      "cell_type": "code",
      "source": [
        "fk_sol = forward_kinematics([60, 1, 10])\n",
        "fk_sol"
      ],
      "metadata": {
        "colab": {
          "base_uri": "https://localhost:8080/"
        },
        "id": "w6zdpupVCXyf",
        "outputId": "abd8626b-edf7-4004-fff1-4e2f474974b6"
      },
      "execution_count": null,
      "outputs": [
        {
          "output_type": "stream",
          "name": "stdout",
          "text": [
            "[[ 8.66025404e-01  3.06161700e-17  5.00000000e-01  0.00000000e+00]\n",
            " [-5.00000000e-01  5.30287619e-17  8.66025404e-01  0.00000000e+00]\n",
            " [ 0.00000000e+00 -1.00000000e+00  6.12323400e-17  5.00000000e-01]\n",
            " [ 0.00000000e+00  0.00000000e+00  0.00000000e+00  1.00000000e+00]]\n",
            "[[ 2.24125920e-17 -5.00000000e-01  8.66025404e-01  7.50000000e-01]\n",
            " [-8.36449319e-17 -8.66025404e-01 -5.00000000e-01  1.29903811e+00]\n",
            " [ 1.00000000e+00 -6.12323400e-17 -6.12323400e-17  5.00000000e-01]\n",
            " [ 0.00000000e+00  0.00000000e+00  0.00000000e+00  1.00000000e+00]]\n",
            "[[-4.92403877e-01  8.68240888e-02  8.66025404e-01  8.48480775e-01]\n",
            " [-8.52868532e-01  1.50383733e-01 -5.00000000e-01  1.46961181e+00]\n",
            " [-1.73648178e-01 -9.84807753e-01 -6.12323400e-17  5.34729636e-01]\n",
            " [ 0.00000000e+00  0.00000000e+00  0.00000000e+00  1.00000000e+00]]\n"
          ]
        },
        {
          "output_type": "execute_result",
          "data": {
            "text/plain": [
              "array([[-4.92403877e-01,  8.68240888e-02,  8.66025404e-01,\n",
              "         8.48480775e-01],\n",
              "       [-8.52868532e-01,  1.50383733e-01, -5.00000000e-01,\n",
              "         1.46961181e+00],\n",
              "       [-1.73648178e-01, -9.84807753e-01, -6.12323400e-17,\n",
              "         5.34729636e-01],\n",
              "       [ 0.00000000e+00,  0.00000000e+00,  0.00000000e+00,\n",
              "         1.00000000e+00]])"
            ]
          },
          "metadata": {},
          "execution_count": 75
        }
      ]
    },
    {
      "cell_type": "code",
      "source": [
        "tcp_pos = fk_sol @ np.array([[0], [0], [0], [1]])\n",
        "tcp_pos"
      ],
      "metadata": {
        "id": "RXOcwppSII1r",
        "colab": {
          "base_uri": "https://localhost:8080/"
        },
        "outputId": "eb3a6f8b-5575-49bf-f9c6-6ca82a3822e0"
      },
      "execution_count": null,
      "outputs": [
        {
          "output_type": "execute_result",
          "data": {
            "text/plain": [
              "array([[0.84848078],\n",
              "       [1.46961181],\n",
              "       [0.53472964],\n",
              "       [1.        ]])"
            ]
          },
          "metadata": {},
          "execution_count": 76
        }
      ]
    },
    {
      "cell_type": "code",
      "source": [
        "x_f, y_f, z_f = tcp_pos[0, 0], tcp_pos[1, 0], tcp_pos[2, 0]\n",
        "l1, l2, l3 = links_length[0], links_length[1], links_length[2]"
      ],
      "metadata": {
        "id": "QO9vhyveSEes"
      },
      "execution_count": null,
      "outputs": []
    },
    {
      "cell_type": "code",
      "source": [
        "x_f"
      ],
      "metadata": {
        "colab": {
          "base_uri": "https://localhost:8080/"
        },
        "id": "9Nhsf6TAStJ2",
        "outputId": "81f56bb6-9644-4c89-f6dc-65341e088d9c"
      },
      "execution_count": null,
      "outputs": [
        {
          "output_type": "execute_result",
          "data": {
            "text/plain": [
              "0.8484807753012207"
            ]
          },
          "metadata": {},
          "execution_count": 78
        }
      ]
    },
    {
      "cell_type": "code",
      "source": [
        "y_f"
      ],
      "metadata": {
        "colab": {
          "base_uri": "https://localhost:8080/"
        },
        "id": "Pz0xQAlkS1fE",
        "outputId": "0c24ce49-7a83-4444-beb3-b1b11f1e243d"
      },
      "execution_count": null,
      "outputs": [
        {
          "output_type": "execute_result",
          "data": {
            "text/plain": [
              "1.4696118120671466"
            ]
          },
          "metadata": {},
          "execution_count": 79
        }
      ]
    },
    {
      "cell_type": "code",
      "source": [
        "z_f"
      ],
      "metadata": {
        "colab": {
          "base_uri": "https://localhost:8080/"
        },
        "id": "BaLdqu_kS2VY",
        "outputId": "c78e3630-4c2c-47b6-ea65-e519459089e5"
      },
      "execution_count": null,
      "outputs": [
        {
          "output_type": "execute_result",
          "data": {
            "text/plain": [
              "0.5347296355333861"
            ]
          },
          "metadata": {},
          "execution_count": 80
        }
      ]
    },
    {
      "cell_type": "code",
      "source": [
        "for i in IK(x_f, y_f, z_f, l1, l2, l3):\n",
        "  print(i)"
      ],
      "metadata": {
        "colab": {
          "base_uri": "https://localhost:8080/"
        },
        "id": "_2MxgLlDS2wU",
        "outputId": "6e9d2651-a5a0-45ac-b04f-6d93bb11a5a3"
      },
      "execution_count": null,
      "outputs": [
        {
          "output_type": "stream",
          "name": "stdout",
          "text": [
            "[60.0, 1.0, 10.0]\n",
            "[60.0, 1.39392, 170.0]\n"
          ]
        }
      ]
    },
    {
      "cell_type": "code",
      "source": [],
      "metadata": {
        "id": "y_OF07RyTIPH"
      },
      "execution_count": null,
      "outputs": []
    }
  ]
}