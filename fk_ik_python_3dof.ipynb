{
  "nbformat": 4,
  "nbformat_minor": 0,
  "metadata": {
    "colab": {
      "provenance": [],
      "authorship_tag": "ABX9TyMMwFA0wyv0ffAcI84U327u",
      "include_colab_link": true
    },
    "kernelspec": {
      "name": "python3",
      "display_name": "Python 3"
    },
    "language_info": {
      "name": "python"
    }
  },
  "cells": [
    {
      "cell_type": "markdown",
      "metadata": {
        "id": "view-in-github",
        "colab_type": "text"
      },
      "source": [
        "<a href=\"https://colab.research.google.com/github/cat0ros/robotics-control-3DOF/blob/master/fk_ik_python_3dof.ipynb\" target=\"_parent\"><img src=\"https://colab.research.google.com/assets/colab-badge.svg\" alt=\"Open In Colab\"/></a>"
      ]
    },
    {
      "cell_type": "markdown",
      "source": [
        "# Домашнее задание по управлению роботами №1\n",
        "Выполнил: Романов Ростислав, группа: АДБ-20-09\n",
        "\n",
        "<img src= \"https://drive.google.com/uc?export=view&id=1PpzfCIzka8X_ljyS4piV1AKeBfmu2AZ3\" alt=\"inverse\" width=\"400\" />\n",
        "\n",
        "***Рисунок 1: Пространственное представление схемы манипулятора***\n",
        "\n",
        "<img src= \"https://drive.google.com/uc?export=view&id=1zDL-aUGP3qxmC3ibMRZ7z9wZ6hDe7knu\" alt=\"inverse\" width=\"400\" />\n",
        "\n",
        "***Рисунок 2: Кинематическая схема манипулятора***"
      ],
      "metadata": {
        "id": "6SwnfPVIErN4"
      }
    },
    {
      "cell_type": "markdown",
      "source": [
        "## Параметры и описание робота\n",
        "Длины звеньев робота:"
      ],
      "metadata": {
        "id": "hB1gYlU9JzvL"
      }
    },
    {
      "cell_type": "code",
      "source": [
        "links_length = [1.5, 1.3, 2.2]"
      ],
      "metadata": {
        "id": "ra1yJikgM7sE"
      },
      "execution_count": 179,
      "outputs": []
    },
    {
      "cell_type": "markdown",
      "source": [
        "## Библиотеки для работы"
      ],
      "metadata": {
        "id": "94P6phCPHZgH"
      }
    },
    {
      "cell_type": "code",
      "execution_count": 180,
      "metadata": {
        "id": "CUjvmxeX5r7S"
      },
      "outputs": [],
      "source": [
        "from matplotlib import pyplot as plt\n",
        "from matplotlib import animation\n",
        "import numpy as np\n",
        "from numpy.linalg import inv\n",
        "import sympy as sp\n",
        "import math\n",
        "from IPython.display import HTML, Math, Latex\n",
        "%matplotlib notebook"
      ]
    },
    {
      "cell_type": "markdown",
      "source": [
        "## Решение прямой задачи кинематики\n",
        "**Составление DH-матриц**\n",
        "\n",
        "Матрица Денавита-Хартенберга:\n",
        "\n",
        "<img src= \"https://wikimedia.org/api/rest_v1/media/math/render/svg/6963d0c47a3a894ff0719c8df348d188b996074e\" alt=\"inverse\" width=\"400\" />"
      ],
      "metadata": {
        "id": "_iv-I3MTEcW6"
      }
    },
    {
      "cell_type": "markdown",
      "source": [
        "\n",
        "Реализуем функцию, которая будет возвращать матрицу под соответствующие DH-параметры:"
      ],
      "metadata": {
        "id": "kQSiwrt05vpO"
      }
    },
    {
      "cell_type": "code",
      "source": [
        "def get_dh_matrix(theta, alpha, r, d):\n",
        "  alpha = (np.pi/180) * alpha\n",
        "  theta = (np.pi/180) * theta\n",
        "\n",
        "  ct = np.cos(theta)\n",
        "  st = np.sin(theta)\n",
        "  sa = np.sin(alpha)\n",
        "  ca = np.cos(alpha)\n",
        "\n",
        "  dh_matrix = np.array([\n",
        "      [ct,  -st * ca, st * sa, r * ct],\n",
        "      [st, ct *  ca, -ct * sa, r * st],\n",
        "      [0, sa, ca, d],\n",
        "      [0, 0, 0, 1]\n",
        "  ])\n",
        "\n",
        "  return dh_matrix"
      ],
      "metadata": {
        "id": "o9IdUnvi571v"
      },
      "execution_count": 181,
      "outputs": []
    },
    {
      "cell_type": "markdown",
      "source": [
        "Расставим системы координат и составим таблицу, а по ней итоговую матрицу преобразований:\n",
        "\n",
        "<img src= \"https://drive.google.com/uc?export=view&id=18EiOZVcCKHVvgkmfPqdece4xYVxcEvYH\" alt=\"inverse\" width=\"600\" />\n",
        "\n",
        "Заметим, что нулевое положение робота будет слева, тогда для изображения справа повернем вокруг оси Z концевую точку на 90 градусов в положительном направлении."
      ],
      "metadata": {
        "id": "NIs_uLa_yw1E"
      }
    },
    {
      "cell_type": "code",
      "source": [
        "def forward_kinematics(generilized):\n",
        "  r = [0, 0, links_length[2]]\n",
        "  d = [links_length[0], links_length[1] + generilized[1], 0]\n",
        "  theta = [generilized[0] - 90, 90, generilized[2] + 90]\n",
        "  alpha = [-90, 90, 0]\n",
        "\n",
        "  #links_length[2]\n",
        "\n",
        "  matrix = np.eye(4)\n",
        "  for i in range(len(theta)):\n",
        "    matrix = matrix @ get_dh_matrix(theta[i], alpha[i], r[i], d[i])\n",
        "\n",
        "  return matrix"
      ],
      "metadata": {
        "id": "HLbD_euL4kOj"
      },
      "execution_count": 182,
      "outputs": []
    },
    {
      "cell_type": "markdown",
      "source": [
        "Решим ПЗК для вектора обобщенных координат q = [-30, 0.5, 90]"
      ],
      "metadata": {
        "id": "kOd-cxvs1xI7"
      }
    },
    {
      "cell_type": "code",
      "source": [
        "forward_kinematics([-30, 0.5, 90])"
      ],
      "metadata": {
        "colab": {
          "base_uri": "https://localhost:8080/",
          "height": 0
        },
        "id": "xhThNj449TdF",
        "outputId": "7f4a85ef-81ac-47a6-b6c5-8883c65161b2"
      },
      "execution_count": 183,
      "outputs": [
        {
          "output_type": "execute_result",
          "data": {
            "text/plain": [
              "array([[ 8.36449319e-17, -8.66025404e-01, -5.00000000e-01,\n",
              "         1.55884573e+00],\n",
              "       [ 2.24125920e-17,  5.00000000e-01, -8.66025404e-01,\n",
              "        -9.00000000e-01],\n",
              "       [ 1.00000000e+00,  6.12323400e-17,  6.12323400e-17,\n",
              "         3.70000000e+00],\n",
              "       [ 0.00000000e+00,  0.00000000e+00,  0.00000000e+00,\n",
              "         1.00000000e+00]])"
            ]
          },
          "metadata": {},
          "execution_count": 183
        }
      ]
    },
    {
      "cell_type": "markdown",
      "source": [
        "# Решение обратной задачи кинематики\n",
        "\n",
        "Рассмотрид вид сверху исходной кинематической схемы:\n",
        "\n",
        "<img src= \"https://drive.google.com/uc?export=view&id=16u0Gn5cK_Mwyt6NhC_CyctTbbU0kwyRr\" alt=\"inverse\" width=\"200\" />\n",
        "\n",
        "Заметим следующую зависимость:"
      ],
      "metadata": {
        "id": "lzXd-cYW0MlJ"
      }
    },
    {
      "cell_type": "code",
      "source": [
        "display(Math(r'\\Theta_{1} = \\text{arctan2}(y_0, x_0)'))"
      ],
      "metadata": {
        "colab": {
          "base_uri": "https://localhost:8080/",
          "height": 39
        },
        "id": "7aFIOL7mA-20",
        "outputId": "934f1549-f029-41ad-dc3d-ee2edde5af10"
      },
      "execution_count": 184,
      "outputs": [
        {
          "output_type": "display_data",
          "data": {
            "text/plain": [
              "<IPython.core.display.Math object>"
            ],
            "text/latex": "$\\displaystyle \\Theta_{1} = \\text{arctan2}(y_0, x_0)$"
          },
          "metadata": {}
        }
      ]
    },
    {
      "cell_type": "markdown",
      "source": [
        "Не является возможным найти сразу решение для второй обобщенной координаты, так как нам неизвестна проекция длины третьего звена.\n",
        "\n",
        "Найдем ее по виду сбоку нашего манипулятора и найдем высоту обозначенную как b:\n",
        "\n",
        "<img src= \"https://drive.google.com/uc?export=view&id=1oQSe0p5Er6_KpYB8kVftatvfdA_2yEO7\" alt=\"inverse\" width=\"400\" />"
      ],
      "metadata": {
        "id": "CinbB6ACBT3e"
      }
    },
    {
      "cell_type": "code",
      "source": [
        "display(Math(r'b = z - l_{1}'))"
      ],
      "metadata": {
        "colab": {
          "base_uri": "https://localhost:8080/",
          "height": 39
        },
        "id": "zss3ONawEwrt",
        "outputId": "5b7d8487-e009-429a-a37c-83a576599ec7"
      },
      "execution_count": 185,
      "outputs": [
        {
          "output_type": "display_data",
          "data": {
            "text/plain": [
              "<IPython.core.display.Math object>"
            ],
            "text/latex": "$\\displaystyle b = z - l_{1}$"
          },
          "metadata": {}
        }
      ]
    },
    {
      "cell_type": "markdown",
      "source": [
        "Тогда становится известна проекция длины третьего звена на плоскость X0Y0:"
      ],
      "metadata": {
        "id": "JWq2KgDTE-UZ"
      }
    },
    {
      "cell_type": "code",
      "source": [
        "display(Math(r'l_{3_{x_{0}y_{0}}} = l_{3}*cos(\\Theta_{3})'))"
      ],
      "metadata": {
        "colab": {
          "base_uri": "https://localhost:8080/",
          "height": 39
        },
        "id": "JGjHjPCJFGay",
        "outputId": "3ce0ed39-355e-4f61-81aa-6ae9f00eeee6"
      },
      "execution_count": 186,
      "outputs": [
        {
          "output_type": "display_data",
          "data": {
            "text/plain": [
              "<IPython.core.display.Math object>"
            ],
            "text/latex": "$\\displaystyle l_{3_{x_{0}y_{0}}} = l_{3}*cos(\\Theta_{3})$"
          },
          "metadata": {}
        }
      ]
    },
    {
      "cell_type": "markdown",
      "source": [
        "Найдем этот угол:"
      ],
      "metadata": {
        "id": "aUVsw8L9FzHY"
      }
    },
    {
      "cell_type": "code",
      "source": [
        "display(Math(r'\\Theta_{3} = arcsin(\\frac{z - l1}{l3})'))\n",
        "display(Math(r'\\Theta_{3} = \\pi - arcsin(\\frac{z - l1}{l3})'))"
      ],
      "metadata": {
        "colab": {
          "base_uri": "https://localhost:8080/",
          "height": 87
        },
        "id": "CcJMk9sKF5VW",
        "outputId": "3db3cd66-46d6-4ebe-d376-4cc8f5dbe62a"
      },
      "execution_count": 187,
      "outputs": [
        {
          "output_type": "display_data",
          "data": {
            "text/plain": [
              "<IPython.core.display.Math object>"
            ],
            "text/latex": "$\\displaystyle \\Theta_{3} = arcsin(\\frac{z - l1}{l3})$"
          },
          "metadata": {}
        },
        {
          "output_type": "display_data",
          "data": {
            "text/plain": [
              "<IPython.core.display.Math object>"
            ],
            "text/latex": "$\\displaystyle \\Theta_{3} = \\pi - arcsin(\\frac{z - l1}{l3})$"
          },
          "metadata": {}
        }
      ]
    },
    {
      "cell_type": "markdown",
      "source": [
        "В результате мы получили два решения.\n",
        "\n",
        "Так как от найденного угла зависит проекция третьего звена на плоскость X0Y0, вычислим вторую обобщенную координату:"
      ],
      "metadata": {
        "id": "XnN9R3nSGPVv"
      }
    },
    {
      "cell_type": "code",
      "source": [
        "display(Math(r'd2 = \\sqrt{x_{0}^{2} + y_{0}^{2}} - l_{2} - l_{3} * cos(\\Theta_{3})'))"
      ],
      "metadata": {
        "colab": {
          "base_uri": "https://localhost:8080/",
          "height": 48
        },
        "id": "-2v3wcjfG3LM",
        "outputId": "a9114a26-c2e6-46c5-acbc-4302d0b96f4f"
      },
      "execution_count": 188,
      "outputs": [
        {
          "output_type": "display_data",
          "data": {
            "text/plain": [
              "<IPython.core.display.Math object>"
            ],
            "text/latex": "$\\displaystyle d2 = \\sqrt{x_{0}^{2} + y_{0}^{2}} - l_{2} - l_{3} * cos(\\Theta_{3})$"
          },
          "metadata": {}
        }
      ]
    },
    {
      "cell_type": "markdown",
      "source": [
        "Аналитические выражения для решения ОЗК получены."
      ],
      "metadata": {
        "id": "R5lxHx4QJckL"
      }
    },
    {
      "cell_type": "code",
      "source": [
        "def IK(x, y, z, l1, l2, l3):\n",
        "  theta1 = np.arctan2(y, x)\n",
        "  theta3_1 = np.arcsin((z - l1) / l3)\n",
        "  theta3_2 = np.pi - np.arcsin((z - l1) / l3)\n",
        "  theta3_sol = [theta3_1, theta3_2]\n",
        "  sqrt_xy = np.float64((x**2 + y**2)**(1/2))\n",
        "  l3_x0y0_1 = np.float64(l3) * np.cos(theta3_1)\n",
        "  l3_x0y0_2 = np.float64(l3) * np.cos(theta3_2)\n",
        "  d2_1 = sqrt_xy - l3_x0y0_1 - l2\n",
        "  d2_2 = sqrt_xy - l3_x0y0_2 - l2\n",
        "  d2_sol = [d2_1, d2_2]\n",
        "\n",
        "  for i in range(len(theta3_sol)):\n",
        "    if (np.round(d2_sol[i], 5) >= 0):\n",
        "      q = [np.round(np.rad2deg(theta1), 2), np.round(d2_sol[i], 5), np.round(np.rad2deg(theta3_sol[i]), 2)]\n",
        "      yield q"
      ],
      "metadata": {
        "id": "FhxVSJ-nYaCE"
      },
      "execution_count": 237,
      "outputs": []
    },
    {
      "cell_type": "markdown",
      "source": [
        "Решим прямую задачу кинематики для обобщенных координат: [30, 2.2, 90]"
      ],
      "metadata": {
        "id": "qDFR9MpvKDSg"
      }
    },
    {
      "cell_type": "code",
      "source": [
        "fk_sol = forward_kinematics([30, 2.2, 90])\n",
        "fk_sol"
      ],
      "metadata": {
        "colab": {
          "base_uri": "https://localhost:8080/",
          "height": 0
        },
        "id": "w6zdpupVCXyf",
        "outputId": "4adaba92-833b-4159-d29c-5d0f249953c9"
      },
      "execution_count": 238,
      "outputs": [
        {
          "output_type": "execute_result",
          "data": {
            "text/plain": [
              "array([[ 2.24125920e-17, -8.66025404e-01,  5.00000000e-01,\n",
              "         3.03108891e+00],\n",
              "       [ 8.36449319e-17, -5.00000000e-01, -8.66025404e-01,\n",
              "         1.75000000e+00],\n",
              "       [ 1.00000000e+00,  6.12323400e-17,  6.12323400e-17,\n",
              "         3.70000000e+00],\n",
              "       [ 0.00000000e+00,  0.00000000e+00,  0.00000000e+00,\n",
              "         1.00000000e+00]])"
            ]
          },
          "metadata": {},
          "execution_count": 238
        }
      ]
    },
    {
      "cell_type": "markdown",
      "source": [
        "Вычислим позицию концевой точки, домножив на вектор-столбец: [0,0,0,1]"
      ],
      "metadata": {
        "id": "bE8SsNS3LLGo"
      }
    },
    {
      "cell_type": "code",
      "source": [
        "tcp_pos = fk_sol @ np.array([[0], [0], [0], [1]])\n",
        "tcp_pos"
      ],
      "metadata": {
        "id": "RXOcwppSII1r",
        "colab": {
          "base_uri": "https://localhost:8080/",
          "height": 0
        },
        "outputId": "35cd48c7-34cc-4109-c2a5-c63a28bcaa17"
      },
      "execution_count": 239,
      "outputs": [
        {
          "output_type": "execute_result",
          "data": {
            "text/plain": [
              "array([[3.03108891],\n",
              "       [1.75      ],\n",
              "       [3.7       ],\n",
              "       [1.        ]])"
            ]
          },
          "metadata": {},
          "execution_count": 239
        }
      ]
    },
    {
      "cell_type": "code",
      "source": [
        "x_f, y_f, z_f = tcp_pos[0, 0], tcp_pos[1, 0], tcp_pos[2, 0]\n",
        "l1, l2, l3 = links_length[0], links_length[1], links_length[2]"
      ],
      "metadata": {
        "id": "QO9vhyveSEes"
      },
      "execution_count": 240,
      "outputs": []
    },
    {
      "cell_type": "code",
      "source": [
        "x_f"
      ],
      "metadata": {
        "colab": {
          "base_uri": "https://localhost:8080/",
          "height": 0
        },
        "id": "9Nhsf6TAStJ2",
        "outputId": "2497ae6d-e887-44bb-aa8d-65a4e18054c2"
      },
      "execution_count": 241,
      "outputs": [
        {
          "output_type": "execute_result",
          "data": {
            "text/plain": [
              "3.031088913245535"
            ]
          },
          "metadata": {},
          "execution_count": 241
        }
      ]
    },
    {
      "cell_type": "code",
      "source": [
        "y_f"
      ],
      "metadata": {
        "colab": {
          "base_uri": "https://localhost:8080/",
          "height": 0
        },
        "id": "Pz0xQAlkS1fE",
        "outputId": "49ddce6c-2205-42cc-ac0d-2355b17a194c"
      },
      "execution_count": 242,
      "outputs": [
        {
          "output_type": "execute_result",
          "data": {
            "text/plain": [
              "1.7500000000000007"
            ]
          },
          "metadata": {},
          "execution_count": 242
        }
      ]
    },
    {
      "cell_type": "code",
      "source": [
        "z_f"
      ],
      "metadata": {
        "colab": {
          "base_uri": "https://localhost:8080/",
          "height": 0
        },
        "id": "BaLdqu_kS2VY",
        "outputId": "c2bf7433-f1b7-4ece-9333-2f681a50e867"
      },
      "execution_count": 243,
      "outputs": [
        {
          "output_type": "execute_result",
          "data": {
            "text/plain": [
              "3.7"
            ]
          },
          "metadata": {},
          "execution_count": 243
        }
      ]
    },
    {
      "cell_type": "markdown",
      "source": [
        "Переберем все решения ОЗК для данной точки и запишем их. Решения ОЗК должны совпать с тем, что мы задавали вначале в функции ПЗК в качестве обобщенных координат. Задавали вектор: [30, 2.2, 90]"
      ],
      "metadata": {
        "id": "kZzLLsf1LTz4"
      }
    },
    {
      "cell_type": "code",
      "source": [
        "for i in IK(x_f, y_f, z_f, l1, l2, l3):\n",
        "  print(i)"
      ],
      "metadata": {
        "colab": {
          "base_uri": "https://localhost:8080/",
          "height": 0
        },
        "id": "_2MxgLlDS2wU",
        "outputId": "35baafc3-616a-4827-fcc5-eb7662a2d2b8"
      },
      "execution_count": 244,
      "outputs": [
        {
          "output_type": "stream",
          "name": "stdout",
          "text": [
            "[30.0, 2.2, 90.0]\n",
            "[30.0, 2.2, 90.0]\n"
          ]
        }
      ]
    },
    {
      "cell_type": "markdown",
      "source": [
        "Пометка: для угла 90 градусов решение ОЗК в данном случае однозначно."
      ],
      "metadata": {
        "id": "k7QFy3hNYGkz"
      }
    },
    {
      "cell_type": "markdown",
      "source": [
        "Проверка выполнена.\n",
        "\n",
        "Подставим позицию конкретной точки и вычислим для нее ОЗК (в соответствии с вариантом): [0.4,0.3, 0.1]"
      ],
      "metadata": {
        "id": "GfnMwhitMFde"
      }
    },
    {
      "cell_type": "code",
      "source": [
        "x_v = 0.4\n",
        "y_v = 0.3\n",
        "z_v = 0.1\n",
        "\n",
        "for i in IK(x_v, y_v, z_v, l1, l2, l3):\n",
        "  print(i)"
      ],
      "metadata": {
        "colab": {
          "base_uri": "https://localhost:8080/",
          "height": 0
        },
        "id": "BhDPnFflMQzd",
        "outputId": "f67f4f27-f823-4557-e0e3-a034c664260a"
      },
      "execution_count": 259,
      "outputs": [
        {
          "output_type": "stream",
          "name": "stdout",
          "text": [
            "[36.87, 0.89706, 219.52]\n"
          ]
        }
      ]
    },
    {
      "cell_type": "code",
      "source": [],
      "metadata": {
        "id": "MYS-aL_5eFtd"
      },
      "execution_count": null,
      "outputs": []
    }
  ]
}