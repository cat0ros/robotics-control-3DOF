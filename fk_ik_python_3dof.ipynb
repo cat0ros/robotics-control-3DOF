{
  "nbformat": 4,
  "nbformat_minor": 0,
  "metadata": {
    "colab": {
      "provenance": [],
      "authorship_tag": "ABX9TyM/DGOpuZQbx5vIAZFCrhX4",
      "include_colab_link": true
    },
    "kernelspec": {
      "name": "python3",
      "display_name": "Python 3"
    },
    "language_info": {
      "name": "python"
    }
  },
  "cells": [
    {
      "cell_type": "markdown",
      "metadata": {
        "id": "view-in-github",
        "colab_type": "text"
      },
      "source": [
        "<a href=\"https://colab.research.google.com/github/cat0ros/robotics-control-3DOF/blob/master/fk_ik_python_3dof.ipynb\" target=\"_parent\"><img src=\"https://colab.research.google.com/assets/colab-badge.svg\" alt=\"Open In Colab\"/></a>"
      ]
    },
    {
      "cell_type": "markdown",
      "source": [
        "# Домашнее задание по управлению роботами №1\n",
        "Выполнил: Романов Ростислав, группа: АДБ-20-09\n",
        "\n",
        "<img src= \"https://drive.google.com/uc?export=view&id=1PpzfCIzka8X_ljyS4piV1AKeBfmu2AZ3\" alt=\"inverse\" width=\"400\" />\n",
        "\n",
        "***Рисунок 1: Пространственное представление схемы манипулятора***\n",
        "\n",
        "<img src= \"https://drive.google.com/uc?export=view&id=1zDL-aUGP3qxmC3ibMRZ7z9wZ6hDe7knu\" alt=\"inverse\" width=\"400\" />\n",
        "\n",
        "***Рисунок 2: Кинематическая схема манипулятора***"
      ],
      "metadata": {
        "id": "6SwnfPVIErN4"
      }
    },
    {
      "cell_type": "markdown",
      "source": [
        "## Параметры и описание робота\n",
        "Длины звеньев робота:"
      ],
      "metadata": {
        "id": "hB1gYlU9JzvL"
      }
    },
    {
      "cell_type": "code",
      "source": [
        "links_length = [1.5, 1.3, 2.2]"
      ],
      "metadata": {
        "id": "ra1yJikgM7sE"
      },
      "execution_count": null,
      "outputs": []
    },
    {
      "cell_type": "markdown",
      "source": [
        "## Библиотеки для работы"
      ],
      "metadata": {
        "id": "94P6phCPHZgH"
      }
    },
    {
      "cell_type": "code",
      "execution_count": null,
      "metadata": {
        "id": "CUjvmxeX5r7S"
      },
      "outputs": [],
      "source": [
        "from matplotlib import pyplot as plt\n",
        "from matplotlib import animation\n",
        "import numpy as np\n",
        "from numpy.linalg import inv\n",
        "import sympy as sp\n",
        "import math\n",
        "from IPython.display import HTML, Math, Latex\n",
        "%matplotlib notebook"
      ]
    },
    {
      "cell_type": "markdown",
      "source": [
        "## Решение прямой задачи кинематики\n",
        "**Составление DH-матриц**\n",
        "\n",
        "Матрица Денавита-Хартенберга:\n",
        "\n",
        "<img src= \"https://wikimedia.org/api/rest_v1/media/math/render/svg/6963d0c47a3a894ff0719c8df348d188b996074e\" alt=\"inverse\" width=\"400\" />"
      ],
      "metadata": {
        "id": "_iv-I3MTEcW6"
      }
    },
    {
      "cell_type": "markdown",
      "source": [
        "\n",
        "Реализуем функцию, которая будет возвращать матрицу под соответствующие DH-параметры:"
      ],
      "metadata": {
        "id": "kQSiwrt05vpO"
      }
    },
    {
      "cell_type": "code",
      "source": [
        "def get_dh_matrix(theta, alpha, r, d):\n",
        "  alpha = (np.pi/180) * alpha\n",
        "  theta = (np.pi/180) * theta\n",
        "\n",
        "  ct = np.cos(theta)\n",
        "  st = np.sin(theta)\n",
        "  sa = np.sin(alpha)\n",
        "  ca = np.cos(alpha)\n",
        "\n",
        "  dh_matrix = np.array([\n",
        "      [ct,  -st * ca, st * sa, r * ct],\n",
        "      [st, ct *  ca, -ct * sa, r * st],\n",
        "      [0, sa, ca, d],\n",
        "      [0, 0, 0, 1]\n",
        "  ])\n",
        "\n",
        "  return dh_matrix"
      ],
      "metadata": {
        "id": "o9IdUnvi571v"
      },
      "execution_count": null,
      "outputs": []
    },
    {
      "cell_type": "markdown",
      "source": [
        "Расставим системы координат и составим таблицу, а по ней итоговую матрицу преобразований:\n",
        "\n",
        "<img src= \"https://drive.google.com/uc?export=view&id=18EiOZVcCKHVvgkmfPqdece4xYVxcEvYH\" alt=\"inverse\" width=\"400\" />"
      ],
      "metadata": {
        "id": "NIs_uLa_yw1E"
      }
    },
    {
      "cell_type": "code",
      "source": [
        "def forward_kinematics(generilized):\n",
        "  r = [0, 0, links_length[2]]\n",
        "  d = [links_length[0], links_length[1] + generilized[1], 0]\n",
        "  theta = [generilized[0] - 90, -90, generilized[2] - 90]\n",
        "  alpha = [-90, -90, 0]\n",
        "\n",
        "  #links_length[2]\n",
        "\n",
        "  matrix = np.eye(4)\n",
        "  for i in range(len(theta)):\n",
        "    matrix = matrix @ get_dh_matrix(theta[i], alpha[i], r[i], d[i])\n",
        "\n",
        "  return matrix"
      ],
      "metadata": {
        "id": "HLbD_euL4kOj"
      },
      "execution_count": null,
      "outputs": []
    },
    {
      "cell_type": "markdown",
      "source": [
        "Решим ПЗК для вектора обобщенных координат q = [-30, 0.5, 90]"
      ],
      "metadata": {
        "id": "kOd-cxvs1xI7"
      }
    },
    {
      "cell_type": "code",
      "source": [
        "forward_kinematics([-30, 0.5, 90])"
      ],
      "metadata": {
        "colab": {
          "base_uri": "https://localhost:8080/"
        },
        "id": "xhThNj449TdF",
        "outputId": "db35041a-3eac-4788-d8e8-b1fbf2bd7311"
      },
      "execution_count": null,
      "outputs": [
        {
          "output_type": "execute_result",
          "data": {
            "text/plain": [
              "array([[-8.36449319e-17, -8.66025404e-01, -5.00000000e-01,\n",
              "         1.55884573e+00],\n",
              "       [-2.24125920e-17,  5.00000000e-01, -8.66025404e-01,\n",
              "        -9.00000000e-01],\n",
              "       [ 1.00000000e+00, -6.12323400e-17, -6.12323400e-17,\n",
              "         3.70000000e+00],\n",
              "       [ 0.00000000e+00,  0.00000000e+00,  0.00000000e+00,\n",
              "         1.00000000e+00]])"
            ]
          },
          "metadata": {},
          "execution_count": 74
        }
      ]
    },
    {
      "cell_type": "markdown",
      "source": [
        "# Решение обратной задачи кинематики\n",
        "\n",
        "Рассмотрид вид сверху исходной кинематической схемы:\n",
        "\n",
        "<img src= \"https://drive.google.com/uc?export=view&id=16u0Gn5cK_Mwyt6NhC_CyctTbbU0kwyRr\" alt=\"inverse\" width=\"200\" />\n",
        "\n",
        "Заметим следующую зависимость:"
      ],
      "metadata": {
        "id": "lzXd-cYW0MlJ"
      }
    },
    {
      "cell_type": "code",
      "source": [
        "display(Math(r'\\Theta_{1} = \\textrm{argtan}(y_0 / x_0)'))"
      ],
      "metadata": {
        "colab": {
          "base_uri": "https://localhost:8080/",
          "height": 39
        },
        "id": "7aFIOL7mA-20",
        "outputId": "3b395d35-cc8e-4a4e-99d3-1b22d2782f2b"
      },
      "execution_count": null,
      "outputs": [
        {
          "output_type": "display_data",
          "data": {
            "text/plain": [
              "<IPython.core.display.Math object>"
            ],
            "text/latex": "$\\displaystyle \\Theta_{1} = \\textrm{argtan}(y_0 / x_0)$"
          },
          "metadata": {}
        }
      ]
    },
    {
      "cell_type": "markdown",
      "source": [
        "Не является возможным найти сразу решение для второй обобщенной координаты, так как нам неизвестна проекция длины третьего звена.\n",
        "\n",
        "Найдем ее по виду сбоку нашего манипулятора и найдем высоту обозначенную как b:\n",
        "\n",
        "<img src= \"https://drive.google.com/uc?export=view&id=1oQSe0p5Er6_KpYB8kVftatvfdA_2yEO7\" alt=\"inverse\" width=\"400\" />"
      ],
      "metadata": {
        "id": "CinbB6ACBT3e"
      }
    },
    {
      "cell_type": "code",
      "source": [
        "display(Math(r'b = z - l_{1}'))"
      ],
      "metadata": {
        "colab": {
          "base_uri": "https://localhost:8080/",
          "height": 39
        },
        "id": "zss3ONawEwrt",
        "outputId": "4ae54351-8d22-4b47-8f6d-b0606d9d4e4c"
      },
      "execution_count": null,
      "outputs": [
        {
          "output_type": "display_data",
          "data": {
            "text/plain": [
              "<IPython.core.display.Math object>"
            ],
            "text/latex": "$\\displaystyle b = z - l_{1}$"
          },
          "metadata": {}
        }
      ]
    },
    {
      "cell_type": "markdown",
      "source": [
        "Тогда становится известна проекция длины третьего звена на плоскость X0Y0:"
      ],
      "metadata": {
        "id": "JWq2KgDTE-UZ"
      }
    },
    {
      "cell_type": "code",
      "source": [
        "display(Math(r'l_{3_{x_{0}y_{0}}} = l_{3}*cos(\\Theta_{3})'))"
      ],
      "metadata": {
        "colab": {
          "base_uri": "https://localhost:8080/",
          "height": 39
        },
        "id": "JGjHjPCJFGay",
        "outputId": "3709a62c-fc53-4785-ff6d-ace3ff6c7df3"
      },
      "execution_count": null,
      "outputs": [
        {
          "output_type": "display_data",
          "data": {
            "text/plain": [
              "<IPython.core.display.Math object>"
            ],
            "text/latex": "$\\displaystyle l_{3_{x_{0}y_{0}}} = l_{3}*cos(\\Theta_{3})$"
          },
          "metadata": {}
        }
      ]
    },
    {
      "cell_type": "markdown",
      "source": [
        "Найдем этот угол:"
      ],
      "metadata": {
        "id": "aUVsw8L9FzHY"
      }
    },
    {
      "cell_type": "code",
      "source": [
        "display(Math(r'\\Theta_{3} = arcsin(\\frac{z - l1}{l3})'))\n",
        "display(Math(r'\\Theta_{3} = \\pi - arcsin(\\frac{z - l1}{l3})'))"
      ],
      "metadata": {
        "colab": {
          "base_uri": "https://localhost:8080/",
          "height": 87
        },
        "id": "CcJMk9sKF5VW",
        "outputId": "7f568d87-c9f4-46c8-cd02-e9a01e8b49a1"
      },
      "execution_count": null,
      "outputs": [
        {
          "output_type": "display_data",
          "data": {
            "text/plain": [
              "<IPython.core.display.Math object>"
            ],
            "text/latex": "$\\displaystyle \\Theta_{3} = arcsin(\\frac{z - l1}{l3})$"
          },
          "metadata": {}
        },
        {
          "output_type": "display_data",
          "data": {
            "text/plain": [
              "<IPython.core.display.Math object>"
            ],
            "text/latex": "$\\displaystyle \\Theta_{3} = \\pi - arcsin(\\frac{z - l1}{l3})$"
          },
          "metadata": {}
        }
      ]
    },
    {
      "cell_type": "markdown",
      "source": [
        "В результате мы получили два решения.\n",
        "\n",
        "Так как от найденного угла зависит проекция третьего звена на плоскость X0Y0, вычислим вторую обобщенную координату:"
      ],
      "metadata": {
        "id": "XnN9R3nSGPVv"
      }
    },
    {
      "cell_type": "code",
      "source": [
        "display(Math(r'd2 = \\sqrt{x_{0}^{2} + y_{0}^{2}} - l_{2} - l_{3} * cos(\\Theta_{3})'))"
      ],
      "metadata": {
        "colab": {
          "base_uri": "https://localhost:8080/",
          "height": 48
        },
        "id": "-2v3wcjfG3LM",
        "outputId": "5d878981-d618-440c-9261-e0796f596305"
      },
      "execution_count": null,
      "outputs": [
        {
          "output_type": "display_data",
          "data": {
            "text/plain": [
              "<IPython.core.display.Math object>"
            ],
            "text/latex": "$\\displaystyle d2 = \\sqrt{x_{0}^{2} + y_{0}^{2}} - l_{2} - l_{3} * cos(\\Theta_{3})$"
          },
          "metadata": {}
        }
      ]
    },
    {
      "cell_type": "markdown",
      "source": [
        "Аналитические выражения для решения ОЗК получены."
      ],
      "metadata": {
        "id": "R5lxHx4QJckL"
      }
    },
    {
      "cell_type": "code",
      "source": [
        "def IK(x, y, z, l1, l2, l3):\n",
        "  theta1 = np.arctan2(y, x)\n",
        "  theta3_1 = np.arcsin((z - l1) / l3)\n",
        "  theta3_2 = np.pi - np.arcsin((z - l1) / l3)\n",
        "  theta3_sol = [theta3_1, theta3_2]\n",
        "\n",
        "  sqrt_xy = np.float64((x**2 + y**2)**(1/2))\n",
        "  l3_x0y0_1 = np.float64(l3) * np.cos(theta3_1)\n",
        "  l3_x0y0_2 = np.float64(l3) * np.cos(theta3_2)\n",
        "\n",
        "  d2_1 = sqrt_xy - l3_x0y0_1 - l2\n",
        "  d2_2 = sqrt_xy - l3_x0y0_2 - l2\n",
        "  d2_sol = [d2_1, d2_2]\n",
        "\n",
        "  for i in range(len(theta3_sol)):\n",
        "    q = [np.round(np.rad2deg(theta1), 2), np.round(d2_sol[i], 5), np.round(np.rad2deg(theta3_sol[i]), 2)]\n",
        "    yield q"
      ],
      "metadata": {
        "id": "FhxVSJ-nYaCE"
      },
      "execution_count": null,
      "outputs": []
    },
    {
      "cell_type": "markdown",
      "source": [
        "Решим прямую задачу кинематики для обобщенных координат: [60, 5, 30]"
      ],
      "metadata": {
        "id": "qDFR9MpvKDSg"
      }
    },
    {
      "cell_type": "code",
      "source": [
        "fk_sol = forward_kinematics([60, 5, 30])\n",
        "fk_sol"
      ],
      "metadata": {
        "colab": {
          "base_uri": "https://localhost:8080/"
        },
        "id": "w6zdpupVCXyf",
        "outputId": "b2b2e8f6-a48a-40d5-e2cf-2be1d9508c1f"
      },
      "execution_count": null,
      "outputs": [
        {
          "output_type": "execute_result",
          "data": {
            "text/plain": [
              "array([[ 4.33012702e-01, -2.50000000e-01,  8.66025404e-01,\n",
              "         4.10262794e+00],\n",
              "       [ 7.50000000e-01, -4.33012702e-01, -5.00000000e-01,\n",
              "         7.10596004e+00],\n",
              "       [ 5.00000000e-01,  8.66025404e-01, -6.12323400e-17,\n",
              "         2.60000000e+00],\n",
              "       [ 0.00000000e+00,  0.00000000e+00,  0.00000000e+00,\n",
              "         1.00000000e+00]])"
            ]
          },
          "metadata": {},
          "execution_count": 105
        }
      ]
    },
    {
      "cell_type": "markdown",
      "source": [
        "Вычислим позицию концевой точки, домножив на вектор-столбец: [0,0,0,1]"
      ],
      "metadata": {
        "id": "bE8SsNS3LLGo"
      }
    },
    {
      "cell_type": "code",
      "source": [
        "tcp_pos = fk_sol @ np.array([[0], [0], [0], [1]])\n",
        "tcp_pos"
      ],
      "metadata": {
        "id": "RXOcwppSII1r",
        "colab": {
          "base_uri": "https://localhost:8080/"
        },
        "outputId": "428e972f-2d2d-4249-abd6-25ce3b34ba12"
      },
      "execution_count": null,
      "outputs": [
        {
          "output_type": "execute_result",
          "data": {
            "text/plain": [
              "array([[4.10262794],\n",
              "       [7.10596004],\n",
              "       [2.6       ],\n",
              "       [1.        ]])"
            ]
          },
          "metadata": {},
          "execution_count": 106
        }
      ]
    },
    {
      "cell_type": "code",
      "source": [
        "x_f, y_f, z_f = tcp_pos[0, 0], tcp_pos[1, 0], tcp_pos[2, 0]\n",
        "l1, l2, l3 = links_length[0], links_length[1], links_length[2]"
      ],
      "metadata": {
        "id": "QO9vhyveSEes"
      },
      "execution_count": null,
      "outputs": []
    },
    {
      "cell_type": "markdown",
      "source": [],
      "metadata": {
        "id": "oCt2vPFZLm3z"
      }
    },
    {
      "cell_type": "code",
      "source": [
        "x_f"
      ],
      "metadata": {
        "colab": {
          "base_uri": "https://localhost:8080/"
        },
        "id": "9Nhsf6TAStJ2",
        "outputId": "e7f1f624-8040-47a7-efaf-2e307b3b0779"
      },
      "execution_count": null,
      "outputs": [
        {
          "output_type": "execute_result",
          "data": {
            "text/plain": [
              "4.102627944162882"
            ]
          },
          "metadata": {},
          "execution_count": 108
        }
      ]
    },
    {
      "cell_type": "code",
      "source": [
        "y_f"
      ],
      "metadata": {
        "colab": {
          "base_uri": "https://localhost:8080/"
        },
        "id": "Pz0xQAlkS1fE",
        "outputId": "3b76c412-3395-4c8e-9557-c44a18c95e5d"
      },
      "execution_count": null,
      "outputs": [
        {
          "output_type": "execute_result",
          "data": {
            "text/plain": [
              "7.105960043841964"
            ]
          },
          "metadata": {},
          "execution_count": 109
        }
      ]
    },
    {
      "cell_type": "code",
      "source": [
        "z_f"
      ],
      "metadata": {
        "colab": {
          "base_uri": "https://localhost:8080/"
        },
        "id": "BaLdqu_kS2VY",
        "outputId": "66f79b03-c45d-4070-95f7-f4da67389771"
      },
      "execution_count": null,
      "outputs": [
        {
          "output_type": "execute_result",
          "data": {
            "text/plain": [
              "2.600000000000001"
            ]
          },
          "metadata": {},
          "execution_count": 110
        }
      ]
    },
    {
      "cell_type": "markdown",
      "source": [
        "Переберем все решения ОЗК для данной точки и запишем их. Решения ОЗК должны совпать с тем, что мы задавали вначале в функции ПЗК в качестве обобщенных координат. Задавали вектор: [60, 5, 30]"
      ],
      "metadata": {
        "id": "kZzLLsf1LTz4"
      }
    },
    {
      "cell_type": "code",
      "source": [
        "for i in IK(x_f, y_f, z_f, l1, l2, l3):\n",
        "  print(i)"
      ],
      "metadata": {
        "colab": {
          "base_uri": "https://localhost:8080/"
        },
        "id": "_2MxgLlDS2wU",
        "outputId": "3c69dd66-46df-4c12-b38a-28cff75c202a"
      },
      "execution_count": null,
      "outputs": [
        {
          "output_type": "stream",
          "name": "stdout",
          "text": [
            "[60.0, 5.0, 30.0]\n",
            "[60.0, 8.81051, 150.0]\n"
          ]
        }
      ]
    },
    {
      "cell_type": "markdown",
      "source": [
        "Проверка выполнена.\n",
        "\n",
        "Подставим позицию конкретной точки и вычислим для нее ОЗК (в соответствии с вариантом): [0.4,0.3, 0.1]"
      ],
      "metadata": {
        "id": "GfnMwhitMFde"
      }
    },
    {
      "cell_type": "code",
      "source": [
        "x_v = 0.4\n",
        "y_v = 0.3\n",
        "z_v = 0.1\n",
        "\n",
        "for i in IK(x_v, y_v, z_v, l1, l2, l3):\n",
        "  print(i)"
      ],
      "metadata": {
        "colab": {
          "base_uri": "https://localhost:8080/"
        },
        "id": "BhDPnFflMQzd",
        "outputId": "1dcb5738-301c-4df7-b382-1150e1835577"
      },
      "execution_count": null,
      "outputs": [
        {
          "output_type": "stream",
          "name": "stdout",
          "text": [
            "[36.87, -2.49706, -39.52]\n",
            "[36.87, 0.89706, 219.52]\n"
          ]
        }
      ]
    }
  ]
}