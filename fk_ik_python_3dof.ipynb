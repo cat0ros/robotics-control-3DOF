{
  "nbformat": 4,
  "nbformat_minor": 0,
  "metadata": {
    "colab": {
      "provenance": [],
      "authorship_tag": "ABX9TyOuwtJrfBwGoDXNhLZiqBxe",
      "include_colab_link": true
    },
    "kernelspec": {
      "name": "python3",
      "display_name": "Python 3"
    },
    "language_info": {
      "name": "python"
    }
  },
  "cells": [
    {
      "cell_type": "markdown",
      "metadata": {
        "id": "view-in-github",
        "colab_type": "text"
      },
      "source": [
        "<a href=\"https://colab.research.google.com/github/cat0ros/robotics-control-3DOF/blob/master/fk_ik_python_3dof.ipynb\" target=\"_parent\"><img src=\"https://colab.research.google.com/assets/colab-badge.svg\" alt=\"Open In Colab\"/></a>"
      ]
    },
    {
      "cell_type": "markdown",
      "source": [
        "# Домашнее задание по управлению роботами №1\n",
        "Выполнил: Романов Ростислав, группа: АДБ-20-09\n",
        "\n",
        "<img src= \"https://drive.google.com/uc?export=view&id=1PpzfCIzka8X_ljyS4piV1AKeBfmu2AZ3\" alt=\"inverse\" width=\"400\" />\n",
        "\n",
        "***Рисунок 1: Пространственное представление схемы манипулятора***\n",
        "\n",
        "<img src= \"https://drive.google.com/uc?export=view&id=1zDL-aUGP3qxmC3ibMRZ7z9wZ6hDe7knu\" alt=\"inverse\" width=\"400\" />\n",
        "\n",
        "***Рисунок 2: Кинематическая схема манипулятора***"
      ],
      "metadata": {
        "id": "6SwnfPVIErN4"
      }
    },
    {
      "cell_type": "markdown",
      "source": [
        "## Параметры и описание робота\n",
        "Длины звеньев робота:"
      ],
      "metadata": {
        "id": "hB1gYlU9JzvL"
      }
    },
    {
      "cell_type": "code",
      "source": [
        "links_length = [1.5, 1.3, 2.2]"
      ],
      "metadata": {
        "id": "ra1yJikgM7sE"
      },
      "execution_count": 407,
      "outputs": []
    },
    {
      "cell_type": "markdown",
      "source": [
        "## Библиотеки для работы"
      ],
      "metadata": {
        "id": "94P6phCPHZgH"
      }
    },
    {
      "cell_type": "code",
      "execution_count": 408,
      "metadata": {
        "id": "CUjvmxeX5r7S"
      },
      "outputs": [],
      "source": [
        "from matplotlib import pyplot as plt\n",
        "from matplotlib import animation\n",
        "import numpy as np\n",
        "from numpy.linalg import inv\n",
        "import math\n",
        "import sympy as sp\n",
        "from IPython.display import HTML, Math, Latex\n",
        "%matplotlib notebook"
      ]
    },
    {
      "cell_type": "markdown",
      "source": [
        "## Решение прямой задачи кинематики\n",
        "**Составление DH-матриц**\n",
        "\n",
        "Матрица Денавита-Хартенберга:\n",
        "\n",
        "<img src= \"https://wikimedia.org/api/rest_v1/media/math/render/svg/6963d0c47a3a894ff0719c8df348d188b996074e\" alt=\"inverse\" width=\"400\" />"
      ],
      "metadata": {
        "id": "_iv-I3MTEcW6"
      }
    },
    {
      "cell_type": "markdown",
      "source": [
        "Функции вычисления матриц преобразований:"
      ],
      "metadata": {
        "id": "SNRTrbwQ78DZ"
      }
    },
    {
      "cell_type": "code",
      "source": [
        "def rz(a):\n",
        "    return sp.Matrix([\n",
        "        [sp.cos(a), -sp.sin(a), 0, 0],\n",
        "        [sp.sin(a), sp.cos(a), 0, 0],\n",
        "        [0, 0, 1, 0],\n",
        "        [0, 0, 0, 1]\n",
        "    ])\n",
        "\n",
        "def ry(a):\n",
        "    return sp.Matrix([\n",
        "        [sp.cos(a), 0, sp.sin(a), 0],\n",
        "        [0, 1, 0, 0],\n",
        "        [-sp.sin(a), 0, sp.cos(a), 0],\n",
        "        [0, 0, 0, 1]\n",
        "    ])\n",
        "\n",
        "def rx(a):\n",
        "    return sp.Matrix([\n",
        "        [1, 0, 0, 0],\n",
        "        [0, sp.cos(a), -sp.sin(a), 0],\n",
        "        [0, sp.sin(a), sp.cos(a), 0],\n",
        "        [0, 0, 0, 1]\n",
        "    ])\n",
        "\n",
        "def trs(x, y, z):\n",
        "    return sp.Matrix([\n",
        "        [1, 0, 0, x],\n",
        "        [0, 1, 0, y],\n",
        "        [0, 0, 1, z],\n",
        "        [0, 0, 0, 1]\n",
        "    ])\n",
        "\n",
        "def vec(x, y, z):\n",
        "    return sp.Matrix([\n",
        "        [x],\n",
        "        [y],\n",
        "        [z],\n",
        "        [1]\n",
        "    ])\n",
        "\n",
        "def dh(theta, d, alpha, a):\n",
        "    return rz(theta) * trs(0, 0, d) * rx(alpha) * trs(a, 0, 0)"
      ],
      "metadata": {
        "id": "fpHxuiKe7_vS"
      },
      "execution_count": 409,
      "outputs": []
    },
    {
      "cell_type": "markdown",
      "source": [
        "\n",
        "Реализуем функцию, которая будет возвращать матрицу под соответствующие DH-параметры:"
      ],
      "metadata": {
        "id": "kQSiwrt05vpO"
      }
    },
    {
      "cell_type": "code",
      "source": [
        "def get_dh_matrix(theta, alpha, r, d):\n",
        "  alpha = (np.pi/180) * alpha\n",
        "  theta = (np.pi/180) * theta\n",
        "\n",
        "  ct = np.cos(theta)\n",
        "  st = np.sin(theta)\n",
        "  sa = np.sin(alpha)\n",
        "  ca = np.cos(alpha)\n",
        "\n",
        "  dh_matrix = np.array([\n",
        "      [ct,  -st * ca, st * sa, r * ct],\n",
        "      [st, ct *  ca, -ct * sa, r * st],\n",
        "      [0, sa, ca, d],\n",
        "      [0, 0, 0, 1]\n",
        "  ])\n",
        "\n",
        "  return dh_matrix"
      ],
      "metadata": {
        "id": "o9IdUnvi571v"
      },
      "execution_count": 410,
      "outputs": []
    },
    {
      "cell_type": "markdown",
      "source": [
        "Расставим системы координат и составим таблицу, а по ней итоговую матрицу преобразований:\n",
        "\n",
        "<img src= \"https://drive.google.com/uc?export=view&id=18EiOZVcCKHVvgkmfPqdece4xYVxcEvYH\" alt=\"inverse\" width=\"600\" />\n",
        "\n",
        "Заметим, что нулевое положение робота будет слева, тогда для изображения справа повернем вокруг оси Z концевую точку на 90 градусов в положительном направлении."
      ],
      "metadata": {
        "id": "NIs_uLa_yw1E"
      }
    },
    {
      "cell_type": "code",
      "source": [
        "def forward_kinematics(generilized):\n",
        "  r = [0, 0, links_length[2]]\n",
        "  d = [links_length[0], links_length[1] + generilized[1], 0]\n",
        "  theta = [generilized[0] - 90, 90, generilized[2] + 90]\n",
        "  alpha = [-90, 90, 0]\n",
        "\n",
        "  #links_length[2]\n",
        "\n",
        "  matrix = np.eye(4)\n",
        "  for i in range(len(theta)):\n",
        "    matrix = matrix @ get_dh_matrix(theta[i], alpha[i], r[i], d[i])\n",
        "\n",
        "  return matrix\n",
        "\n",
        "theta1, d1, alpha1, a1 = sp.symbols(\"theta_1, l_1, alpha_1, a_1\")\n",
        "theta2, d2, alpha2, a2 = sp.symbols(\"theta_2, d_2, alpha_2, a_2\")\n",
        "theta3, d3, alpha3, a3 = sp.symbols(\"theta_3, d_3, alpha_3, l_3\")\n",
        "dh1 = dh(theta1 - sp.pi / 2, d1, -sp.pi / 2, 0)\n",
        "dh2 = dh(sp.pi / 2, d2 + sp.symbols(\"l_2\"), sp.pi / 2, 0)\n",
        "dh3 = dh(theta3 + sp.pi / 2, 0, 0, a3)\n",
        "\n",
        "dh_op = dh1 * dh2 * dh3"
      ],
      "metadata": {
        "id": "HLbD_euL4kOj"
      },
      "execution_count": 411,
      "outputs": []
    },
    {
      "cell_type": "markdown",
      "source": [
        "Результирующая матрица для данной кинематической схемы:"
      ],
      "metadata": {
        "id": "ImzCpu0V8XZU"
      }
    },
    {
      "cell_type": "code",
      "source": [
        "dh_op"
      ],
      "metadata": {
        "colab": {
          "base_uri": "https://localhost:8080/",
          "height": 99
        },
        "id": "F4wRra9s8XFx",
        "outputId": "7efac4e1-b8dc-48a5-f2ba-35e7863a26dd"
      },
      "execution_count": 412,
      "outputs": [
        {
          "output_type": "execute_result",
          "data": {
            "text/plain": [
              "Matrix([\n",
              "[cos(theta_1)*cos(theta_3), -sin(theta_3)*cos(theta_1),  sin(theta_1), l_3*cos(theta_1)*cos(theta_3) + (d_2 + l_2)*cos(theta_1)],\n",
              "[sin(theta_1)*cos(theta_3), -sin(theta_1)*sin(theta_3), -cos(theta_1), l_3*sin(theta_1)*cos(theta_3) + (d_2 + l_2)*sin(theta_1)],\n",
              "[             sin(theta_3),               cos(theta_3),             0,                                   l_1 + l_3*sin(theta_3)],\n",
              "[                        0,                          0,             0,                                                        1]])"
            ],
            "text/latex": "$\\displaystyle \\left[\\begin{matrix}\\cos{\\left(\\theta_{1} \\right)} \\cos{\\left(\\theta_{3} \\right)} & - \\sin{\\left(\\theta_{3} \\right)} \\cos{\\left(\\theta_{1} \\right)} & \\sin{\\left(\\theta_{1} \\right)} & l_{3} \\cos{\\left(\\theta_{1} \\right)} \\cos{\\left(\\theta_{3} \\right)} + \\left(d_{2} + l_{2}\\right) \\cos{\\left(\\theta_{1} \\right)}\\\\\\sin{\\left(\\theta_{1} \\right)} \\cos{\\left(\\theta_{3} \\right)} & - \\sin{\\left(\\theta_{1} \\right)} \\sin{\\left(\\theta_{3} \\right)} & - \\cos{\\left(\\theta_{1} \\right)} & l_{3} \\sin{\\left(\\theta_{1} \\right)} \\cos{\\left(\\theta_{3} \\right)} + \\left(d_{2} + l_{2}\\right) \\sin{\\left(\\theta_{1} \\right)}\\\\\\sin{\\left(\\theta_{3} \\right)} & \\cos{\\left(\\theta_{3} \\right)} & 0 & l_{1} + l_{3} \\sin{\\left(\\theta_{3} \\right)}\\\\0 & 0 & 0 & 1\\end{matrix}\\right]$"
          },
          "metadata": {},
          "execution_count": 412
        }
      ]
    },
    {
      "cell_type": "markdown",
      "source": [
        "Первая матрица преобразований:"
      ],
      "metadata": {
        "id": "ZDY9oPuK85SO"
      }
    },
    {
      "cell_type": "code",
      "source": [
        "sp.simplify(dh1)"
      ],
      "metadata": {
        "colab": {
          "base_uri": "https://localhost:8080/",
          "height": 99
        },
        "id": "Vw24fB_o8yEP",
        "outputId": "6be220b2-b7d8-4c37-e971-bf86ddd7858a"
      },
      "execution_count": 413,
      "outputs": [
        {
          "output_type": "execute_result",
          "data": {
            "text/plain": [
              "Matrix([\n",
              "[ sin(theta_1),  0, cos(theta_1),   0],\n",
              "[-cos(theta_1),  0, sin(theta_1),   0],\n",
              "[            0, -1,            0, l_1],\n",
              "[            0,  0,            0,   1]])"
            ],
            "text/latex": "$\\displaystyle \\left[\\begin{matrix}\\sin{\\left(\\theta_{1} \\right)} & 0 & \\cos{\\left(\\theta_{1} \\right)} & 0\\\\- \\cos{\\left(\\theta_{1} \\right)} & 0 & \\sin{\\left(\\theta_{1} \\right)} & 0\\\\0 & -1 & 0 & l_{1}\\\\0 & 0 & 0 & 1\\end{matrix}\\right]$"
          },
          "metadata": {},
          "execution_count": 413
        }
      ]
    },
    {
      "cell_type": "markdown",
      "source": [
        "Вторая матрица преобразований:"
      ],
      "metadata": {
        "id": "Go5NS8ng881X"
      }
    },
    {
      "cell_type": "code",
      "source": [
        "sp.simplify(dh2)"
      ],
      "metadata": {
        "colab": {
          "base_uri": "https://localhost:8080/",
          "height": 99
        },
        "id": "8AmrUsvB80sS",
        "outputId": "7a1f7870-36f4-43fa-a991-613a3520c73c"
      },
      "execution_count": 414,
      "outputs": [
        {
          "output_type": "execute_result",
          "data": {
            "text/plain": [
              "Matrix([\n",
              "[0, 0, 1,         0],\n",
              "[1, 0, 0,         0],\n",
              "[0, 1, 0, d_2 + l_2],\n",
              "[0, 0, 0,         1]])"
            ],
            "text/latex": "$\\displaystyle \\left[\\begin{matrix}0 & 0 & 1 & 0\\\\1 & 0 & 0 & 0\\\\0 & 1 & 0 & d_{2} + l_{2}\\\\0 & 0 & 0 & 1\\end{matrix}\\right]$"
          },
          "metadata": {},
          "execution_count": 414
        }
      ]
    },
    {
      "cell_type": "markdown",
      "source": [
        "Третья матрица преобразований:"
      ],
      "metadata": {
        "id": "Vxb5wgPJ9AMj"
      }
    },
    {
      "cell_type": "code",
      "source": [
        "sp.simplify(dh3)"
      ],
      "metadata": {
        "colab": {
          "base_uri": "https://localhost:8080/",
          "height": 99
        },
        "id": "nKfY51GR82Xp",
        "outputId": "aa53f5ac-6d1b-4924-95aa-73f1733b37e2"
      },
      "execution_count": 415,
      "outputs": [
        {
          "output_type": "execute_result",
          "data": {
            "text/plain": [
              "Matrix([\n",
              "[-sin(theta_3), -cos(theta_3), 0, -l_3*sin(theta_3)],\n",
              "[ cos(theta_3), -sin(theta_3), 0,  l_3*cos(theta_3)],\n",
              "[            0,             0, 1,                 0],\n",
              "[            0,             0, 0,                 1]])"
            ],
            "text/latex": "$\\displaystyle \\left[\\begin{matrix}- \\sin{\\left(\\theta_{3} \\right)} & - \\cos{\\left(\\theta_{3} \\right)} & 0 & - l_{3} \\sin{\\left(\\theta_{3} \\right)}\\\\\\cos{\\left(\\theta_{3} \\right)} & - \\sin{\\left(\\theta_{3} \\right)} & 0 & l_{3} \\cos{\\left(\\theta_{3} \\right)}\\\\0 & 0 & 1 & 0\\\\0 & 0 & 0 & 1\\end{matrix}\\right]$"
          },
          "metadata": {},
          "execution_count": 415
        }
      ]
    },
    {
      "cell_type": "markdown",
      "source": [
        "Решим ПЗК для вектора обобщенных координат q = [30, 2.2, 90]"
      ],
      "metadata": {
        "id": "kOd-cxvs1xI7"
      }
    },
    {
      "cell_type": "code",
      "source": [
        "forward_kinematics([30, 2.2, 90])"
      ],
      "metadata": {
        "colab": {
          "base_uri": "https://localhost:8080/"
        },
        "id": "xhThNj449TdF",
        "outputId": "f84a9256-eb4d-4a51-bd0c-87db97156fb1"
      },
      "execution_count": 416,
      "outputs": [
        {
          "output_type": "execute_result",
          "data": {
            "text/plain": [
              "array([[ 2.24125920e-17, -8.66025404e-01,  5.00000000e-01,\n",
              "         3.03108891e+00],\n",
              "       [ 8.36449319e-17, -5.00000000e-01, -8.66025404e-01,\n",
              "         1.75000000e+00],\n",
              "       [ 1.00000000e+00,  6.12323400e-17,  6.12323400e-17,\n",
              "         3.70000000e+00],\n",
              "       [ 0.00000000e+00,  0.00000000e+00,  0.00000000e+00,\n",
              "         1.00000000e+00]])"
            ]
          },
          "metadata": {},
          "execution_count": 416
        }
      ]
    },
    {
      "cell_type": "markdown",
      "source": [
        "Решение в матричном виде:"
      ],
      "metadata": {
        "id": "-5CliJab9PZA"
      }
    },
    {
      "cell_type": "code",
      "source": [
        "dh1_1 = dh(sp.pi / 6 - sp.pi / 2, links_length[0], -sp.pi / 2, 0)\n",
        "dh2_2 = dh(sp.pi / 2, 2.2 + links_length[1], sp.pi / 2, 0)\n",
        "dh3_3 = dh(sp.pi / 2 + sp.pi / 2, 0, 0, links_length[2])\n",
        "\n",
        "dh_op_ = dh1_1 * dh2_2 * dh3_3\n",
        "\n",
        "dh_op_"
      ],
      "metadata": {
        "colab": {
          "base_uri": "https://localhost:8080/",
          "height": 105
        },
        "id": "Ketk4rrd9SKa",
        "outputId": "fd2b0a09-7cc2-48b8-d77f-b911b3612788"
      },
      "execution_count": 418,
      "outputs": [
        {
          "output_type": "execute_result",
          "data": {
            "text/plain": [
              "Matrix([\n",
              "[0, -sqrt(3)/2,        1/2, 1.75*sqrt(3)],\n",
              "[0,       -1/2, -sqrt(3)/2,         1.75],\n",
              "[1,          0,          0,          3.7],\n",
              "[0,          0,          0,            1]])"
            ],
            "text/latex": "$\\displaystyle \\left[\\begin{matrix}0 & - \\frac{\\sqrt{3}}{2} & \\frac{1}{2} & 1.75 \\sqrt{3}\\\\0 & - \\frac{1}{2} & - \\frac{\\sqrt{3}}{2} & 1.75\\\\1 & 0 & 0 & 3.7\\\\0 & 0 & 0 & 1\\end{matrix}\\right]$"
          },
          "metadata": {},
          "execution_count": 418
        }
      ]
    },
    {
      "cell_type": "markdown",
      "source": [
        "# Решение обратной задачи кинематики\n",
        "\n",
        "Рассмотрид вид сверху исходной кинематической схемы:\n",
        "\n",
        "<img src= \"https://drive.google.com/uc?export=view&id=16u0Gn5cK_Mwyt6NhC_CyctTbbU0kwyRr\" alt=\"inverse\" width=\"200\" />\n",
        "\n",
        "Заметим следующую зависимость:"
      ],
      "metadata": {
        "id": "lzXd-cYW0MlJ"
      }
    },
    {
      "cell_type": "code",
      "source": [
        "display(Math(r'\\Theta_{1} = \\text{arctan2}(y_0, x_0)'))"
      ],
      "metadata": {
        "colab": {
          "base_uri": "https://localhost:8080/",
          "height": 39
        },
        "id": "7aFIOL7mA-20",
        "outputId": "09df9f29-0576-4083-e0a2-c7de188ab59a"
      },
      "execution_count": 335,
      "outputs": [
        {
          "output_type": "display_data",
          "data": {
            "text/plain": [
              "<IPython.core.display.Math object>"
            ],
            "text/latex": "$\\displaystyle \\Theta_{1} = \\text{arctan2}(y_0, x_0)$"
          },
          "metadata": {}
        }
      ]
    },
    {
      "cell_type": "markdown",
      "source": [
        "Не является возможным найти сразу решение для второй обобщенной координаты, так как нам неизвестна проекция длины третьего звена.\n",
        "\n",
        "Найдем ее по виду сбоку нашего манипулятора и найдем высоту обозначенную как b:\n",
        "\n",
        "<img src= \"https://drive.google.com/uc?export=view&id=1oQSe0p5Er6_KpYB8kVftatvfdA_2yEO7\" alt=\"inverse\" width=\"400\" />"
      ],
      "metadata": {
        "id": "CinbB6ACBT3e"
      }
    },
    {
      "cell_type": "code",
      "source": [
        "display(Math(r'b = z - l_{1}'))"
      ],
      "metadata": {
        "colab": {
          "base_uri": "https://localhost:8080/",
          "height": 39
        },
        "id": "zss3ONawEwrt",
        "outputId": "9afeb97a-3985-411e-85ca-03e4d8a4eb47"
      },
      "execution_count": 336,
      "outputs": [
        {
          "output_type": "display_data",
          "data": {
            "text/plain": [
              "<IPython.core.display.Math object>"
            ],
            "text/latex": "$\\displaystyle b = z - l_{1}$"
          },
          "metadata": {}
        }
      ]
    },
    {
      "cell_type": "markdown",
      "source": [
        "Тогда становится известна проекция длины третьего звена на плоскость X0Y0:"
      ],
      "metadata": {
        "id": "JWq2KgDTE-UZ"
      }
    },
    {
      "cell_type": "code",
      "source": [
        "display(Math(r'l_{3_{x_{0}y_{0}}} = l_{3}*cos(\\Theta_{3})'))"
      ],
      "metadata": {
        "colab": {
          "base_uri": "https://localhost:8080/",
          "height": 39
        },
        "id": "JGjHjPCJFGay",
        "outputId": "d8d04110-bed1-4b94-b25b-35a1938da12a"
      },
      "execution_count": 337,
      "outputs": [
        {
          "output_type": "display_data",
          "data": {
            "text/plain": [
              "<IPython.core.display.Math object>"
            ],
            "text/latex": "$\\displaystyle l_{3_{x_{0}y_{0}}} = l_{3}*cos(\\Theta_{3})$"
          },
          "metadata": {}
        }
      ]
    },
    {
      "cell_type": "markdown",
      "source": [
        "Найдем этот угол:"
      ],
      "metadata": {
        "id": "aUVsw8L9FzHY"
      }
    },
    {
      "cell_type": "code",
      "source": [
        "display(Math(r'\\Theta_{3} = arcsin(\\frac{z - l1}{l3})'))\n",
        "display(Math(r'\\Theta_{3} = \\pi - arcsin(\\frac{z - l1}{l3})'))"
      ],
      "metadata": {
        "colab": {
          "base_uri": "https://localhost:8080/",
          "height": 87
        },
        "id": "CcJMk9sKF5VW",
        "outputId": "08ae4f8a-fbf6-423d-c900-1f56bc7fb3f5"
      },
      "execution_count": 338,
      "outputs": [
        {
          "output_type": "display_data",
          "data": {
            "text/plain": [
              "<IPython.core.display.Math object>"
            ],
            "text/latex": "$\\displaystyle \\Theta_{3} = arcsin(\\frac{z - l1}{l3})$"
          },
          "metadata": {}
        },
        {
          "output_type": "display_data",
          "data": {
            "text/plain": [
              "<IPython.core.display.Math object>"
            ],
            "text/latex": "$\\displaystyle \\Theta_{3} = \\pi - arcsin(\\frac{z - l1}{l3})$"
          },
          "metadata": {}
        }
      ]
    },
    {
      "cell_type": "markdown",
      "source": [
        "В результате мы получили два решения.\n",
        "\n",
        "Так как от найденного угла зависит проекция третьего звена на плоскость X0Y0, вычислим вторую обобщенную координату:"
      ],
      "metadata": {
        "id": "XnN9R3nSGPVv"
      }
    },
    {
      "cell_type": "code",
      "source": [
        "display(Math(r'd2 = \\sqrt{x_{0}^{2} + y_{0}^{2}} - l_{2} - l_{3} * cos(\\Theta_{3})'))"
      ],
      "metadata": {
        "colab": {
          "base_uri": "https://localhost:8080/",
          "height": 48
        },
        "id": "-2v3wcjfG3LM",
        "outputId": "9a3d63cd-736a-444f-856a-828006f240bb"
      },
      "execution_count": 339,
      "outputs": [
        {
          "output_type": "display_data",
          "data": {
            "text/plain": [
              "<IPython.core.display.Math object>"
            ],
            "text/latex": "$\\displaystyle d2 = \\sqrt{x_{0}^{2} + y_{0}^{2}} - l_{2} - l_{3} * cos(\\Theta_{3})$"
          },
          "metadata": {}
        }
      ]
    },
    {
      "cell_type": "markdown",
      "source": [
        "Аналитические выражения для решения ОЗК получены."
      ],
      "metadata": {
        "id": "R5lxHx4QJckL"
      }
    },
    {
      "cell_type": "code",
      "source": [
        "def IK(x, y, z, l1, l2, l3):\n",
        "  theta1 = np.arctan2(y, x)\n",
        "  theta3_1 = np.arcsin((z - l1) / l3)\n",
        "  theta3_2 = np.pi - np.arcsin((z - l1) / l3)\n",
        "  theta3_sol = [theta3_1, theta3_2]\n",
        "  sqrt_xy = np.float64((x**2 + y**2)**(1/2))\n",
        "  l3_x0y0_1 = np.float64(l3) * np.cos(theta3_1)\n",
        "  l3_x0y0_2 = np.float64(l3) * np.cos(theta3_2)\n",
        "  d2_1 = sqrt_xy - l3_x0y0_1 - l2\n",
        "  d2_2 = sqrt_xy - l3_x0y0_2 - l2\n",
        "  d2_sol = [d2_1, d2_2]\n",
        "\n",
        "  for i in range(len(theta3_sol)):\n",
        "    if (np.round(d2_sol[i], 5) >= 0):\n",
        "      q = [np.round(np.rad2deg(theta1), 2), np.round(d2_sol[i], 5), np.round(np.rad2deg(theta3_sol[i]), 2)]\n",
        "      yield q"
      ],
      "metadata": {
        "id": "FhxVSJ-nYaCE"
      },
      "execution_count": 340,
      "outputs": []
    },
    {
      "cell_type": "markdown",
      "source": [
        "Решим прямую задачу кинематики для обобщенных координат: [30, 2.2, 90]"
      ],
      "metadata": {
        "id": "qDFR9MpvKDSg"
      }
    },
    {
      "cell_type": "code",
      "source": [
        "fk_sol = forward_kinematics([30, 2.2, 90])\n",
        "fk_sol"
      ],
      "metadata": {
        "colab": {
          "base_uri": "https://localhost:8080/"
        },
        "id": "w6zdpupVCXyf",
        "outputId": "9724fb48-4ee4-4b0c-ae42-4fa9ad0896c6"
      },
      "execution_count": 341,
      "outputs": [
        {
          "output_type": "execute_result",
          "data": {
            "text/plain": [
              "array([[ 2.24125920e-17, -8.66025404e-01,  5.00000000e-01,\n",
              "         3.03108891e+00],\n",
              "       [ 8.36449319e-17, -5.00000000e-01, -8.66025404e-01,\n",
              "         1.75000000e+00],\n",
              "       [ 1.00000000e+00,  6.12323400e-17,  6.12323400e-17,\n",
              "         3.70000000e+00],\n",
              "       [ 0.00000000e+00,  0.00000000e+00,  0.00000000e+00,\n",
              "         1.00000000e+00]])"
            ]
          },
          "metadata": {},
          "execution_count": 341
        }
      ]
    },
    {
      "cell_type": "markdown",
      "source": [
        "Вычислим позицию концевой точки, домножив на вектор-столбец: [0,0,0,1]"
      ],
      "metadata": {
        "id": "bE8SsNS3LLGo"
      }
    },
    {
      "cell_type": "code",
      "source": [
        "tcp_pos = fk_sol @ np.array([[0], [0], [0], [1]])\n",
        "tcp_pos"
      ],
      "metadata": {
        "id": "RXOcwppSII1r",
        "colab": {
          "base_uri": "https://localhost:8080/"
        },
        "outputId": "57e13ff3-344c-4c6b-a142-002fab0d3400"
      },
      "execution_count": 342,
      "outputs": [
        {
          "output_type": "execute_result",
          "data": {
            "text/plain": [
              "array([[3.03108891],\n",
              "       [1.75      ],\n",
              "       [3.7       ],\n",
              "       [1.        ]])"
            ]
          },
          "metadata": {},
          "execution_count": 342
        }
      ]
    },
    {
      "cell_type": "code",
      "source": [
        "x_f, y_f, z_f = tcp_pos[0, 0], tcp_pos[1, 0], tcp_pos[2, 0]\n",
        "l1, l2, l3 = links_length[0], links_length[1], links_length[2]"
      ],
      "metadata": {
        "id": "QO9vhyveSEes"
      },
      "execution_count": 343,
      "outputs": []
    },
    {
      "cell_type": "code",
      "source": [
        "x_f"
      ],
      "metadata": {
        "colab": {
          "base_uri": "https://localhost:8080/"
        },
        "id": "9Nhsf6TAStJ2",
        "outputId": "7e5f099d-046a-47da-abef-478788b33c65"
      },
      "execution_count": 344,
      "outputs": [
        {
          "output_type": "execute_result",
          "data": {
            "text/plain": [
              "3.031088913245535"
            ]
          },
          "metadata": {},
          "execution_count": 344
        }
      ]
    },
    {
      "cell_type": "code",
      "source": [
        "y_f"
      ],
      "metadata": {
        "colab": {
          "base_uri": "https://localhost:8080/"
        },
        "id": "Pz0xQAlkS1fE",
        "outputId": "5d8c4860-16a0-4d98-9e97-7f33fef9543e"
      },
      "execution_count": 345,
      "outputs": [
        {
          "output_type": "execute_result",
          "data": {
            "text/plain": [
              "1.7500000000000007"
            ]
          },
          "metadata": {},
          "execution_count": 345
        }
      ]
    },
    {
      "cell_type": "code",
      "source": [
        "z_f"
      ],
      "metadata": {
        "colab": {
          "base_uri": "https://localhost:8080/"
        },
        "id": "BaLdqu_kS2VY",
        "outputId": "f011f2cf-335e-45d9-ad57-ffcb9c9364d3"
      },
      "execution_count": 346,
      "outputs": [
        {
          "output_type": "execute_result",
          "data": {
            "text/plain": [
              "3.7"
            ]
          },
          "metadata": {},
          "execution_count": 346
        }
      ]
    },
    {
      "cell_type": "markdown",
      "source": [
        "Переберем все решения ОЗК для данной точки и запишем их. Решения ОЗК должны совпать с тем, что мы задавали вначале в функции ПЗК в качестве обобщенных координат. Задавали вектор: [30, 2.2, 90]"
      ],
      "metadata": {
        "id": "kZzLLsf1LTz4"
      }
    },
    {
      "cell_type": "code",
      "source": [
        "for i in IK(x_f, y_f, z_f, l1, l2, l3):\n",
        "  print(i)"
      ],
      "metadata": {
        "colab": {
          "base_uri": "https://localhost:8080/"
        },
        "id": "_2MxgLlDS2wU",
        "outputId": "eb11454f-ee65-45d1-e751-ccb515601c24"
      },
      "execution_count": 347,
      "outputs": [
        {
          "output_type": "stream",
          "name": "stdout",
          "text": [
            "[30.0, 2.2, 90.0]\n",
            "[30.0, 2.2, 90.0]\n"
          ]
        }
      ]
    },
    {
      "cell_type": "markdown",
      "source": [
        "Пометка: для угла 90 градусов решение ОЗК в данном случае однозначно."
      ],
      "metadata": {
        "id": "k7QFy3hNYGkz"
      }
    },
    {
      "cell_type": "markdown",
      "source": [
        "Проверка выполнена.\n",
        "\n",
        "Подставим позицию конкретной точки и вычислим для нее ОЗК (в соответствии с вариантом): [0.4,0.3, 0.1]"
      ],
      "metadata": {
        "id": "GfnMwhitMFde"
      }
    },
    {
      "cell_type": "code",
      "source": [
        "x_v = 0.4\n",
        "y_v = 0.3\n",
        "z_v = 0.1\n",
        "\n",
        "for i in IK(x_v, y_v, z_v, l1, l2, l3):\n",
        "  print(i)"
      ],
      "metadata": {
        "colab": {
          "base_uri": "https://localhost:8080/"
        },
        "id": "BhDPnFflMQzd",
        "outputId": "283fb236-9f98-4ca4-c536-a38213131ddc"
      },
      "execution_count": 348,
      "outputs": [
        {
          "output_type": "stream",
          "name": "stdout",
          "text": [
            "[36.87, 0.89706, 219.52]\n"
          ]
        }
      ]
    },
    {
      "cell_type": "markdown",
      "source": [
        "# Прямая задача по скорости"
      ],
      "metadata": {
        "id": "jG0F4XLOqsoh"
      }
    },
    {
      "cell_type": "code",
      "source": [],
      "metadata": {
        "id": "HC6PiYq67rG0"
      },
      "execution_count": null,
      "outputs": []
    }
  ]
}