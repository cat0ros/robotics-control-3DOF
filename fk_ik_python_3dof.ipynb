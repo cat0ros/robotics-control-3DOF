{
  "nbformat": 4,
  "nbformat_minor": 0,
  "metadata": {
    "colab": {
      "provenance": [],
      "authorship_tag": "ABX9TyMBAMw3+2uAGc+3BLKbo9jI",
      "include_colab_link": true
    },
    "kernelspec": {
      "name": "python3",
      "display_name": "Python 3"
    },
    "language_info": {
      "name": "python"
    }
  },
  "cells": [
    {
      "cell_type": "markdown",
      "metadata": {
        "id": "view-in-github",
        "colab_type": "text"
      },
      "source": [
        "<a href=\"https://colab.research.google.com/github/cat0ros/robotics-control-3DOF/blob/master/fk_ik_python_3dof.ipynb\" target=\"_parent\"><img src=\"https://colab.research.google.com/assets/colab-badge.svg\" alt=\"Open In Colab\"/></a>"
      ]
    },
    {
      "cell_type": "markdown",
      "source": [
        "# Домашнее задание по управлению роботами №1\n",
        "Выполнил: Романов Ростислав, группа: АДБ-20-09\n",
        "\n",
        "<img src= \"https://drive.google.com/uc?export=view&id=1PpzfCIzka8X_ljyS4piV1AKeBfmu2AZ3\" alt=\"inverse\" width=\"400\" />\n",
        "\n",
        "***Рисунок 1: Пространственное представление схемы манипулятора***\n",
        "\n",
        "<img src= \"https://drive.google.com/uc?export=view&id=1zDL-aUGP3qxmC3ibMRZ7z9wZ6hDe7knu\" alt=\"inverse\" width=\"400\" />\n",
        "\n",
        "***Рисунок 2: Кинематическая схема манипулятора***"
      ],
      "metadata": {
        "id": "6SwnfPVIErN4"
      }
    },
    {
      "cell_type": "markdown",
      "source": [
        "## Параметры и описание робота\n",
        "Длины звеньев робота:"
      ],
      "metadata": {
        "id": "hB1gYlU9JzvL"
      }
    },
    {
      "cell_type": "code",
      "source": [
        "links_length = [1.5, 1.3, 2.2]"
      ],
      "metadata": {
        "id": "ra1yJikgM7sE"
      },
      "execution_count": 321,
      "outputs": []
    },
    {
      "cell_type": "markdown",
      "source": [
        "## Библиотеки для работы"
      ],
      "metadata": {
        "id": "94P6phCPHZgH"
      }
    },
    {
      "cell_type": "code",
      "execution_count": 322,
      "metadata": {
        "id": "CUjvmxeX5r7S"
      },
      "outputs": [],
      "source": [
        "from matplotlib import pyplot as plt\n",
        "from matplotlib import animation\n",
        "import numpy as np\n",
        "from numpy.linalg import inv\n",
        "import math\n",
        "import sympy as sp\n",
        "from IPython.display import HTML, Math, Latex\n",
        "%matplotlib notebook"
      ]
    },
    {
      "cell_type": "markdown",
      "source": [
        "## Решение прямой задачи кинематики\n",
        "**Составление DH-матриц**\n",
        "\n",
        "Матрица Денавита-Хартенберга:\n",
        "\n",
        "<img src= \"https://wikimedia.org/api/rest_v1/media/math/render/svg/6963d0c47a3a894ff0719c8df348d188b996074e\" alt=\"inverse\" width=\"400\" />"
      ],
      "metadata": {
        "id": "_iv-I3MTEcW6"
      }
    },
    {
      "cell_type": "markdown",
      "source": [
        "Функции вычисления матриц преобразований:"
      ],
      "metadata": {
        "id": "SNRTrbwQ78DZ"
      }
    },
    {
      "cell_type": "code",
      "source": [
        "def rz(a):\n",
        "    return sp.Matrix([\n",
        "        [sp.cos(a), -sp.sin(a), 0, 0],\n",
        "        [sp.sin(a), sp.cos(a), 0, 0],\n",
        "        [0, 0, 1, 0],\n",
        "        [0, 0, 0, 1]\n",
        "    ])\n",
        "\n",
        "def ry(a):\n",
        "    return sp.Matrix([\n",
        "        [sp.cos(a), 0, sp.sin(a), 0],\n",
        "        [0, 1, 0, 0],\n",
        "        [-sp.sin(a), 0, sp.cos(a), 0],\n",
        "        [0, 0, 0, 1]\n",
        "    ])\n",
        "\n",
        "def rx(a):\n",
        "    return sp.Matrix([\n",
        "        [1, 0, 0, 0],\n",
        "        [0, sp.cos(a), -sp.sin(a), 0],\n",
        "        [0, sp.sin(a), sp.cos(a), 0],\n",
        "        [0, 0, 0, 1]\n",
        "    ])\n",
        "\n",
        "def trs(x, y, z):\n",
        "    return sp.Matrix([\n",
        "        [1, 0, 0, x],\n",
        "        [0, 1, 0, y],\n",
        "        [0, 0, 1, z],\n",
        "        [0, 0, 0, 1]\n",
        "    ])\n",
        "\n",
        "def vec(x, y, z):\n",
        "    return sp.Matrix([\n",
        "        [x],\n",
        "        [y],\n",
        "        [z],\n",
        "        [1]\n",
        "    ])\n",
        "\n",
        "def dh(theta, d, alpha, a):\n",
        "    return rz(theta) * trs(0, 0, d) * rx(alpha) * trs(a, 0, 0)"
      ],
      "metadata": {
        "id": "fpHxuiKe7_vS"
      },
      "execution_count": 323,
      "outputs": []
    },
    {
      "cell_type": "markdown",
      "source": [
        "\n",
        "Реализуем функцию, которая будет возвращать матрицу под соответствующие DH-параметры:"
      ],
      "metadata": {
        "id": "kQSiwrt05vpO"
      }
    },
    {
      "cell_type": "code",
      "source": [
        "def get_dh_matrix(theta, alpha, r, d):\n",
        "  alpha = (np.pi/180) * alpha\n",
        "  theta = (np.pi/180) * theta\n",
        "\n",
        "  ct = np.cos(theta)\n",
        "  st = np.sin(theta)\n",
        "  sa = np.sin(alpha)\n",
        "  ca = np.cos(alpha)\n",
        "\n",
        "  dh_matrix = np.array([\n",
        "      [ct,  -st * ca, st * sa, r * ct],\n",
        "      [st, ct *  ca, -ct * sa, r * st],\n",
        "      [0, sa, ca, d],\n",
        "      [0, 0, 0, 1]\n",
        "  ])\n",
        "\n",
        "  return dh_matrix"
      ],
      "metadata": {
        "id": "o9IdUnvi571v"
      },
      "execution_count": 324,
      "outputs": []
    },
    {
      "cell_type": "markdown",
      "source": [
        "Расставим системы координат и составим таблицу, а по ней итоговую матрицу преобразований:\n",
        "\n",
        "<img src= \"https://drive.google.com/uc?export=view&id=18EiOZVcCKHVvgkmfPqdece4xYVxcEvYH\" alt=\"inverse\" width=\"600\" />\n",
        "\n",
        "Заметим, что нулевое положение робота будет слева, тогда для изображения справа повернем вокруг оси Z концевую точку на 90 градусов в положительном направлении."
      ],
      "metadata": {
        "id": "NIs_uLa_yw1E"
      }
    },
    {
      "cell_type": "code",
      "source": [
        "def forward_kinematics(generilized):\n",
        "  r = [0, 0, links_length[2]]\n",
        "  d = [links_length[0], links_length[1] + generilized[1], 0]\n",
        "  theta = [generilized[0] - 90, 90, generilized[2] + 90]\n",
        "  alpha = [-90, 90, 0]\n",
        "\n",
        "  #links_length[2]\n",
        "\n",
        "  matrix = np.eye(4)\n",
        "  for i in range(len(theta)):\n",
        "    matrix = matrix @ get_dh_matrix(theta[i], alpha[i], r[i], d[i])\n",
        "\n",
        "  return matrix\n",
        "\n",
        "theta1, d1, alpha1, a1 = sp.symbols(\"theta_1, l_1, alpha_1, a_1\")\n",
        "theta2, d2, alpha2, a2 = sp.symbols(\"theta_2, d_2, alpha_2, a_2\")\n",
        "theta3, d3, alpha3, a3 = sp.symbols(\"theta_3, d_3, alpha_3, l_3\")\n",
        "dh1 = dh(theta1 - sp.pi / 2, d1, -sp.pi / 2, 0)\n",
        "dh2 = dh(sp.pi / 2, d2 + sp.symbols(\"l_2\"), sp.pi / 2, 0)\n",
        "dh3 = dh(theta3 + sp.pi / 2, 0, 0, a3)\n",
        "\n",
        "dh_op = dh1 * dh2 * dh3"
      ],
      "metadata": {
        "id": "HLbD_euL4kOj"
      },
      "execution_count": 325,
      "outputs": []
    },
    {
      "cell_type": "markdown",
      "source": [
        "Результирующая матрица для данной кинематической схемы:"
      ],
      "metadata": {
        "id": "ImzCpu0V8XZU"
      }
    },
    {
      "cell_type": "code",
      "source": [
        "dh_op"
      ],
      "metadata": {
        "colab": {
          "base_uri": "https://localhost:8080/",
          "height": 99
        },
        "id": "F4wRra9s8XFx",
        "outputId": "2f0bd1fb-0afa-4fa2-f716-cf26166de314"
      },
      "execution_count": 326,
      "outputs": [
        {
          "output_type": "execute_result",
          "data": {
            "text/plain": [
              "Matrix([\n",
              "[cos(theta_1)*cos(theta_3), -sin(theta_3)*cos(theta_1),  sin(theta_1), l_3*cos(theta_1)*cos(theta_3) + (d_2 + l_2)*cos(theta_1)],\n",
              "[sin(theta_1)*cos(theta_3), -sin(theta_1)*sin(theta_3), -cos(theta_1), l_3*sin(theta_1)*cos(theta_3) + (d_2 + l_2)*sin(theta_1)],\n",
              "[             sin(theta_3),               cos(theta_3),             0,                                   l_1 + l_3*sin(theta_3)],\n",
              "[                        0,                          0,             0,                                                        1]])"
            ],
            "text/latex": "$\\displaystyle \\left[\\begin{matrix}\\cos{\\left(\\theta_{1} \\right)} \\cos{\\left(\\theta_{3} \\right)} & - \\sin{\\left(\\theta_{3} \\right)} \\cos{\\left(\\theta_{1} \\right)} & \\sin{\\left(\\theta_{1} \\right)} & l_{3} \\cos{\\left(\\theta_{1} \\right)} \\cos{\\left(\\theta_{3} \\right)} + \\left(d_{2} + l_{2}\\right) \\cos{\\left(\\theta_{1} \\right)}\\\\\\sin{\\left(\\theta_{1} \\right)} \\cos{\\left(\\theta_{3} \\right)} & - \\sin{\\left(\\theta_{1} \\right)} \\sin{\\left(\\theta_{3} \\right)} & - \\cos{\\left(\\theta_{1} \\right)} & l_{3} \\sin{\\left(\\theta_{1} \\right)} \\cos{\\left(\\theta_{3} \\right)} + \\left(d_{2} + l_{2}\\right) \\sin{\\left(\\theta_{1} \\right)}\\\\\\sin{\\left(\\theta_{3} \\right)} & \\cos{\\left(\\theta_{3} \\right)} & 0 & l_{1} + l_{3} \\sin{\\left(\\theta_{3} \\right)}\\\\0 & 0 & 0 & 1\\end{matrix}\\right]$"
          },
          "metadata": {},
          "execution_count": 326
        }
      ]
    },
    {
      "cell_type": "markdown",
      "source": [
        "Первая матрица преобразований:"
      ],
      "metadata": {
        "id": "ZDY9oPuK85SO"
      }
    },
    {
      "cell_type": "code",
      "source": [
        "sp.simplify(dh1)"
      ],
      "metadata": {
        "colab": {
          "base_uri": "https://localhost:8080/",
          "height": 99
        },
        "id": "Vw24fB_o8yEP",
        "outputId": "43116666-e3d6-42a5-c427-498a5aa8dced"
      },
      "execution_count": 327,
      "outputs": [
        {
          "output_type": "execute_result",
          "data": {
            "text/plain": [
              "Matrix([\n",
              "[ sin(theta_1),  0, cos(theta_1),   0],\n",
              "[-cos(theta_1),  0, sin(theta_1),   0],\n",
              "[            0, -1,            0, l_1],\n",
              "[            0,  0,            0,   1]])"
            ],
            "text/latex": "$\\displaystyle \\left[\\begin{matrix}\\sin{\\left(\\theta_{1} \\right)} & 0 & \\cos{\\left(\\theta_{1} \\right)} & 0\\\\- \\cos{\\left(\\theta_{1} \\right)} & 0 & \\sin{\\left(\\theta_{1} \\right)} & 0\\\\0 & -1 & 0 & l_{1}\\\\0 & 0 & 0 & 1\\end{matrix}\\right]$"
          },
          "metadata": {},
          "execution_count": 327
        }
      ]
    },
    {
      "cell_type": "markdown",
      "source": [
        "Вторая матрица преобразований:"
      ],
      "metadata": {
        "id": "Go5NS8ng881X"
      }
    },
    {
      "cell_type": "code",
      "source": [
        "sp.simplify(dh2)"
      ],
      "metadata": {
        "colab": {
          "base_uri": "https://localhost:8080/",
          "height": 99
        },
        "id": "8AmrUsvB80sS",
        "outputId": "f6b79143-723a-4cf6-a5ef-3a46409e648f"
      },
      "execution_count": 328,
      "outputs": [
        {
          "output_type": "execute_result",
          "data": {
            "text/plain": [
              "Matrix([\n",
              "[0, 0, 1,         0],\n",
              "[1, 0, 0,         0],\n",
              "[0, 1, 0, d_2 + l_2],\n",
              "[0, 0, 0,         1]])"
            ],
            "text/latex": "$\\displaystyle \\left[\\begin{matrix}0 & 0 & 1 & 0\\\\1 & 0 & 0 & 0\\\\0 & 1 & 0 & d_{2} + l_{2}\\\\0 & 0 & 0 & 1\\end{matrix}\\right]$"
          },
          "metadata": {},
          "execution_count": 328
        }
      ]
    },
    {
      "cell_type": "markdown",
      "source": [
        "Третья матрица преобразований:"
      ],
      "metadata": {
        "id": "Vxb5wgPJ9AMj"
      }
    },
    {
      "cell_type": "code",
      "source": [
        "sp.simplify(dh3)"
      ],
      "metadata": {
        "colab": {
          "base_uri": "https://localhost:8080/",
          "height": 99
        },
        "id": "nKfY51GR82Xp",
        "outputId": "e474b979-52fd-47b5-cc62-301b6acec6ac"
      },
      "execution_count": 329,
      "outputs": [
        {
          "output_type": "execute_result",
          "data": {
            "text/plain": [
              "Matrix([\n",
              "[-sin(theta_3), -cos(theta_3), 0, -l_3*sin(theta_3)],\n",
              "[ cos(theta_3), -sin(theta_3), 0,  l_3*cos(theta_3)],\n",
              "[            0,             0, 1,                 0],\n",
              "[            0,             0, 0,                 1]])"
            ],
            "text/latex": "$\\displaystyle \\left[\\begin{matrix}- \\sin{\\left(\\theta_{3} \\right)} & - \\cos{\\left(\\theta_{3} \\right)} & 0 & - l_{3} \\sin{\\left(\\theta_{3} \\right)}\\\\\\cos{\\left(\\theta_{3} \\right)} & - \\sin{\\left(\\theta_{3} \\right)} & 0 & l_{3} \\cos{\\left(\\theta_{3} \\right)}\\\\0 & 0 & 1 & 0\\\\0 & 0 & 0 & 1\\end{matrix}\\right]$"
          },
          "metadata": {},
          "execution_count": 329
        }
      ]
    },
    {
      "cell_type": "markdown",
      "source": [
        "Решим ПЗК для вектора обобщенных координат q = [30, 2.2, 90]"
      ],
      "metadata": {
        "id": "kOd-cxvs1xI7"
      }
    },
    {
      "cell_type": "code",
      "source": [
        "forward_kinematics([30, 2.2, 90])"
      ],
      "metadata": {
        "colab": {
          "base_uri": "https://localhost:8080/"
        },
        "id": "xhThNj449TdF",
        "outputId": "5239b78b-17cc-4957-ad91-3f875da965fe"
      },
      "execution_count": 330,
      "outputs": [
        {
          "output_type": "execute_result",
          "data": {
            "text/plain": [
              "array([[ 2.24125920e-17, -8.66025404e-01,  5.00000000e-01,\n",
              "         3.03108891e+00],\n",
              "       [ 8.36449319e-17, -5.00000000e-01, -8.66025404e-01,\n",
              "         1.75000000e+00],\n",
              "       [ 1.00000000e+00,  6.12323400e-17,  6.12323400e-17,\n",
              "         3.70000000e+00],\n",
              "       [ 0.00000000e+00,  0.00000000e+00,  0.00000000e+00,\n",
              "         1.00000000e+00]])"
            ]
          },
          "metadata": {},
          "execution_count": 330
        }
      ]
    },
    {
      "cell_type": "markdown",
      "source": [
        "Решение в матричном виде:"
      ],
      "metadata": {
        "id": "-5CliJab9PZA"
      }
    },
    {
      "cell_type": "code",
      "source": [
        "dh1_1 = dh(sp.pi / 6 - sp.pi / 2, links_length[0], -sp.pi / 2, 0)\n",
        "dh2_2 = dh(sp.pi / 2, 2.2 + links_length[1], sp.pi / 2, 0)\n",
        "dh3_3 = dh(sp.pi / 2 + sp.pi / 2, 0, 0, links_length[2])\n",
        "\n",
        "dh_op_ = dh1_1 * dh2_2 * dh3_3\n",
        "\n",
        "dh_op_"
      ],
      "metadata": {
        "colab": {
          "base_uri": "https://localhost:8080/",
          "height": 105
        },
        "id": "Ketk4rrd9SKa",
        "outputId": "89f76ec4-3f2c-46f2-8472-7910979444c1"
      },
      "execution_count": 331,
      "outputs": [
        {
          "output_type": "execute_result",
          "data": {
            "text/plain": [
              "Matrix([\n",
              "[0, -sqrt(3)/2,        1/2, 1.75*sqrt(3)],\n",
              "[0,       -1/2, -sqrt(3)/2,         1.75],\n",
              "[1,          0,          0,          3.7],\n",
              "[0,          0,          0,            1]])"
            ],
            "text/latex": "$\\displaystyle \\left[\\begin{matrix}0 & - \\frac{\\sqrt{3}}{2} & \\frac{1}{2} & 1.75 \\sqrt{3}\\\\0 & - \\frac{1}{2} & - \\frac{\\sqrt{3}}{2} & 1.75\\\\1 & 0 & 0 & 3.7\\\\0 & 0 & 0 & 1\\end{matrix}\\right]$"
          },
          "metadata": {},
          "execution_count": 331
        }
      ]
    },
    {
      "cell_type": "markdown",
      "source": [
        "# Решение обратной задачи кинематики\n",
        "\n",
        "Рассмотрид вид сверху исходной кинематической схемы:\n",
        "\n",
        "<img src= \"https://drive.google.com/uc?export=view&id=16u0Gn5cK_Mwyt6NhC_CyctTbbU0kwyRr\" alt=\"inverse\" width=\"200\" />\n",
        "\n",
        "Заметим следующую зависимость:"
      ],
      "metadata": {
        "id": "lzXd-cYW0MlJ"
      }
    },
    {
      "cell_type": "code",
      "source": [
        "display(Math(r'\\Theta_{1} = \\text{arctan2}(y_0, x_0)'))"
      ],
      "metadata": {
        "colab": {
          "base_uri": "https://localhost:8080/",
          "height": 38
        },
        "id": "7aFIOL7mA-20",
        "outputId": "10b730a2-e2d0-4998-d787-2767a2eec2ae"
      },
      "execution_count": 332,
      "outputs": [
        {
          "output_type": "display_data",
          "data": {
            "text/plain": [
              "<IPython.core.display.Math object>"
            ],
            "text/latex": "$\\displaystyle \\Theta_{1} = \\text{arctan2}(y_0, x_0)$"
          },
          "metadata": {}
        }
      ]
    },
    {
      "cell_type": "markdown",
      "source": [
        "Не является возможным найти сразу решение для второй обобщенной координаты, так как нам неизвестна проекция длины третьего звена.\n",
        "\n",
        "Найдем ее по виду сбоку нашего манипулятора и найдем высоту обозначенную как b:\n",
        "\n",
        "<img src= \"https://drive.google.com/uc?export=view&id=1oQSe0p5Er6_KpYB8kVftatvfdA_2yEO7\" alt=\"inverse\" width=\"400\" />"
      ],
      "metadata": {
        "id": "CinbB6ACBT3e"
      }
    },
    {
      "cell_type": "code",
      "source": [
        "display(Math(r'b = z - l_{1}'))"
      ],
      "metadata": {
        "colab": {
          "base_uri": "https://localhost:8080/",
          "height": 38
        },
        "id": "zss3ONawEwrt",
        "outputId": "7c12dd74-907f-4f6b-b403-3ab9a51a5bcd"
      },
      "execution_count": 333,
      "outputs": [
        {
          "output_type": "display_data",
          "data": {
            "text/plain": [
              "<IPython.core.display.Math object>"
            ],
            "text/latex": "$\\displaystyle b = z - l_{1}$"
          },
          "metadata": {}
        }
      ]
    },
    {
      "cell_type": "markdown",
      "source": [
        "Тогда становится известна проекция длины третьего звена на плоскость X0Y0:"
      ],
      "metadata": {
        "id": "JWq2KgDTE-UZ"
      }
    },
    {
      "cell_type": "code",
      "source": [
        "display(Math(r'l_{3_{x_{0}y_{0}}} = l_{3}*cos(\\Theta_{3})'))"
      ],
      "metadata": {
        "colab": {
          "base_uri": "https://localhost:8080/",
          "height": 39
        },
        "id": "JGjHjPCJFGay",
        "outputId": "2193cc37-713b-4603-8388-b9dd4694d546"
      },
      "execution_count": 334,
      "outputs": [
        {
          "output_type": "display_data",
          "data": {
            "text/plain": [
              "<IPython.core.display.Math object>"
            ],
            "text/latex": "$\\displaystyle l_{3_{x_{0}y_{0}}} = l_{3}*cos(\\Theta_{3})$"
          },
          "metadata": {}
        }
      ]
    },
    {
      "cell_type": "markdown",
      "source": [
        "Найдем этот угол:"
      ],
      "metadata": {
        "id": "aUVsw8L9FzHY"
      }
    },
    {
      "cell_type": "code",
      "source": [
        "display(Math(r'\\Theta_{3} = arcsin(\\frac{z - l1}{l3})'))\n",
        "display(Math(r'\\Theta_{3} = \\pi - arcsin(\\frac{z - l1}{l3})'))"
      ],
      "metadata": {
        "colab": {
          "base_uri": "https://localhost:8080/",
          "height": 87
        },
        "id": "CcJMk9sKF5VW",
        "outputId": "1daa33b5-d4cc-42fa-8b30-3b79ccfa45fc"
      },
      "execution_count": 335,
      "outputs": [
        {
          "output_type": "display_data",
          "data": {
            "text/plain": [
              "<IPython.core.display.Math object>"
            ],
            "text/latex": "$\\displaystyle \\Theta_{3} = arcsin(\\frac{z - l1}{l3})$"
          },
          "metadata": {}
        },
        {
          "output_type": "display_data",
          "data": {
            "text/plain": [
              "<IPython.core.display.Math object>"
            ],
            "text/latex": "$\\displaystyle \\Theta_{3} = \\pi - arcsin(\\frac{z - l1}{l3})$"
          },
          "metadata": {}
        }
      ]
    },
    {
      "cell_type": "markdown",
      "source": [
        "В результате мы получили два решения.\n",
        "\n",
        "Так как от найденного угла зависит проекция третьего звена на плоскость X0Y0, вычислим вторую обобщенную координату:"
      ],
      "metadata": {
        "id": "XnN9R3nSGPVv"
      }
    },
    {
      "cell_type": "code",
      "source": [
        "display(Math(r'd2 = \\sqrt{x_{0}^{2} + y_{0}^{2}} - l_{2} - l_{3} * cos(\\Theta_{3})'))"
      ],
      "metadata": {
        "colab": {
          "base_uri": "https://localhost:8080/",
          "height": 48
        },
        "id": "-2v3wcjfG3LM",
        "outputId": "59b9ab10-fef7-420e-8dc2-3c6ed2537c4d"
      },
      "execution_count": 336,
      "outputs": [
        {
          "output_type": "display_data",
          "data": {
            "text/plain": [
              "<IPython.core.display.Math object>"
            ],
            "text/latex": "$\\displaystyle d2 = \\sqrt{x_{0}^{2} + y_{0}^{2}} - l_{2} - l_{3} * cos(\\Theta_{3})$"
          },
          "metadata": {}
        }
      ]
    },
    {
      "cell_type": "markdown",
      "source": [
        "Аналитические выражения для решения ОЗК получены."
      ],
      "metadata": {
        "id": "R5lxHx4QJckL"
      }
    },
    {
      "cell_type": "code",
      "source": [
        "def IK(x, y, z, l1, l2, l3):\n",
        "  theta1 = np.arctan2(y, x)\n",
        "  theta3_1 = np.arcsin((z - l1) / l3)\n",
        "  theta3_2 = np.pi - np.arcsin((z - l1) / l3)\n",
        "  theta3_sol = [theta3_1, theta3_2]\n",
        "  sqrt_xy = np.float64((x**2 + y**2)**(1/2))\n",
        "  l3_x0y0_1 = np.float64(l3) * np.cos(theta3_1)\n",
        "  l3_x0y0_2 = np.float64(l3) * np.cos(theta3_2)\n",
        "  d2_1 = sqrt_xy - l3_x0y0_1 - l2\n",
        "  d2_2 = sqrt_xy - l3_x0y0_2 - l2\n",
        "  d2_sol = [d2_1, d2_2]\n",
        "\n",
        "  for i in range(len(theta3_sol)):\n",
        "    if (np.round(d2_sol[i], 5) >= 0):\n",
        "      q = [np.round(np.rad2deg(theta1), 2), np.round(d2_sol[i], 5), np.round(np.rad2deg(theta3_sol[i]), 2)]\n",
        "      yield q"
      ],
      "metadata": {
        "id": "FhxVSJ-nYaCE"
      },
      "execution_count": 337,
      "outputs": []
    },
    {
      "cell_type": "markdown",
      "source": [
        "Решим прямую задачу кинематики для обобщенных координат: [30, 2.2, 90]"
      ],
      "metadata": {
        "id": "qDFR9MpvKDSg"
      }
    },
    {
      "cell_type": "code",
      "source": [
        "fk_sol = forward_kinematics([30, 2.2, 90])\n",
        "fk_sol"
      ],
      "metadata": {
        "colab": {
          "base_uri": "https://localhost:8080/"
        },
        "id": "w6zdpupVCXyf",
        "outputId": "c2deb731-f885-40f4-a284-9639a488e399"
      },
      "execution_count": 338,
      "outputs": [
        {
          "output_type": "execute_result",
          "data": {
            "text/plain": [
              "array([[ 2.24125920e-17, -8.66025404e-01,  5.00000000e-01,\n",
              "         3.03108891e+00],\n",
              "       [ 8.36449319e-17, -5.00000000e-01, -8.66025404e-01,\n",
              "         1.75000000e+00],\n",
              "       [ 1.00000000e+00,  6.12323400e-17,  6.12323400e-17,\n",
              "         3.70000000e+00],\n",
              "       [ 0.00000000e+00,  0.00000000e+00,  0.00000000e+00,\n",
              "         1.00000000e+00]])"
            ]
          },
          "metadata": {},
          "execution_count": 338
        }
      ]
    },
    {
      "cell_type": "markdown",
      "source": [
        "Вычислим позицию концевой точки, домножив на вектор-столбец: [0,0,0,1]"
      ],
      "metadata": {
        "id": "bE8SsNS3LLGo"
      }
    },
    {
      "cell_type": "code",
      "source": [
        "tcp_pos = fk_sol @ np.array([[0], [0], [0], [1]])\n",
        "tcp_pos"
      ],
      "metadata": {
        "id": "RXOcwppSII1r",
        "colab": {
          "base_uri": "https://localhost:8080/"
        },
        "outputId": "84b619b8-b525-4c6c-b88b-61d7faf2200f"
      },
      "execution_count": 339,
      "outputs": [
        {
          "output_type": "execute_result",
          "data": {
            "text/plain": [
              "array([[3.03108891],\n",
              "       [1.75      ],\n",
              "       [3.7       ],\n",
              "       [1.        ]])"
            ]
          },
          "metadata": {},
          "execution_count": 339
        }
      ]
    },
    {
      "cell_type": "code",
      "source": [
        "x_f, y_f, z_f = tcp_pos[0, 0], tcp_pos[1, 0], tcp_pos[2, 0]\n",
        "l1, l2, l3 = links_length[0], links_length[1], links_length[2]"
      ],
      "metadata": {
        "id": "QO9vhyveSEes"
      },
      "execution_count": 340,
      "outputs": []
    },
    {
      "cell_type": "code",
      "source": [
        "x_f"
      ],
      "metadata": {
        "colab": {
          "base_uri": "https://localhost:8080/"
        },
        "id": "9Nhsf6TAStJ2",
        "outputId": "4f7e2801-35f0-401a-a7ec-1d86f59061de"
      },
      "execution_count": 341,
      "outputs": [
        {
          "output_type": "execute_result",
          "data": {
            "text/plain": [
              "3.031088913245535"
            ]
          },
          "metadata": {},
          "execution_count": 341
        }
      ]
    },
    {
      "cell_type": "code",
      "source": [
        "y_f"
      ],
      "metadata": {
        "colab": {
          "base_uri": "https://localhost:8080/"
        },
        "id": "Pz0xQAlkS1fE",
        "outputId": "d259fa3b-3ac5-4dfc-e779-a3ce7842ff26"
      },
      "execution_count": 342,
      "outputs": [
        {
          "output_type": "execute_result",
          "data": {
            "text/plain": [
              "1.7500000000000007"
            ]
          },
          "metadata": {},
          "execution_count": 342
        }
      ]
    },
    {
      "cell_type": "code",
      "source": [
        "z_f"
      ],
      "metadata": {
        "colab": {
          "base_uri": "https://localhost:8080/"
        },
        "id": "BaLdqu_kS2VY",
        "outputId": "7e601610-2ad5-4b16-c9cb-ee421497ed7b"
      },
      "execution_count": 343,
      "outputs": [
        {
          "output_type": "execute_result",
          "data": {
            "text/plain": [
              "3.7"
            ]
          },
          "metadata": {},
          "execution_count": 343
        }
      ]
    },
    {
      "cell_type": "markdown",
      "source": [
        "Переберем все решения ОЗК для данной точки и запишем их. Решения ОЗК должны совпать с тем, что мы задавали вначале в функции ПЗК в качестве обобщенных координат. Задавали вектор: [30, 2.2, 90]"
      ],
      "metadata": {
        "id": "kZzLLsf1LTz4"
      }
    },
    {
      "cell_type": "code",
      "source": [
        "for i in IK(x_f, y_f, z_f, l1, l2, l3):\n",
        "  print(i)"
      ],
      "metadata": {
        "colab": {
          "base_uri": "https://localhost:8080/"
        },
        "id": "_2MxgLlDS2wU",
        "outputId": "4fa647e8-24bf-4353-dd9a-348aa5ca75f8"
      },
      "execution_count": 344,
      "outputs": [
        {
          "output_type": "stream",
          "name": "stdout",
          "text": [
            "[30.0, 2.2, 90.0]\n",
            "[30.0, 2.2, 90.0]\n"
          ]
        }
      ]
    },
    {
      "cell_type": "markdown",
      "source": [
        "Пометка: для угла 90 градусов решение ОЗК в данном случае однозначно."
      ],
      "metadata": {
        "id": "k7QFy3hNYGkz"
      }
    },
    {
      "cell_type": "markdown",
      "source": [
        "Проверка выполнена.\n",
        "\n",
        "Подставим позицию конкретной точки и вычислим для нее ОЗК (в соответствии с вариантом): [0.4,0.3, 0.1]"
      ],
      "metadata": {
        "id": "GfnMwhitMFde"
      }
    },
    {
      "cell_type": "code",
      "source": [
        "x_v = 0.4\n",
        "y_v = 0.3\n",
        "z_v = 0.1\n",
        "\n",
        "IK_variants = []\n",
        "for i in IK(x_v, y_v, z_v, l1, l2, l3):\n",
        "  print(i)\n",
        "  IK_variants.append(i)"
      ],
      "metadata": {
        "colab": {
          "base_uri": "https://localhost:8080/"
        },
        "id": "BhDPnFflMQzd",
        "outputId": "9efb2f61-8a1b-4a65-840c-72e6ca1895ce"
      },
      "execution_count": 345,
      "outputs": [
        {
          "output_type": "stream",
          "name": "stdout",
          "text": [
            "[36.87, 0.89706, 219.52]\n"
          ]
        }
      ]
    },
    {
      "cell_type": "markdown",
      "source": [
        "# Прямая задача по скорости"
      ],
      "metadata": {
        "id": "jG0F4XLOqsoh"
      }
    },
    {
      "cell_type": "markdown",
      "source": [
        "Вычислим линейные составляющие скорости. Найдем частные производные и составим матрицу."
      ],
      "metadata": {
        "id": "CNoK9WrZjrKZ"
      }
    },
    {
      "cell_type": "code",
      "source": [
        "dvx_q1 = sp.diff((dh_op * vec(0, 0, 0))[0], theta1)\n",
        "dvx_d2 = sp.diff((dh_op * vec(0, 0, 0))[0], d2)\n",
        "dvx_q3 = sp.diff((dh_op * vec(0, 0, 0))[0], theta3)\n",
        "\n",
        "dvy_q1 = sp.diff((dh_op * vec(0, 0, 0))[1], theta1)\n",
        "dvy_d2 = sp.diff((dh_op * vec(0, 0, 0))[1], d2)\n",
        "dvy_q3 = sp.diff((dh_op * vec(0, 0, 0))[1], theta3)\n",
        "\n",
        "dvz_q1 = sp.diff((dh_op * vec(0, 0, 0))[2], theta1)\n",
        "dvz_d2 = sp.diff((dh_op * vec(0, 0, 0))[2], d2)\n",
        "dvz_q3 = sp.diff((dh_op * vec(0, 0, 0))[2], theta3)"
      ],
      "metadata": {
        "id": "G1c1aMIry2Wn"
      },
      "execution_count": 346,
      "outputs": []
    },
    {
      "cell_type": "markdown",
      "source": [
        "Частые производные для компоненты x"
      ],
      "metadata": {
        "id": "RkuToqNm4irU"
      }
    },
    {
      "cell_type": "code",
      "source": [
        "sp.simplify(dvx_q1)"
      ],
      "metadata": {
        "colab": {
          "base_uri": "https://localhost:8080/",
          "height": 38
        },
        "id": "ErWC0MpH1txW",
        "outputId": "201a6285-e0ef-49d9-bb75-65e06ae8abb8"
      },
      "execution_count": 347,
      "outputs": [
        {
          "output_type": "execute_result",
          "data": {
            "text/plain": [
              "-(d_2 + l_2 + l_3*cos(theta_3))*sin(theta_1)"
            ],
            "text/latex": "$\\displaystyle - \\left(d_{2} + l_{2} + l_{3} \\cos{\\left(\\theta_{3} \\right)}\\right) \\sin{\\left(\\theta_{1} \\right)}$"
          },
          "metadata": {},
          "execution_count": 347
        }
      ]
    },
    {
      "cell_type": "code",
      "source": [
        "sp.simplify(dvx_d2)"
      ],
      "metadata": {
        "colab": {
          "base_uri": "https://localhost:8080/",
          "height": 38
        },
        "id": "JZcZZ5zs3ZJC",
        "outputId": "74d81191-809d-4e03-97ff-680baf8e0e6f"
      },
      "execution_count": 348,
      "outputs": [
        {
          "output_type": "execute_result",
          "data": {
            "text/plain": [
              "cos(theta_1)"
            ],
            "text/latex": "$\\displaystyle \\cos{\\left(\\theta_{1} \\right)}$"
          },
          "metadata": {},
          "execution_count": 348
        }
      ]
    },
    {
      "cell_type": "code",
      "source": [
        "sp.simplify(dvx_q3)"
      ],
      "metadata": {
        "colab": {
          "base_uri": "https://localhost:8080/",
          "height": 38
        },
        "id": "L6h2LULE3aR8",
        "outputId": "50050832-a364-41f0-e326-cbc242a4e1b8"
      },
      "execution_count": 349,
      "outputs": [
        {
          "output_type": "execute_result",
          "data": {
            "text/plain": [
              "-l_3*sin(theta_3)*cos(theta_1)"
            ],
            "text/latex": "$\\displaystyle - l_{3} \\sin{\\left(\\theta_{3} \\right)} \\cos{\\left(\\theta_{1} \\right)}$"
          },
          "metadata": {},
          "execution_count": 349
        }
      ]
    },
    {
      "cell_type": "markdown",
      "source": [
        "Частные производные для компоненты y"
      ],
      "metadata": {
        "id": "x5m8k1KG4ooE"
      }
    },
    {
      "cell_type": "code",
      "source": [
        "sp.simplify(dvy_q1)"
      ],
      "metadata": {
        "colab": {
          "base_uri": "https://localhost:8080/",
          "height": 38
        },
        "id": "0LvkTK754pDG",
        "outputId": "dfcb21d5-0106-4c38-b1f0-a06fcd49814b"
      },
      "execution_count": 350,
      "outputs": [
        {
          "output_type": "execute_result",
          "data": {
            "text/plain": [
              "(d_2 + l_2 + l_3*cos(theta_3))*cos(theta_1)"
            ],
            "text/latex": "$\\displaystyle \\left(d_{2} + l_{2} + l_{3} \\cos{\\left(\\theta_{3} \\right)}\\right) \\cos{\\left(\\theta_{1} \\right)}$"
          },
          "metadata": {},
          "execution_count": 350
        }
      ]
    },
    {
      "cell_type": "code",
      "source": [
        "sp.simplify(dvy_d2)"
      ],
      "metadata": {
        "colab": {
          "base_uri": "https://localhost:8080/",
          "height": 38
        },
        "id": "kJVSwfuN4sJq",
        "outputId": "d1f59e4a-b15e-4c3a-c474-ac10508a23df"
      },
      "execution_count": 351,
      "outputs": [
        {
          "output_type": "execute_result",
          "data": {
            "text/plain": [
              "sin(theta_1)"
            ],
            "text/latex": "$\\displaystyle \\sin{\\left(\\theta_{1} \\right)}$"
          },
          "metadata": {},
          "execution_count": 351
        }
      ]
    },
    {
      "cell_type": "code",
      "source": [
        "sp.simplify(dvy_q3)"
      ],
      "metadata": {
        "colab": {
          "base_uri": "https://localhost:8080/",
          "height": 38
        },
        "id": "yzNLhskX4tMf",
        "outputId": "625b7582-db79-4ff9-9b5d-f0ae117d44cd"
      },
      "execution_count": 352,
      "outputs": [
        {
          "output_type": "execute_result",
          "data": {
            "text/plain": [
              "-l_3*sin(theta_1)*sin(theta_3)"
            ],
            "text/latex": "$\\displaystyle - l_{3} \\sin{\\left(\\theta_{1} \\right)} \\sin{\\left(\\theta_{3} \\right)}$"
          },
          "metadata": {},
          "execution_count": 352
        }
      ]
    },
    {
      "cell_type": "markdown",
      "source": [
        "Частные производные для компоненты z"
      ],
      "metadata": {
        "id": "VtJ9EzQa4zMK"
      }
    },
    {
      "cell_type": "code",
      "source": [
        "sp.simplify(dvz_q1)"
      ],
      "metadata": {
        "colab": {
          "base_uri": "https://localhost:8080/",
          "height": 37
        },
        "id": "QYaRcs3Z41u4",
        "outputId": "80179515-3a09-493a-a3d1-fc4ea3359b6f"
      },
      "execution_count": 353,
      "outputs": [
        {
          "output_type": "execute_result",
          "data": {
            "text/plain": [
              "0"
            ],
            "text/latex": "$\\displaystyle 0$"
          },
          "metadata": {},
          "execution_count": 353
        }
      ]
    },
    {
      "cell_type": "code",
      "source": [
        "sp.simplify(dvz_d2)"
      ],
      "metadata": {
        "colab": {
          "base_uri": "https://localhost:8080/",
          "height": 37
        },
        "id": "sqqDouAP43tY",
        "outputId": "0c026e8e-f1b2-4df2-cff3-f1215b04b8c3"
      },
      "execution_count": 354,
      "outputs": [
        {
          "output_type": "execute_result",
          "data": {
            "text/plain": [
              "0"
            ],
            "text/latex": "$\\displaystyle 0$"
          },
          "metadata": {},
          "execution_count": 354
        }
      ]
    },
    {
      "cell_type": "code",
      "source": [
        "sp.simplify(dvz_q3)"
      ],
      "metadata": {
        "colab": {
          "base_uri": "https://localhost:8080/",
          "height": 38
        },
        "id": "VxUf1Dwf45O2",
        "outputId": "37031e6d-d600-4d4a-9558-bb666d7fd0eb"
      },
      "execution_count": 355,
      "outputs": [
        {
          "output_type": "execute_result",
          "data": {
            "text/plain": [
              "l_3*cos(theta_3)"
            ],
            "text/latex": "$\\displaystyle l_{3} \\cos{\\left(\\theta_{3} \\right)}$"
          },
          "metadata": {},
          "execution_count": 355
        }
      ]
    },
    {
      "cell_type": "markdown",
      "source": [
        "Матрица Якоби для линейных скоростей:"
      ],
      "metadata": {
        "id": "Xj5AHpX86BiU"
      }
    },
    {
      "cell_type": "code",
      "source": [
        "Jv = sp.Matrix([\n",
        "        [dvx_q1, dvx_d2, dvx_q3],\n",
        "        [dvy_q1, dvy_d2, dvy_q3],\n",
        "        [dvz_q1, dvz_d2, dvz_q3],\n",
        "    ])\n",
        "\n",
        "Jv"
      ],
      "metadata": {
        "colab": {
          "base_uri": "https://localhost:8080/",
          "height": 78
        },
        "id": "I3Nm7My348F3",
        "outputId": "f2331def-6283-4f26-cfe7-7fae0bd8c0f5"
      },
      "execution_count": 356,
      "outputs": [
        {
          "output_type": "execute_result",
          "data": {
            "text/plain": [
              "Matrix([\n",
              "[-l_3*sin(theta_1)*cos(theta_3) - (d_2 + l_2)*sin(theta_1), cos(theta_1), -l_3*sin(theta_3)*cos(theta_1)],\n",
              "[ l_3*cos(theta_1)*cos(theta_3) + (d_2 + l_2)*cos(theta_1), sin(theta_1), -l_3*sin(theta_1)*sin(theta_3)],\n",
              "[                                                        0,            0,               l_3*cos(theta_3)]])"
            ],
            "text/latex": "$\\displaystyle \\left[\\begin{matrix}- l_{3} \\sin{\\left(\\theta_{1} \\right)} \\cos{\\left(\\theta_{3} \\right)} - \\left(d_{2} + l_{2}\\right) \\sin{\\left(\\theta_{1} \\right)} & \\cos{\\left(\\theta_{1} \\right)} & - l_{3} \\sin{\\left(\\theta_{3} \\right)} \\cos{\\left(\\theta_{1} \\right)}\\\\l_{3} \\cos{\\left(\\theta_{1} \\right)} \\cos{\\left(\\theta_{3} \\right)} + \\left(d_{2} + l_{2}\\right) \\cos{\\left(\\theta_{1} \\right)} & \\sin{\\left(\\theta_{1} \\right)} & - l_{3} \\sin{\\left(\\theta_{1} \\right)} \\sin{\\left(\\theta_{3} \\right)}\\\\0 & 0 & l_{3} \\cos{\\left(\\theta_{3} \\right)}\\end{matrix}\\right]$"
          },
          "metadata": {},
          "execution_count": 356
        }
      ]
    },
    {
      "cell_type": "markdown",
      "source": [
        "Для вычисления угловой составляющей известно, что компонента для второго сочленения будет представлена вектор-столбцом состоящим из нулей.\n"
      ],
      "metadata": {
        "id": "bKboOgk1DDSr"
      }
    },
    {
      "cell_type": "code",
      "source": [
        "dw2 = sp.Matrix([[0], [0], [0]])"
      ],
      "metadata": {
        "id": "lAgqLoy958sD"
      },
      "execution_count": 357,
      "outputs": []
    },
    {
      "cell_type": "markdown",
      "source": [
        "Компонента первой степени подвижности будет равна:\n",
        "\n"
      ],
      "metadata": {
        "id": "-UBrU9eMFBrY"
      }
    },
    {
      "cell_type": "code",
      "source": [
        "dw1 = sp.eye(3, 3) * sp.Matrix([[0], [0], [1]])"
      ],
      "metadata": {
        "id": "UHCeNG6JFJd0"
      },
      "execution_count": 358,
      "outputs": []
    },
    {
      "cell_type": "code",
      "source": [
        "dw1"
      ],
      "metadata": {
        "colab": {
          "base_uri": "https://localhost:8080/",
          "height": 78
        },
        "id": "4zn6WGimFX-a",
        "outputId": "c860a86b-e4fc-42ff-8cff-47b62bc51a2c"
      },
      "execution_count": 359,
      "outputs": [
        {
          "output_type": "execute_result",
          "data": {
            "text/plain": [
              "Matrix([\n",
              "[0],\n",
              "[0],\n",
              "[1]])"
            ],
            "text/latex": "$\\displaystyle \\left[\\begin{matrix}0\\\\0\\\\1\\end{matrix}\\right]$"
          },
          "metadata": {},
          "execution_count": 359
        }
      ]
    },
    {
      "cell_type": "markdown",
      "source": [
        "Компонента третей степени подвижности:\n",
        "\n",
        "Найдем матрицу поворота второй системы координат (третей степени подвижности) относительно нулевой (известна на этапе решения ПЗК)"
      ],
      "metadata": {
        "id": "9svw5KU9Fvfl"
      }
    },
    {
      "cell_type": "code",
      "source": [
        "rm2 = dh1 * dh2"
      ],
      "metadata": {
        "id": "O9AiayHMFZku"
      },
      "execution_count": 360,
      "outputs": []
    },
    {
      "cell_type": "code",
      "source": [
        "rot2 = sp.Matrix(\n",
        "    [\n",
        "        [rm2[0], rm2[1], rm2[2]],\n",
        "        [rm2[4], rm2[5], rm2[6]],\n",
        "        [rm2[8], rm2[9], rm2[10]]\n",
        "    ]\n",
        ")\n",
        "rot2"
      ],
      "metadata": {
        "colab": {
          "base_uri": "https://localhost:8080/",
          "height": 78
        },
        "id": "JVV25HooKcVg",
        "outputId": "f06d7f0e-8b45-435a-dcd4-4442bc9d40b5"
      },
      "execution_count": 361,
      "outputs": [
        {
          "output_type": "execute_result",
          "data": {
            "text/plain": [
              "Matrix([\n",
              "[ 0, cos(theta_1),  sin(theta_1)],\n",
              "[ 0, sin(theta_1), -cos(theta_1)],\n",
              "[-1,            0,             0]])"
            ],
            "text/latex": "$\\displaystyle \\left[\\begin{matrix}0 & \\cos{\\left(\\theta_{1} \\right)} & \\sin{\\left(\\theta_{1} \\right)}\\\\0 & \\sin{\\left(\\theta_{1} \\right)} & - \\cos{\\left(\\theta_{1} \\right)}\\\\-1 & 0 & 0\\end{matrix}\\right]$"
          },
          "metadata": {},
          "execution_count": 361
        }
      ]
    },
    {
      "cell_type": "code",
      "source": [
        "rot2 * sp.Matrix([[0],[0],[1]])"
      ],
      "metadata": {
        "colab": {
          "base_uri": "https://localhost:8080/",
          "height": 78
        },
        "id": "_Yy_e7CZMrvB",
        "outputId": "1920beda-3837-42bf-fab3-4e812b796760"
      },
      "execution_count": 362,
      "outputs": [
        {
          "output_type": "execute_result",
          "data": {
            "text/plain": [
              "Matrix([\n",
              "[ sin(theta_1)],\n",
              "[-cos(theta_1)],\n",
              "[            0]])"
            ],
            "text/latex": "$\\displaystyle \\left[\\begin{matrix}\\sin{\\left(\\theta_{1} \\right)}\\\\- \\cos{\\left(\\theta_{1} \\right)}\\\\0\\end{matrix}\\right]$"
          },
          "metadata": {},
          "execution_count": 362
        }
      ]
    },
    {
      "cell_type": "markdown",
      "source": [
        "Составим итоговую матрицу Якоби:"
      ],
      "metadata": {
        "id": "Y35nF4VMNQez"
      }
    },
    {
      "cell_type": "code",
      "source": [
        "Jtotal = sp.Matrix([\n",
        "    [Jv],\n",
        "    [dw1, dw2, rot2 * sp.Matrix([[0],[0],[1]])]\n",
        "])"
      ],
      "metadata": {
        "id": "8pk1pbgINK6J"
      },
      "execution_count": 363,
      "outputs": []
    },
    {
      "cell_type": "code",
      "source": [
        "Jtotal"
      ],
      "metadata": {
        "colab": {
          "base_uri": "https://localhost:8080/",
          "height": 139
        },
        "id": "-7DwWF0KNbEc",
        "outputId": "cc738d03-461f-4274-c101-8c862e35dd47"
      },
      "execution_count": 364,
      "outputs": [
        {
          "output_type": "execute_result",
          "data": {
            "text/plain": [
              "Matrix([\n",
              "[-l_3*sin(theta_1)*cos(theta_3) - (d_2 + l_2)*sin(theta_1), cos(theta_1), -l_3*sin(theta_3)*cos(theta_1)],\n",
              "[ l_3*cos(theta_1)*cos(theta_3) + (d_2 + l_2)*cos(theta_1), sin(theta_1), -l_3*sin(theta_1)*sin(theta_3)],\n",
              "[                                                        0,            0,               l_3*cos(theta_3)],\n",
              "[                                                        0,            0,                   sin(theta_1)],\n",
              "[                                                        0,            0,                  -cos(theta_1)],\n",
              "[                                                        1,            0,                              0]])"
            ],
            "text/latex": "$\\displaystyle \\left[\\begin{matrix}- l_{3} \\sin{\\left(\\theta_{1} \\right)} \\cos{\\left(\\theta_{3} \\right)} - \\left(d_{2} + l_{2}\\right) \\sin{\\left(\\theta_{1} \\right)} & \\cos{\\left(\\theta_{1} \\right)} & - l_{3} \\sin{\\left(\\theta_{3} \\right)} \\cos{\\left(\\theta_{1} \\right)}\\\\l_{3} \\cos{\\left(\\theta_{1} \\right)} \\cos{\\left(\\theta_{3} \\right)} + \\left(d_{2} + l_{2}\\right) \\cos{\\left(\\theta_{1} \\right)} & \\sin{\\left(\\theta_{1} \\right)} & - l_{3} \\sin{\\left(\\theta_{1} \\right)} \\sin{\\left(\\theta_{3} \\right)}\\\\0 & 0 & l_{3} \\cos{\\left(\\theta_{3} \\right)}\\\\0 & 0 & \\sin{\\left(\\theta_{1} \\right)}\\\\0 & 0 & - \\cos{\\left(\\theta_{1} \\right)}\\\\1 & 0 & 0\\end{matrix}\\right]$"
          },
          "metadata": {},
          "execution_count": 364
        }
      ]
    },
    {
      "cell_type": "markdown",
      "source": [
        "## Обратная задача кинематики в скоростях"
      ],
      "metadata": {
        "id": "A9tOMp7wSSkc"
      }
    },
    {
      "cell_type": "markdown",
      "source": [
        "Найдем матрицу обратную матрице Якоби линейных скоростей:"
      ],
      "metadata": {
        "id": "EPtfY8qeUEQM"
      }
    },
    {
      "cell_type": "code",
      "source": [
        "Jv.inv()"
      ],
      "metadata": {
        "colab": {
          "base_uri": "https://localhost:8080/",
          "height": 112
        },
        "id": "cfFPBwiSSWJ5",
        "outputId": "8d90b6b9-56e9-4ed6-c3ab-3e36d28be880"
      },
      "execution_count": 365,
      "outputs": [
        {
          "output_type": "execute_result",
          "data": {
            "text/plain": [
              "Matrix([\n",
              "[-sin(theta_1)/(d_2*sin(theta_1)**2 + d_2*cos(theta_1)**2 + l_2*sin(theta_1)**2 + l_2*cos(theta_1)**2 + l_3*sin(theta_1)**2*cos(theta_3) + l_3*cos(theta_1)**2*cos(theta_3)), cos(theta_1)/(d_2*sin(theta_1)**2 + d_2*cos(theta_1)**2 + l_2*sin(theta_1)**2 + l_2*cos(theta_1)**2 + l_3*sin(theta_1)**2*cos(theta_3) + l_3*cos(theta_1)**2*cos(theta_3)),                         0],\n",
              "[                                                                                                                           cos(theta_1)/(sin(theta_1)**2 + cos(theta_1)**2),                                                                                                                           sin(theta_1)/(sin(theta_1)**2 + cos(theta_1)**2), sin(theta_3)/cos(theta_3)],\n",
              "[                                                                                                                                                                          0,                                                                                                                                                                          0,      1/(l_3*cos(theta_3))]])"
            ],
            "text/latex": "$\\displaystyle \\left[\\begin{matrix}- \\frac{\\sin{\\left(\\theta_{1} \\right)}}{d_{2} \\sin^{2}{\\left(\\theta_{1} \\right)} + d_{2} \\cos^{2}{\\left(\\theta_{1} \\right)} + l_{2} \\sin^{2}{\\left(\\theta_{1} \\right)} + l_{2} \\cos^{2}{\\left(\\theta_{1} \\right)} + l_{3} \\sin^{2}{\\left(\\theta_{1} \\right)} \\cos{\\left(\\theta_{3} \\right)} + l_{3} \\cos^{2}{\\left(\\theta_{1} \\right)} \\cos{\\left(\\theta_{3} \\right)}} & \\frac{\\cos{\\left(\\theta_{1} \\right)}}{d_{2} \\sin^{2}{\\left(\\theta_{1} \\right)} + d_{2} \\cos^{2}{\\left(\\theta_{1} \\right)} + l_{2} \\sin^{2}{\\left(\\theta_{1} \\right)} + l_{2} \\cos^{2}{\\left(\\theta_{1} \\right)} + l_{3} \\sin^{2}{\\left(\\theta_{1} \\right)} \\cos{\\left(\\theta_{3} \\right)} + l_{3} \\cos^{2}{\\left(\\theta_{1} \\right)} \\cos{\\left(\\theta_{3} \\right)}} & 0\\\\\\frac{\\cos{\\left(\\theta_{1} \\right)}}{\\sin^{2}{\\left(\\theta_{1} \\right)} + \\cos^{2}{\\left(\\theta_{1} \\right)}} & \\frac{\\sin{\\left(\\theta_{1} \\right)}}{\\sin^{2}{\\left(\\theta_{1} \\right)} + \\cos^{2}{\\left(\\theta_{1} \\right)}} & \\frac{\\sin{\\left(\\theta_{3} \\right)}}{\\cos{\\left(\\theta_{3} \\right)}}\\\\0 & 0 & \\frac{1}{l_{3} \\cos{\\left(\\theta_{3} \\right)}}\\end{matrix}\\right]$"
          },
          "metadata": {},
          "execution_count": 365
        }
      ]
    },
    {
      "cell_type": "markdown",
      "source": [
        "(Пометка - sympy не посчитает тригонометрические тождество и не сведет его к единице)\n",
        "\n",
        "Запишем эту матрицу еще раз в конкретном виде:"
      ],
      "metadata": {
        "id": "aEUEi8AjVvWH"
      }
    },
    {
      "cell_type": "code",
      "source": [
        "Jv_inv_ = sp.Matrix(\n",
        "    [\n",
        "        [sp.sin(sp.symbols('Theta_1')) / (sp.symbols('d_2') + sp.symbols('l_2') + sp.symbols('l_3') * sp.cos(sp.symbols('Theta_3'))),\n",
        "         sp.cos(sp.symbols('Theta_1')) / (sp.symbols('d_2') + sp.symbols('l_2') + sp.symbols('l_3') * sp.cos(sp.symbols('Theta_3'))),\n",
        "         0],\n",
        "        [\n",
        "           sp.cos(sp.symbols('Theta_1')),  sp.sin(sp.symbols('Theta_1')), sp.sin(sp.symbols('Theta_3')) / sp.cos(sp.symbols('Theta_1'))\n",
        "        ],\n",
        "        [0, 0, 1 / (sp.symbols('l_3') * sp.cos(sp.symbols('Theta_3')))]\n",
        "    ]\n",
        ")"
      ],
      "metadata": {
        "id": "hlOQNsR8UgwS"
      },
      "execution_count": 366,
      "outputs": []
    },
    {
      "cell_type": "code",
      "source": [
        "Jv_inv_"
      ],
      "metadata": {
        "colab": {
          "base_uri": "https://localhost:8080/",
          "height": 92
        },
        "id": "NrNTdzI3W-hA",
        "outputId": "79546295-ada7-458a-9d62-079a9d124839"
      },
      "execution_count": 367,
      "outputs": [
        {
          "output_type": "execute_result",
          "data": {
            "text/plain": [
              "Matrix([\n",
              "[sin(Theta_1)/(d_2 + l_2 + l_3*cos(Theta_3)), cos(Theta_1)/(d_2 + l_2 + l_3*cos(Theta_3)),                         0],\n",
              "[                               cos(Theta_1),                                sin(Theta_1), sin(Theta_3)/cos(Theta_1)],\n",
              "[                                          0,                                           0,      1/(l_3*cos(Theta_3))]])"
            ],
            "text/latex": "$\\displaystyle \\left[\\begin{matrix}\\frac{\\sin{\\left(\\Theta_{1} \\right)}}{d_{2} + l_{2} + l_{3} \\cos{\\left(\\Theta_{3} \\right)}} & \\frac{\\cos{\\left(\\Theta_{1} \\right)}}{d_{2} + l_{2} + l_{3} \\cos{\\left(\\Theta_{3} \\right)}} & 0\\\\\\cos{\\left(\\Theta_{1} \\right)} & \\sin{\\left(\\Theta_{1} \\right)} & \\frac{\\sin{\\left(\\Theta_{3} \\right)}}{\\cos{\\left(\\Theta_{1} \\right)}}\\\\0 & 0 & \\frac{1}{l_{3} \\cos{\\left(\\Theta_{3} \\right)}}\\end{matrix}\\right]$"
          },
          "metadata": {},
          "execution_count": 367
        }
      ]
    },
    {
      "cell_type": "code",
      "source": [
        "Vels = sp.Matrix([\n",
        "    [sp.symbols('V_x')],\n",
        "    [sp.symbols('V_y')],\n",
        "    [sp.symbols('V_z')]\n",
        "])"
      ],
      "metadata": {
        "id": "WH8AxUOrZ8Ge"
      },
      "execution_count": 368,
      "outputs": []
    },
    {
      "cell_type": "markdown",
      "source": [
        "Общее решение ОЗК по скорости:"
      ],
      "metadata": {
        "id": "SiaCLmWccQVV"
      }
    },
    {
      "cell_type": "code",
      "source": [
        "Jv_inv_ * Vels"
      ],
      "metadata": {
        "colab": {
          "base_uri": "https://localhost:8080/",
          "height": 93
        },
        "id": "wCOFWpUacM7k",
        "outputId": "486eb9a8-a05c-497e-e1db-193d4cba3fe0"
      },
      "execution_count": 369,
      "outputs": [
        {
          "output_type": "execute_result",
          "data": {
            "text/plain": [
              "Matrix([\n",
              "[V_x*sin(Theta_1)/(d_2 + l_2 + l_3*cos(Theta_3)) + V_y*cos(Theta_1)/(d_2 + l_2 + l_3*cos(Theta_3))],\n",
              "[                              V_x*cos(Theta_1) + V_y*sin(Theta_1) + V_z*sin(Theta_3)/cos(Theta_1)],\n",
              "[                                                                           V_z/(l_3*cos(Theta_3))]])"
            ],
            "text/latex": "$\\displaystyle \\left[\\begin{matrix}\\frac{V_{x} \\sin{\\left(\\Theta_{1} \\right)}}{d_{2} + l_{2} + l_{3} \\cos{\\left(\\Theta_{3} \\right)}} + \\frac{V_{y} \\cos{\\left(\\Theta_{1} \\right)}}{d_{2} + l_{2} + l_{3} \\cos{\\left(\\Theta_{3} \\right)}}\\\\V_{x} \\cos{\\left(\\Theta_{1} \\right)} + V_{y} \\sin{\\left(\\Theta_{1} \\right)} + \\frac{V_{z} \\sin{\\left(\\Theta_{3} \\right)}}{\\cos{\\left(\\Theta_{1} \\right)}}\\\\\\frac{V_{z}}{l_{3} \\cos{\\left(\\Theta_{3} \\right)}}\\end{matrix}\\right]$"
          },
          "metadata": {},
          "execution_count": 369
        }
      ]
    },
    {
      "cell_type": "markdown",
      "source": [
        "Подставим решение ОЗК по варианту и скорости по варианту:"
      ],
      "metadata": {
        "id": "KWVCIzrJc3LS"
      }
    },
    {
      "cell_type": "code",
      "source": [
        "jv_sols = []\n",
        "for i in IK_variants:\n",
        "  Jv_inv__ = sp.Matrix(\n",
        "      [\n",
        "          [sp.sin(np.deg2rad(i[0])) / (i[1] + links_length[1] + links_length[2] * sp.cos(np.deg2rad(i[2]))),\n",
        "          sp.cos(np.deg2rad(i[0])) / (i[1] + links_length[1] +links_length[2] * sp.cos(np.deg2rad(i[2]))),\n",
        "          0],\n",
        "          [\n",
        "            sp.cos(np.deg2rad(i[0])),  sp.sin(np.deg2rad(i[0])), sp.sin(np.deg2rad(i[2])) / sp.cos(np.deg2rad(i[0]))\n",
        "          ],\n",
        "          [0, 0, 1 / (links_length[2] * sp.cos(np.deg2rad(i[2])))]\n",
        "      ]\n",
        "  )\n",
        "  jv_sols.append(Jv_inv__)\n"
      ],
      "metadata": {
        "id": "I7s-mN74cS_R"
      },
      "execution_count": 376,
      "outputs": []
    },
    {
      "cell_type": "code",
      "source": [
        "sp.simplify(jv_sols[0])"
      ],
      "metadata": {
        "colab": {
          "base_uri": "https://localhost:8080/",
          "height": 78
        },
        "id": "zrf0Ji-hcykK",
        "outputId": "542c7a1b-e729-4036-afce-abf3b2a9fdee"
      },
      "execution_count": 377,
      "outputs": [
        {
          "output_type": "execute_result",
          "data": {
            "text/plain": [
              "Matrix([\n",
              "[ 1.20006407841592,  1.60007948286068,                  0],\n",
              "[0.799998928148509, 0.600001429132663, -0.795435477375356],\n",
              "[                0,                 0, -0.589245501098928]])"
            ],
            "text/latex": "$\\displaystyle \\left[\\begin{matrix}1.20006407841592 & 1.60007948286068 & 0\\\\0.799998928148509 & 0.600001429132663 & -0.795435477375356\\\\0 & 0 & -0.589245501098928\\end{matrix}\\right]$"
          },
          "metadata": {},
          "execution_count": 377
        }
      ]
    },
    {
      "cell_type": "code",
      "source": [
        "Vel_var = sp.Matrix([\n",
        "    [],\n",
        "    [],\n",
        "    []\n",
        "])"
      ],
      "metadata": {
        "id": "F8gweYK3ekFl"
      },
      "execution_count": null,
      "outputs": []
    }
  ]
}