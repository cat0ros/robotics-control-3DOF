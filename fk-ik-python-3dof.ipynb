{
  "nbformat": 4,
  "nbformat_minor": 0,
  "metadata": {
    "colab": {
      "provenance": [],
      "authorship_tag": "ABX9TyNIIHxKBTIRoGkCpU70L4o+",
      "include_colab_link": true
    },
    "kernelspec": {
      "name": "python3",
      "display_name": "Python 3"
    },
    "language_info": {
      "name": "python"
    }
  },
  "cells": [
    {
      "cell_type": "markdown",
      "metadata": {
        "id": "view-in-github",
        "colab_type": "text"
      },
      "source": [
        "<a href=\"https://colab.research.google.com/github/cat0ros/robotics-control-3DOF/blob/master/fk-ik-python-3dof.ipynb\" target=\"_parent\"><img src=\"https://colab.research.google.com/assets/colab-badge.svg\" alt=\"Open In Colab\"/></a>"
      ]
    },
    {
      "cell_type": "markdown",
      "source": [
        "# Домашнее задание по управлению роботами №1\n",
        "Выполнил: Романов Ростислав, группа: АДБ-20-09\n",
        "\n",
        "<img src= \"https://drive.google.com/uc?export=view&id=1PpzfCIzka8X_ljyS4piV1AKeBfmu2AZ3\" alt=\"inverse\" width=\"400\" />\n",
        "\n",
        "***Рисунок 1: Пространственное представление схемы манипулятора***\n",
        "\n",
        "<img src= \"https://drive.google.com/uc?export=view&id=1zDL-aUGP3qxmC3ibMRZ7z9wZ6hDe7knu\" alt=\"inverse\" width=\"400\" />\n",
        "\n",
        "***Рисунок 2: Кинематическая схема манипулятора***"
      ],
      "metadata": {
        "id": "6SwnfPVIErN4"
      }
    },
    {
      "cell_type": "markdown",
      "source": [
        "## Параметры и описание робота\n",
        "Длины звеньев робота:"
      ],
      "metadata": {
        "id": "hB1gYlU9JzvL"
      }
    },
    {
      "cell_type": "code",
      "source": [
        "links_length = [1.5, 1.3, 2.2]"
      ],
      "metadata": {
        "id": "ra1yJikgM7sE"
      },
      "execution_count": null,
      "outputs": []
    },
    {
      "cell_type": "markdown",
      "source": [
        "## Библиотеки для работы"
      ],
      "metadata": {
        "id": "94P6phCPHZgH"
      }
    },
    {
      "cell_type": "code",
      "execution_count": null,
      "metadata": {
        "id": "CUjvmxeX5r7S"
      },
      "outputs": [],
      "source": [
        "from matplotlib import pyplot as plt\n",
        "from matplotlib import animation\n",
        "import numpy as np\n",
        "import numpy.linalg as inv\n",
        "from IPython.display import HTML\n",
        "%matplotlib notebook"
      ]
    },
    {
      "cell_type": "markdown",
      "source": [
        "## Решение прямой задачи кинематики\n",
        "**Зададим однородные матрицы**\n",
        "\n",
        "Однородные матрицы поворота:"
      ],
      "metadata": {
        "id": "_iv-I3MTEcW6"
      }
    },
    {
      "cell_type": "code",
      "source": [
        "def Rx(q):\n",
        "  return np.array([\n",
        "      [1, 0, 0, 0],\n",
        "      [0, np.cos(q), -np.sin(q), 0],\n",
        "      [0, np.sin(q), np.cos(q), 0],\n",
        "      [0, 0, 0, 1]\n",
        "  ])\n",
        "\n",
        "def Ry(q):\n",
        "  return np.array([\n",
        "      [np.cos(q), 0, -np.sin(q), 0],\n",
        "      [0, 1, 0, 0],\n",
        "      [np.sin(q), 0, np.cos(q), 0],\n",
        "      [0, 0, 0, 1]\n",
        "  ])\n",
        "\n",
        "def Rz(q):\n",
        "  return np.array([\n",
        "      [np.cos(q), -np.sin(q), 0, 0],\n",
        "      [np.sin(q), np.cos(q), 0, 0],\n",
        "      [0, 0, 1, 0],\n",
        "      [0, 0, 0, 1]\n",
        "  ])"
      ],
      "metadata": {
        "id": "o9IdUnvi571v"
      },
      "execution_count": null,
      "outputs": []
    },
    {
      "cell_type": "markdown",
      "source": [
        "Однородные матрицы перемещения:"
      ],
      "metadata": {
        "id": "5KnWuYMNEn7K"
      }
    },
    {
      "cell_type": "code",
      "source": [
        "def Tx(d):\n",
        "  return np.array([\n",
        "      [1, 0, 0, d],\n",
        "      [0, 1, 0, 0],\n",
        "      [0, 0, 1, 0],\n",
        "      [0, 0, 0, 1]\n",
        "  ])\n",
        "\n",
        "def Ty(d):\n",
        "  return np.array([\n",
        "      [1, 0, 0, 0],\n",
        "      [0, 1, 0, d],\n",
        "      [0, 0, 1, 0],\n",
        "      [0, 0, 0, 1]\n",
        "  ])\n",
        "\n",
        "def Tz(d):\n",
        "  return np.array([\n",
        "      [1, 0, 0, 0],\n",
        "      [0, 1, 0, 0],\n",
        "      [0, 0, 1, d],\n",
        "      [0, 0, 0, 1]\n",
        "  ])"
      ],
      "metadata": {
        "id": "dUUgAnn3D8qP"
      },
      "execution_count": null,
      "outputs": []
    },
    {
      "cell_type": "code",
      "source": [],
      "metadata": {
        "id": "SaE6RnmDEW3e"
      },
      "execution_count": null,
      "outputs": []
    }
  ]
}