{
  "nbformat": 4,
  "nbformat_minor": 0,
  "metadata": {
    "colab": {
      "provenance": [],
      "authorship_tag": "ABX9TyO5AqAM8qL5hdBlhHNEJrxP",
      "include_colab_link": true
    },
    "kernelspec": {
      "name": "python3",
      "display_name": "Python 3"
    },
    "language_info": {
      "name": "python"
    }
  },
  "cells": [
    {
      "cell_type": "markdown",
      "metadata": {
        "id": "view-in-github",
        "colab_type": "text"
      },
      "source": [
        "<a href=\"https://colab.research.google.com/github/cat0ros/robotics-control-3DOF/blob/master/fk-ik-python-3dof.ipynb\" target=\"_parent\"><img src=\"https://colab.research.google.com/assets/colab-badge.svg\" alt=\"Open In Colab\"/></a>"
      ]
    },
    {
      "cell_type": "markdown",
      "source": [
        "# Домашнее задание по управлению роботами №1\n",
        "Выполнил: Романов Ростислав, группа: АДБ-20-09"
      ],
      "metadata": {
        "id": "6SwnfPVIErN4"
      }
    },
    {
      "cell_type": "code",
      "source": [
        "gr_number = 9\n",
        "my_pos = 19\n",
        "\n",
        "sch_num = (gr_number + my_pos) % 3 + 1\n",
        "tab1_num = ((gr_number + my_pos) // 4) % 9 + 1\n",
        "tab2_num = (my_pos % 6) + 1\n",
        "tab3_num = (my_pos % 3) + 1\n",
        "\n",
        "{\"номер группы:\": gr_number, \"номер в списке: \": my_pos, \"номер схемы:\": sch_num, \"таблица 1: \": tab1_num, \"таб 2:\": tab2_num, \"таб 3:\": tab3_num}"
      ],
      "metadata": {
        "colab": {
          "base_uri": "https://localhost:8080/"
        },
        "id": "G_b4EJd8Nxyx",
        "outputId": "34bbb818-ea1d-4571-a49a-744ef03195d6"
      },
      "execution_count": null,
      "outputs": [
        {
          "output_type": "execute_result",
          "data": {
            "text/plain": [
              "{'номер группы:': 9,\n",
              " 'номер в списке: ': 19,\n",
              " 'номер схемы:': 2,\n",
              " 'таблица 1: ': 8,\n",
              " 'таб 2:': 2,\n",
              " 'таб 3:': 2}"
            ]
          },
          "metadata": {},
          "execution_count": 14
        }
      ]
    },
    {
      "cell_type": "markdown",
      "source": [
        "## Параметры и описание робота\n",
        "Длины звеньев робота:"
      ],
      "metadata": {
        "id": "hB1gYlU9JzvL"
      }
    },
    {
      "cell_type": "code",
      "source": [
        "links_length = [1.5, 1.3, 2.2]"
      ],
      "metadata": {
        "id": "ra1yJikgM7sE"
      },
      "execution_count": null,
      "outputs": []
    },
    {
      "cell_type": "markdown",
      "source": [
        "## Библиотеки для работы"
      ],
      "metadata": {
        "id": "94P6phCPHZgH"
      }
    },
    {
      "cell_type": "code",
      "execution_count": null,
      "metadata": {
        "id": "CUjvmxeX5r7S"
      },
      "outputs": [],
      "source": [
        "from matplotlib import pyplot as plt\n",
        "from matplotlib import animation\n",
        "import numpy as np\n",
        "import numpy.linalg as inv\n",
        "from IPython.display import HTML\n",
        "%matplotlib notebook"
      ]
    },
    {
      "cell_type": "markdown",
      "source": [
        "## Решение прямой задачи кинематики\n",
        "**Зададим однородные матрицы**\n",
        "\n",
        "Однородные матрицы поворота:"
      ],
      "metadata": {
        "id": "_iv-I3MTEcW6"
      }
    },
    {
      "cell_type": "code",
      "source": [
        "def Rx(q):\n",
        "  return np.array([\n",
        "      [1, 0, 0, 0],\n",
        "      [0, np.cos(q), -np.sin(q), 0],\n",
        "      [0, np.sin(q), np.cos(q), 0],\n",
        "      [0, 0, 0, 1]\n",
        "  ])\n",
        "\n",
        "def Ry(q):\n",
        "  return np.array([\n",
        "      [np.cos(q), 0, -np.sin(q), 0],\n",
        "      [0, 1, 0, 0],\n",
        "      [np.sin(q), 0, np.cos(q), 0],\n",
        "      [0, 0, 0, 1]\n",
        "  ])\n",
        "\n",
        "def Rz(q):\n",
        "  return np.array([\n",
        "      [np.cos(q), -np.sin(q), 0, 0],\n",
        "      [np.sin(q), np.cos(q), 0, 0],\n",
        "      [0, 0, 1, 0],\n",
        "      [0, 0, 0, 1]\n",
        "  ])"
      ],
      "metadata": {
        "id": "o9IdUnvi571v"
      },
      "execution_count": null,
      "outputs": []
    },
    {
      "cell_type": "markdown",
      "source": [
        "Однородные матрицы перемещения:"
      ],
      "metadata": {
        "id": "5KnWuYMNEn7K"
      }
    },
    {
      "cell_type": "code",
      "source": [
        "def Tx(d):\n",
        "  return np.array([\n",
        "      [1, 0, 0, d],\n",
        "      [0, 1, 0, 0],\n",
        "      [0, 0, 1, 0],\n",
        "      [0, 0, 0, 1]\n",
        "  ])\n",
        "\n",
        "def Ty(d):\n",
        "  return np.array([\n",
        "      [1, 0, 0, 0],\n",
        "      [0, 1, 0, d],\n",
        "      [0, 0, 1, 0],\n",
        "      [0, 0, 0, 1]\n",
        "  ])\n",
        "\n",
        "def Tz(d):\n",
        "  return np.array([\n",
        "      [1, 0, 0, 0],\n",
        "      [0, 1, 0, 0],\n",
        "      [0, 0, 1, d],\n",
        "      [0, 0, 0, 1]\n",
        "  ])"
      ],
      "metadata": {
        "id": "dUUgAnn3D8qP"
      },
      "execution_count": null,
      "outputs": []
    },
    {
      "cell_type": "code",
      "source": [],
      "metadata": {
        "id": "SaE6RnmDEW3e"
      },
      "execution_count": null,
      "outputs": []
    }
  ]
}